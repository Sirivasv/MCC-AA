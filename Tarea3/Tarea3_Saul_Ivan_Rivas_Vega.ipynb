{
  "nbformat": 4,
  "nbformat_minor": 0,
  "metadata": {
    "colab": {
      "name": "Tarea3_Saul_Ivan_Rivas_Vega.ipynb",
      "provenance": [],
      "collapsed_sections": [
        "pJz2eg2OaThz",
        "VfuTI-3xe6mx",
        "tJ9yjbwNCoj5",
        "vEEb0ZnHVgzx",
        "2W2jDaeoXH16",
        "9bRokMbX7dOa",
        "aMSE3uwv0cjW",
        "-FFYBaIEWk5G",
        "ZrOBmcj7sgbX",
        "qCdvjA6MI9g_",
        "6rrCjTnZMkoc",
        "UXy1LNw7R3j3",
        "F6zv3lEZHbNe",
        "UcYF_aCr140e",
        "WXrPne0XawJ8",
        "oZoQvPTnZ4wl",
        "CQJfSJ0BbNTx",
        "g_2WvFj1eEpm",
        "WwWebx8bFPDK",
        "Lsd8yLqhexbO",
        "3D8NeJrIe6YZ",
        "_UoonQSXGOJZ",
        "pckOCab1KPZZ",
        "k8xguZydhBG8",
        "vSQGUNLJ1twF",
        "662LmM1C13tn",
        "OHHVVW6w8Niy",
        "tK2Fyv65AE1o",
        "Xh35wE0D_fug",
        "PDcCMzCG_oVc",
        "yYd7p6JKV7fG",
        "dq6SLCM_ZEca",
        "A2bkxza8NaKh",
        "UR6IzWHFiGP_",
        "F8rTT5SKykj4",
        "LDaBPX8Py5xA",
        "W0D7w02EJfAY",
        "NBkIR7zNJXsJ",
        "3s36qXgBzBeY",
        "1pbNiW-O-21_",
        "3gDgpexP_xvW",
        "pCpJ0tFty8-l",
        "2rfs5Zn8zA9x",
        "s-U4jbPWEqcl",
        "Ty2rJdWREwy2",
        "yKAnHWAzWURN"
      ],
      "toc_visible": true
    },
    "kernelspec": {
      "name": "python3",
      "display_name": "Python 3"
    }
  },
  "cells": [
    {
      "cell_type": "markdown",
      "metadata": {
        "id": "AdmvQyuZHNHM",
        "colab_type": "text"
      },
      "source": [
        "# **Tarea 3**\n",
        "Saul Ivan Rivas Vega"
      ]
    },
    {
      "cell_type": "markdown",
      "metadata": {
        "id": "pJz2eg2OaThz",
        "colab_type": "text"
      },
      "source": [
        "## Importamos las librerias necesarias"
      ]
    },
    {
      "cell_type": "code",
      "metadata": {
        "id": "1zD8bC5RabIA",
        "colab_type": "code",
        "colab": {}
      },
      "source": [
        "import numpy as np\n",
        "import pandas as pd\n",
        "import matplotlib.pyplot as plt\n",
        "from itertools import chain\n",
        "from itertools import combinations_with_replacement as combinations_w_r\n",
        "from scipy.sparse.linalg import lsqr\n",
        "\n",
        "# Implementación de norma l1 LASSO de sickit learn\n",
        "from sklearn.linear_model import Lasso\n",
        "\n",
        "# Definimos el seed para el random\n",
        "np.random.seed(0)"
      ],
      "execution_count": 0,
      "outputs": []
    },
    {
      "cell_type": "markdown",
      "metadata": {
        "id": "VfuTI-3xe6mx",
        "colab_type": "text"
      },
      "source": [
        "## Definimos funciones globales"
      ]
    },
    {
      "cell_type": "markdown",
      "metadata": {
        "id": "tJ9yjbwNCoj5",
        "colab_type": "text"
      },
      "source": [
        "#### Definimos la función de expansión de polinomios\n",
        "Esta función recibe una matriz, cada fila es un vector de atributos de cada muestra, también recibe el grado del polinomio.\n",
        "La función devuelve una matriz con cada fila con la correspondiente expansion polinomial.\n",
        "Ejemplo para una matriz de 2 muestras, una con parametros con valor 'a' y 'b', y la otra con los valores 'c' y 'd', con grado igual a 2:\n",
        "\n",
        "getPoly([[a,b],[c,d]], 2) = [[1,a,b,aa,bb], [1,c,d,cc,dd]]\n",
        "\n",
        "No toma en cuenta las interacciones."
      ]
    },
    {
      "cell_type": "code",
      "metadata": {
        "id": "u6e3yYB7D-He",
        "colab_type": "code",
        "colab": {}
      },
      "source": [
        "def getPoly(X, degree):\n",
        "  phi_X = X\n",
        "  for i in range(degree - 1):\n",
        "    powerX = np.power(X, i + 2)\n",
        "    phi_X = np.column_stack((phi_X, powerX))\n",
        "    \n",
        "  ones_column = np.ones(phi_X.shape[0])\n",
        "  return np.column_stack((ones_column, phi_X))"
      ],
      "execution_count": 0,
      "outputs": []
    },
    {
      "cell_type": "markdown",
      "metadata": {
        "id": "vEEb0ZnHVgzx",
        "colab_type": "text"
      },
      "source": [
        "#### Definimos la estimación del vector $\\hat{\\theta}_{emv}$ utilizando minimos cuadrados."
      ]
    },
    {
      "cell_type": "code",
      "metadata": {
        "id": "5Q5Nf0yrV1x7",
        "colab_type": "code",
        "colab": {}
      },
      "source": [
        "def theta_ms(X, y):\n",
        "\n",
        "  # Obtenemos la solución de minimos cuadrados para esta ecuación lineal\n",
        "  out = lsqr(X, y)\n",
        "  theta = out[0]\n",
        "\n",
        "  # Devolvemos el vector theta\n",
        "  return theta"
      ],
      "execution_count": 0,
      "outputs": []
    },
    {
      "cell_type": "markdown",
      "metadata": {
        "id": "2W2jDaeoXH16",
        "colab_type": "text"
      },
      "source": [
        "#### Definimos la función de evaluación de un modelo lineal es decir multiplicar una matriz de diseño por un vector $\\hat{\\theta}$."
      ]
    },
    {
      "cell_type": "code",
      "metadata": {
        "id": "PvL5JSKVXUU4",
        "colab_type": "code",
        "colab": {}
      },
      "source": [
        "def linear_model_f(Xp, theta):\n",
        "  return Xp @ theta"
      ],
      "execution_count": 0,
      "outputs": []
    },
    {
      "cell_type": "markdown",
      "metadata": {
        "colab_type": "text",
        "id": "9bRokMbX7dOa"
      },
      "source": [
        "#### Definimos la función de evaluación de un modelo logistico es decir el resultado de evaluar una función sigmoide a una multiplicación de una matriz de diseño por un vector $\\hat{\\theta}$  y evaluar una función sigmoide."
      ]
    },
    {
      "cell_type": "code",
      "metadata": {
        "id": "iiDR_ERm7d9h",
        "colab_type": "code",
        "colab": {}
      },
      "source": [
        "def logistic_model_f(Xp, theta):\n",
        "  y_hat = Xp @ theta\n",
        "  y_hat = np.ones(shape=y_hat.shape) / (np.exp(-y_hat) + 1)\n",
        "  return y_hat"
      ],
      "execution_count": 0,
      "outputs": []
    },
    {
      "cell_type": "markdown",
      "metadata": {
        "id": "aMSE3uwv0cjW",
        "colab_type": "text"
      },
      "source": [
        "#### Definimos la función para calcular la suma de errores cuadráticos "
      ]
    },
    {
      "cell_type": "code",
      "metadata": {
        "id": "TiZ5qGzV02kZ",
        "colab_type": "code",
        "colab": {}
      },
      "source": [
        "def sum_square_error(y, y_hat):\n",
        "  return np.square(y - y_hat).sum()"
      ],
      "execution_count": 0,
      "outputs": []
    },
    {
      "cell_type": "markdown",
      "metadata": {
        "id": "-FFYBaIEWk5G",
        "colab_type": "text"
      },
      "source": [
        "#### Definimos la estimación del vector $\\hat{\\theta}_{emv}$ utilizando minimos cuadrados con penalización de norma $l_2$."
      ]
    },
    {
      "cell_type": "code",
      "metadata": {
        "id": "ThDBb58UWtAG",
        "colab_type": "code",
        "colab": {}
      },
      "source": [
        "def theta_ms_l2(X, y, current_lambda):\n",
        "  lcI = current_lambda * np.identity(X.shape[1])\n",
        "  theta = np.linalg.inv(lcI + X.T @ X) @ X.T @ y\n",
        "  return theta"
      ],
      "execution_count": 0,
      "outputs": []
    },
    {
      "cell_type": "markdown",
      "metadata": {
        "colab_type": "text",
        "id": "ZrOBmcj7sgbX"
      },
      "source": [
        "#### Definimos la estimación del vector $\\hat{\\theta}_{emv}$ utilizando minimos cuadrados con penalización de norma $l_1$ (LASSO)."
      ]
    },
    {
      "cell_type": "code",
      "metadata": {
        "colab_type": "code",
        "id": "M6VgV4T8sgbY",
        "colab": {}
      },
      "source": [
        "def theta_ms_l1(X, y, current_lambda):\n",
        "  model = Lasso(alpha=current_lambda, tol=0.8)\n",
        "  model.fit(X,y)\n",
        "  theta = model.coef_\n",
        "  return theta"
      ],
      "execution_count": 0,
      "outputs": []
    },
    {
      "cell_type": "markdown",
      "metadata": {
        "id": "qCdvjA6MI9g_",
        "colab_type": "text"
      },
      "source": [
        "### Definimos la función para el cálculo de la curva ROC"
      ]
    },
    {
      "cell_type": "code",
      "metadata": {
        "id": "H5TCNOggJH3H",
        "colab_type": "code",
        "colab": {}
      },
      "source": [
        "def ratio_ft(probabilities, threshold_i):\n",
        "  return np.mean(probabilities >= threshold_i)\n",
        "\n",
        "\n",
        "def roc(y_hat, y):\n",
        "  positive_el = np.where(y == 1)\n",
        "  negative_el = np.where(y == 0)\n",
        "  \n",
        "  unique_probabilities = np.unique(y_hat)\n",
        "  rtps = np.zeros(unique_probabilities.shape[0])\n",
        "  rfps = np.zeros_like(rtps)\n",
        "  \n",
        "  for i, p in enumerate(unique_probabilities[::-1]):\n",
        "    rtps[i] = ratio_ft(y_hat[positive_el], p)\n",
        "    rfps[i] = ratio_ft(y_hat[negative_el], p)\n",
        "\n",
        "  return rtps, rfps"
      ],
      "execution_count": 0,
      "outputs": []
    },
    {
      "cell_type": "markdown",
      "metadata": {
        "id": "6rrCjTnZMkoc",
        "colab_type": "text"
      },
      "source": [
        "### Definimos la función que calcula el area bajo la curva ROC y Precisión exhaustividad"
      ]
    },
    {
      "cell_type": "code",
      "metadata": {
        "id": "DB9ZOcuHMpYO",
        "colab_type": "code",
        "colab": {}
      },
      "source": [
        "def polygon_area(vertices):\n",
        "    area = 0.0\n",
        "    n_vert = len(vertices)\n",
        "    for i in range(n_vert - 1):\n",
        "        area = area + vertices[i][0] * vertices[i + 1][1]\n",
        "        area = area - vertices[i + 1][0] * vertices[i][1]\n",
        "\n",
        "    area = area + vertices[n_vert - 1][0] * vertices[0][1]\n",
        "    area = area - vertices[0][0] * vertices[n_vert - 1][1]\n",
        "\n",
        "    return 0.5 * abs(area)\n",
        "\n",
        "def aucrocprecex(rfp, rtp, initial_y):\n",
        "  auc = 0.0\n",
        "  fprev = 0.0\n",
        "  vprev = initial_y\n",
        "  for i,(f,v) in enumerate(zip(rfp, rtp)):\n",
        "    auc += polygon_area([[fprev, 0], [fprev, vprev], [f, v], [f, 0]])\n",
        "    fprev = f\n",
        "    vprev = v\n",
        "\n",
        "  return auc + polygon_area([[fprev, 0], [fprev, vprev], [1, 1], [1, 0]])"
      ],
      "execution_count": 0,
      "outputs": []
    },
    {
      "cell_type": "markdown",
      "metadata": {
        "colab_type": "text",
        "id": "UXy1LNw7R3j3"
      },
      "source": [
        "### Definimos la función para el cálculo de la curva Precisión Exhaustividad"
      ]
    },
    {
      "cell_type": "code",
      "metadata": {
        "colab_type": "code",
        "id": "h_Z__uCcR3j4",
        "colab": {}
      },
      "source": [
        "def prec_exha(y_hat, y):\n",
        "  positive_el = np.where(y == 1)\n",
        "  \n",
        "  unique_probabilities = np.unique(y_hat)\n",
        "  exha_val = np.zeros(unique_probabilities.shape[0])\n",
        "  prec_val = np.zeros_like(exha_val)\n",
        "  \n",
        "  for i, p in enumerate(unique_probabilities[::-1]):\n",
        "    exha_val[i] = ratio_ft(y_hat[positive_el], p)\n",
        "    true_positives = y_hat[positive_el] >= p\n",
        "    selected_items = y_hat >= p\n",
        "    prec_val[i] =  np.sum(true_positives) / np.sum(selected_items)\n",
        "\n",
        "    \n",
        "\n",
        "  return exha_val, prec_val"
      ],
      "execution_count": 0,
      "outputs": []
    },
    {
      "cell_type": "markdown",
      "metadata": {
        "id": "F6zv3lEZHbNe",
        "colab_type": "text"
      },
      "source": [
        "## Ejercicio 1 - Predicción de precios de casas\n",
        "\n",
        "A partir de la base de datos de precios de casas de Boston (Boston Housing Data), realiza la regresión de los precios de las casas con las siguientes variantes:\n",
        "1. Mínimos cuadrados con expansión polinomial de diferentes grados.\n",
        "2. Mínimos cuadrados con expansión polinomial de grado 20 y penalización por norma $\\mathcal{l}_1$ y $\\mathcal{l}_2$ con diferentes valores de λ.\n",
        "3. Mínimos cuadrados con expansión polinomial de grado 2 y selección de atributos.\n",
        "\n",
        "Grafica el error cuadrático medio en entrenamiento y validación con respecto al grado del polinomio, valor de λ y número de atributos.\n",
        "Todos los modelos deberán ser evaluados con 10 repeticiones de\n",
        "validación cruzada de 5 particiones."
      ]
    },
    {
      "cell_type": "markdown",
      "metadata": {
        "id": "UcYF_aCr140e",
        "colab_type": "text"
      },
      "source": [
        "### Obtenemos la base de datos"
      ]
    },
    {
      "cell_type": "code",
      "metadata": {
        "id": "FtLnTCe-3hat",
        "colab_type": "code",
        "outputId": "73270664-081e-45b7-ead4-03797395b443",
        "colab": {
          "base_uri": "https://localhost:8080/"
        }
      },
      "source": [
        "!wget -O housing.data http://archive.ics.uci.edu/ml/machine-learning-databases/housing/housing.data"
      ],
      "execution_count": 0,
      "outputs": [
        {
          "output_type": "stream",
          "text": [
            "--2020-04-17 08:26:22--  http://archive.ics.uci.edu/ml/machine-learning-databases/housing/housing.data\r\n",
            "Resolving archive.ics.uci.edu (archive.ics.uci.edu)... 128.195.10.252\n",
            "Connecting to archive.ics.uci.edu (archive.ics.uci.edu)|128.195.10.252|:80... connected.\n",
            "HTTP request sent, awaiting response... 200 OK\n",
            "Length: 49082 (48K) [application/x-httpd-php]\n",
            "Saving to: ‘housing.data’\n",
            "\n",
            "housing.data        100%[===================>]  47.93K  --.-KB/s    in 0.1s    \n",
            "\n",
            "2020-04-17 08:26:22 (346 KB/s) - ‘housing.data’ saved [49082/49082]\n",
            "\n"
          ],
          "name": "stdout"
        }
      ]
    },
    {
      "cell_type": "markdown",
      "metadata": {
        "id": "WXrPne0XawJ8",
        "colab_type": "text"
      },
      "source": [
        "#### Obtenemos la descripción de los atributos\n"
      ]
    },
    {
      "cell_type": "code",
      "metadata": {
        "id": "ysDPQista5yZ",
        "colab_type": "code",
        "outputId": "3ea26daa-7864-4027-db2e-80b6ce6ae7be",
        "colab": {
          "base_uri": "https://localhost:8080/"
        }
      },
      "source": [
        "!wget -O housing.names http://archive.ics.uci.edu/ml/machine-learning-databases/housing/housing.names"
      ],
      "execution_count": 0,
      "outputs": [
        {
          "output_type": "stream",
          "text": [
            "--2020-04-17 08:26:22--  http://archive.ics.uci.edu/ml/machine-learning-databases/housing/housing.names\r\n",
            "Resolving archive.ics.uci.edu (archive.ics.uci.edu)... 128.195.10.252\n",
            "Connecting to archive.ics.uci.edu (archive.ics.uci.edu)|128.195.10.252|:80... connected.\n",
            "HTTP request sent, awaiting response... 200 OK\n",
            "Length: 2080 (2.0K) [application/x-httpd-php]\n",
            "Saving to: ‘housing.names’\n",
            "\n",
            "housing.names       100%[===================>]   2.03K  --.-KB/s    in 0.003s  \n",
            "\n",
            "2020-04-17 08:26:22 (591 KB/s) - ‘housing.names’ saved [2080/2080]\n",
            "\n"
          ],
          "name": "stdout"
        }
      ]
    },
    {
      "cell_type": "markdown",
      "metadata": {
        "id": "oZoQvPTnZ4wl",
        "colab_type": "text"
      },
      "source": [
        "#### Visualizamos la descripción de los atributos\n",
        "\n"
      ]
    },
    {
      "cell_type": "code",
      "metadata": {
        "id": "6TviuGgaZ8Vm",
        "colab_type": "code",
        "outputId": "a9166f3d-acf3-4e2e-d4ac-52e65d143f36",
        "colab": {
          "base_uri": "https://localhost:8080/"
        }
      },
      "source": [
        "f = open('housing.names', 'r')\n",
        "file_contents = f.read()\n",
        "print(file_contents)"
      ],
      "execution_count": 0,
      "outputs": [
        {
          "output_type": "stream",
          "text": [
            "1. Title: Boston Housing Data\n",
            "\n",
            "2. Sources:\n",
            "   (a) Origin:  This dataset was taken from the StatLib library which is\n",
            "                maintained at Carnegie Mellon University.\n",
            "   (b) Creator:  Harrison, D. and Rubinfeld, D.L. 'Hedonic prices and the \n",
            "                 demand for clean air', J. Environ. Economics & Management,\n",
            "                 vol.5, 81-102, 1978.\n",
            "   (c) Date: July 7, 1993\n",
            "\n",
            "3. Past Usage:\n",
            "   -   Used in Belsley, Kuh & Welsch, 'Regression diagnostics ...', Wiley, \n",
            "       1980.   N.B. Various transformations are used in the table on\n",
            "       pages 244-261.\n",
            "    -  Quinlan,R. (1993). Combining Instance-Based and Model-Based Learning.\n",
            "       In Proceedings on the Tenth International Conference of Machine \n",
            "       Learning, 236-243, University of Massachusetts, Amherst. Morgan\n",
            "       Kaufmann.\n",
            "\n",
            "4. Relevant Information:\n",
            "\n",
            "   Concerns housing values in suburbs of Boston.\n",
            "\n",
            "5. Number of Instances: 506\n",
            "\n",
            "6. Number of Attributes: 13 continuous attributes (including \"class\"\n",
            "                         attribute \"MEDV\"), 1 binary-valued attribute.\n",
            "\n",
            "7. Attribute Information:\n",
            "\n",
            "    1. CRIM      per capita crime rate by town\n",
            "    2. ZN        proportion of residential land zoned for lots over \n",
            "                 25,000 sq.ft.\n",
            "    3. INDUS     proportion of non-retail business acres per town\n",
            "    4. CHAS      Charles River dummy variable (= 1 if tract bounds \n",
            "                 river; 0 otherwise)\n",
            "    5. NOX       nitric oxides concentration (parts per 10 million)\n",
            "    6. RM        average number of rooms per dwelling\n",
            "    7. AGE       proportion of owner-occupied units built prior to 1940\n",
            "    8. DIS       weighted distances to five Boston employment centres\n",
            "    9. RAD       index of accessibility to radial highways\n",
            "    10. TAX      full-value property-tax rate per $10,000\n",
            "    11. PTRATIO  pupil-teacher ratio by town\n",
            "    12. B        1000(Bk - 0.63)^2 where Bk is the proportion of blacks \n",
            "                 by town\n",
            "    13. LSTAT    % lower status of the population\n",
            "    14. MEDV     Median value of owner-occupied homes in $1000's\n",
            "\n",
            "8. Missing Attribute Values:  None.\n",
            "\n",
            "\n",
            "\n",
            "\n"
          ],
          "name": "stdout"
        }
      ]
    },
    {
      "cell_type": "markdown",
      "metadata": {
        "id": "CQJfSJ0BbNTx",
        "colab_type": "text"
      },
      "source": [
        "#### Visualizamos la base de datos incorporando la fila de los atributos"
      ]
    },
    {
      "cell_type": "code",
      "metadata": {
        "id": "1z8YLdPPbZPt",
        "colab_type": "code",
        "outputId": "dfc8b323-17cf-459c-e07e-30b05806dd94",
        "colab": {
          "base_uri": "https://localhost:8080/"
        }
      },
      "source": [
        "atribute_header = ['CRIM', 'ZN', 'INDUS', 'CHAS', 'NOX', 'RM', 'AGE', 'DIS', 'RAD', 'TAX', 'PTRATIO', 'B', 'LSTAT', 'MEDV']\n",
        "housing_data = pd.read_csv('housing.data', header=None, delim_whitespace=True)\n",
        "housing_data.columns = atribute_header\n",
        "housing_data"
      ],
      "execution_count": 0,
      "outputs": [
        {
          "output_type": "execute_result",
          "data": {
            "text/plain": [
              "        CRIM    ZN  INDUS  CHAS    NOX     RM   AGE     DIS  RAD    TAX  \\\n",
              "0    0.00632  18.0   2.31     0  0.538  6.575  65.2  4.0900    1  296.0   \n",
              "1    0.02731   0.0   7.07     0  0.469  6.421  78.9  4.9671    2  242.0   \n",
              "2    0.02729   0.0   7.07     0  0.469  7.185  61.1  4.9671    2  242.0   \n",
              "3    0.03237   0.0   2.18     0  0.458  6.998  45.8  6.0622    3  222.0   \n",
              "4    0.06905   0.0   2.18     0  0.458  7.147  54.2  6.0622    3  222.0   \n",
              "..       ...   ...    ...   ...    ...    ...   ...     ...  ...    ...   \n",
              "501  0.06263   0.0  11.93     0  0.573  6.593  69.1  2.4786    1  273.0   \n",
              "502  0.04527   0.0  11.93     0  0.573  6.120  76.7  2.2875    1  273.0   \n",
              "503  0.06076   0.0  11.93     0  0.573  6.976  91.0  2.1675    1  273.0   \n",
              "504  0.10959   0.0  11.93     0  0.573  6.794  89.3  2.3889    1  273.0   \n",
              "505  0.04741   0.0  11.93     0  0.573  6.030  80.8  2.5050    1  273.0   \n",
              "\n",
              "     PTRATIO       B  LSTAT  MEDV  \n",
              "0       15.3  396.90   4.98  24.0  \n",
              "1       17.8  396.90   9.14  21.6  \n",
              "2       17.8  392.83   4.03  34.7  \n",
              "3       18.7  394.63   2.94  33.4  \n",
              "4       18.7  396.90   5.33  36.2  \n",
              "..       ...     ...    ...   ...  \n",
              "501     21.0  391.99   9.67  22.4  \n",
              "502     21.0  396.90   9.08  20.6  \n",
              "503     21.0  396.90   5.64  23.9  \n",
              "504     21.0  393.45   6.48  22.0  \n",
              "505     21.0  396.90   7.88  11.9  \n",
              "\n",
              "[506 rows x 14 columns]"
            ],
            "text/html": [
              "<div>\n",
              "<style scoped>\n",
              "    .dataframe tbody tr th:only-of-type {\n",
              "        vertical-align: middle;\n",
              "    }\n",
              "\n",
              "    .dataframe tbody tr th {\n",
              "        vertical-align: top;\n",
              "    }\n",
              "\n",
              "    .dataframe thead th {\n",
              "        text-align: right;\n",
              "    }\n",
              "</style>\n",
              "<table border=\"1\" class=\"dataframe\">\n",
              "  <thead>\n",
              "    <tr style=\"text-align: right;\">\n",
              "      <th></th>\n",
              "      <th>CRIM</th>\n",
              "      <th>ZN</th>\n",
              "      <th>INDUS</th>\n",
              "      <th>CHAS</th>\n",
              "      <th>NOX</th>\n",
              "      <th>RM</th>\n",
              "      <th>AGE</th>\n",
              "      <th>DIS</th>\n",
              "      <th>RAD</th>\n",
              "      <th>TAX</th>\n",
              "      <th>PTRATIO</th>\n",
              "      <th>B</th>\n",
              "      <th>LSTAT</th>\n",
              "      <th>MEDV</th>\n",
              "    </tr>\n",
              "  </thead>\n",
              "  <tbody>\n",
              "    <tr>\n",
              "      <th>0</th>\n",
              "      <td>0.00632</td>\n",
              "      <td>18.0</td>\n",
              "      <td>2.31</td>\n",
              "      <td>0</td>\n",
              "      <td>0.538</td>\n",
              "      <td>6.575</td>\n",
              "      <td>65.2</td>\n",
              "      <td>4.0900</td>\n",
              "      <td>1</td>\n",
              "      <td>296.0</td>\n",
              "      <td>15.3</td>\n",
              "      <td>396.90</td>\n",
              "      <td>4.98</td>\n",
              "      <td>24.0</td>\n",
              "    </tr>\n",
              "    <tr>\n",
              "      <th>1</th>\n",
              "      <td>0.02731</td>\n",
              "      <td>0.0</td>\n",
              "      <td>7.07</td>\n",
              "      <td>0</td>\n",
              "      <td>0.469</td>\n",
              "      <td>6.421</td>\n",
              "      <td>78.9</td>\n",
              "      <td>4.9671</td>\n",
              "      <td>2</td>\n",
              "      <td>242.0</td>\n",
              "      <td>17.8</td>\n",
              "      <td>396.90</td>\n",
              "      <td>9.14</td>\n",
              "      <td>21.6</td>\n",
              "    </tr>\n",
              "    <tr>\n",
              "      <th>2</th>\n",
              "      <td>0.02729</td>\n",
              "      <td>0.0</td>\n",
              "      <td>7.07</td>\n",
              "      <td>0</td>\n",
              "      <td>0.469</td>\n",
              "      <td>7.185</td>\n",
              "      <td>61.1</td>\n",
              "      <td>4.9671</td>\n",
              "      <td>2</td>\n",
              "      <td>242.0</td>\n",
              "      <td>17.8</td>\n",
              "      <td>392.83</td>\n",
              "      <td>4.03</td>\n",
              "      <td>34.7</td>\n",
              "    </tr>\n",
              "    <tr>\n",
              "      <th>3</th>\n",
              "      <td>0.03237</td>\n",
              "      <td>0.0</td>\n",
              "      <td>2.18</td>\n",
              "      <td>0</td>\n",
              "      <td>0.458</td>\n",
              "      <td>6.998</td>\n",
              "      <td>45.8</td>\n",
              "      <td>6.0622</td>\n",
              "      <td>3</td>\n",
              "      <td>222.0</td>\n",
              "      <td>18.7</td>\n",
              "      <td>394.63</td>\n",
              "      <td>2.94</td>\n",
              "      <td>33.4</td>\n",
              "    </tr>\n",
              "    <tr>\n",
              "      <th>4</th>\n",
              "      <td>0.06905</td>\n",
              "      <td>0.0</td>\n",
              "      <td>2.18</td>\n",
              "      <td>0</td>\n",
              "      <td>0.458</td>\n",
              "      <td>7.147</td>\n",
              "      <td>54.2</td>\n",
              "      <td>6.0622</td>\n",
              "      <td>3</td>\n",
              "      <td>222.0</td>\n",
              "      <td>18.7</td>\n",
              "      <td>396.90</td>\n",
              "      <td>5.33</td>\n",
              "      <td>36.2</td>\n",
              "    </tr>\n",
              "    <tr>\n",
              "      <th>...</th>\n",
              "      <td>...</td>\n",
              "      <td>...</td>\n",
              "      <td>...</td>\n",
              "      <td>...</td>\n",
              "      <td>...</td>\n",
              "      <td>...</td>\n",
              "      <td>...</td>\n",
              "      <td>...</td>\n",
              "      <td>...</td>\n",
              "      <td>...</td>\n",
              "      <td>...</td>\n",
              "      <td>...</td>\n",
              "      <td>...</td>\n",
              "      <td>...</td>\n",
              "    </tr>\n",
              "    <tr>\n",
              "      <th>501</th>\n",
              "      <td>0.06263</td>\n",
              "      <td>0.0</td>\n",
              "      <td>11.93</td>\n",
              "      <td>0</td>\n",
              "      <td>0.573</td>\n",
              "      <td>6.593</td>\n",
              "      <td>69.1</td>\n",
              "      <td>2.4786</td>\n",
              "      <td>1</td>\n",
              "      <td>273.0</td>\n",
              "      <td>21.0</td>\n",
              "      <td>391.99</td>\n",
              "      <td>9.67</td>\n",
              "      <td>22.4</td>\n",
              "    </tr>\n",
              "    <tr>\n",
              "      <th>502</th>\n",
              "      <td>0.04527</td>\n",
              "      <td>0.0</td>\n",
              "      <td>11.93</td>\n",
              "      <td>0</td>\n",
              "      <td>0.573</td>\n",
              "      <td>6.120</td>\n",
              "      <td>76.7</td>\n",
              "      <td>2.2875</td>\n",
              "      <td>1</td>\n",
              "      <td>273.0</td>\n",
              "      <td>21.0</td>\n",
              "      <td>396.90</td>\n",
              "      <td>9.08</td>\n",
              "      <td>20.6</td>\n",
              "    </tr>\n",
              "    <tr>\n",
              "      <th>503</th>\n",
              "      <td>0.06076</td>\n",
              "      <td>0.0</td>\n",
              "      <td>11.93</td>\n",
              "      <td>0</td>\n",
              "      <td>0.573</td>\n",
              "      <td>6.976</td>\n",
              "      <td>91.0</td>\n",
              "      <td>2.1675</td>\n",
              "      <td>1</td>\n",
              "      <td>273.0</td>\n",
              "      <td>21.0</td>\n",
              "      <td>396.90</td>\n",
              "      <td>5.64</td>\n",
              "      <td>23.9</td>\n",
              "    </tr>\n",
              "    <tr>\n",
              "      <th>504</th>\n",
              "      <td>0.10959</td>\n",
              "      <td>0.0</td>\n",
              "      <td>11.93</td>\n",
              "      <td>0</td>\n",
              "      <td>0.573</td>\n",
              "      <td>6.794</td>\n",
              "      <td>89.3</td>\n",
              "      <td>2.3889</td>\n",
              "      <td>1</td>\n",
              "      <td>273.0</td>\n",
              "      <td>21.0</td>\n",
              "      <td>393.45</td>\n",
              "      <td>6.48</td>\n",
              "      <td>22.0</td>\n",
              "    </tr>\n",
              "    <tr>\n",
              "      <th>505</th>\n",
              "      <td>0.04741</td>\n",
              "      <td>0.0</td>\n",
              "      <td>11.93</td>\n",
              "      <td>0</td>\n",
              "      <td>0.573</td>\n",
              "      <td>6.030</td>\n",
              "      <td>80.8</td>\n",
              "      <td>2.5050</td>\n",
              "      <td>1</td>\n",
              "      <td>273.0</td>\n",
              "      <td>21.0</td>\n",
              "      <td>396.90</td>\n",
              "      <td>7.88</td>\n",
              "      <td>11.9</td>\n",
              "    </tr>\n",
              "  </tbody>\n",
              "</table>\n",
              "<p>506 rows × 14 columns</p>\n",
              "</div>"
            ]
          },
          "metadata": {
            "tags": []
          },
          "execution_count": 38
        }
      ]
    },
    {
      "cell_type": "markdown",
      "metadata": {
        "id": "g_2WvFj1eEpm",
        "colab_type": "text"
      },
      "source": [
        "### Parte 1:  Mínimos cuadrados con expansión polinomial de diferentes grados."
      ]
    },
    {
      "cell_type": "markdown",
      "metadata": {
        "id": "zUYKA_9feP75",
        "colab_type": "text"
      },
      "source": [
        "En este caso probaremos los siguientes grados: [1, 2, 4, 8, 16].\n",
        "\n",
        "Y como cuenta con 13 parametros tomaremos variando los atributos seleccionados, tomando solo el primer atributo, los primeros 4, los primeros 8 y finalmente con todos los atributos.\n"
      ]
    },
    {
      "cell_type": "markdown",
      "metadata": {
        "id": "WwWebx8bFPDK",
        "colab_type": "text"
      },
      "source": [
        "#### Visualicemos el caso en donde solo tomamos en cuenta al primer atributo, el cual es la taza de crimen."
      ]
    },
    {
      "cell_type": "markdown",
      "metadata": {
        "id": "Lsd8yLqhexbO",
        "colab_type": "text"
      },
      "source": [
        "##### Solo obtenemos las muestras con los atributos a utilizar, la taza de crimen (CRIM) para X, y el valor medio (MEDV) para Y"
      ]
    },
    {
      "cell_type": "code",
      "metadata": {
        "id": "MtzLkrsTFkPU",
        "colab_type": "code",
        "outputId": "3427f12b-9237-45b1-ce54-77752dd57a15",
        "colab": {
          "base_uri": "https://localhost:8080/"
        }
      },
      "source": [
        "crime_value_house_data = housing_data[['CRIM','MEDV']].copy()\n",
        "crime_value_house_data"
      ],
      "execution_count": 0,
      "outputs": [
        {
          "output_type": "execute_result",
          "data": {
            "text/plain": [
              "        CRIM  MEDV\n",
              "0    0.00632  24.0\n",
              "1    0.02731  21.6\n",
              "2    0.02729  34.7\n",
              "3    0.03237  33.4\n",
              "4    0.06905  36.2\n",
              "..       ...   ...\n",
              "501  0.06263  22.4\n",
              "502  0.04527  20.6\n",
              "503  0.06076  23.9\n",
              "504  0.10959  22.0\n",
              "505  0.04741  11.9\n",
              "\n",
              "[506 rows x 2 columns]"
            ],
            "text/html": [
              "<div>\n",
              "<style scoped>\n",
              "    .dataframe tbody tr th:only-of-type {\n",
              "        vertical-align: middle;\n",
              "    }\n",
              "\n",
              "    .dataframe tbody tr th {\n",
              "        vertical-align: top;\n",
              "    }\n",
              "\n",
              "    .dataframe thead th {\n",
              "        text-align: right;\n",
              "    }\n",
              "</style>\n",
              "<table border=\"1\" class=\"dataframe\">\n",
              "  <thead>\n",
              "    <tr style=\"text-align: right;\">\n",
              "      <th></th>\n",
              "      <th>CRIM</th>\n",
              "      <th>MEDV</th>\n",
              "    </tr>\n",
              "  </thead>\n",
              "  <tbody>\n",
              "    <tr>\n",
              "      <th>0</th>\n",
              "      <td>0.00632</td>\n",
              "      <td>24.0</td>\n",
              "    </tr>\n",
              "    <tr>\n",
              "      <th>1</th>\n",
              "      <td>0.02731</td>\n",
              "      <td>21.6</td>\n",
              "    </tr>\n",
              "    <tr>\n",
              "      <th>2</th>\n",
              "      <td>0.02729</td>\n",
              "      <td>34.7</td>\n",
              "    </tr>\n",
              "    <tr>\n",
              "      <th>3</th>\n",
              "      <td>0.03237</td>\n",
              "      <td>33.4</td>\n",
              "    </tr>\n",
              "    <tr>\n",
              "      <th>4</th>\n",
              "      <td>0.06905</td>\n",
              "      <td>36.2</td>\n",
              "    </tr>\n",
              "    <tr>\n",
              "      <th>...</th>\n",
              "      <td>...</td>\n",
              "      <td>...</td>\n",
              "    </tr>\n",
              "    <tr>\n",
              "      <th>501</th>\n",
              "      <td>0.06263</td>\n",
              "      <td>22.4</td>\n",
              "    </tr>\n",
              "    <tr>\n",
              "      <th>502</th>\n",
              "      <td>0.04527</td>\n",
              "      <td>20.6</td>\n",
              "    </tr>\n",
              "    <tr>\n",
              "      <th>503</th>\n",
              "      <td>0.06076</td>\n",
              "      <td>23.9</td>\n",
              "    </tr>\n",
              "    <tr>\n",
              "      <th>504</th>\n",
              "      <td>0.10959</td>\n",
              "      <td>22.0</td>\n",
              "    </tr>\n",
              "    <tr>\n",
              "      <th>505</th>\n",
              "      <td>0.04741</td>\n",
              "      <td>11.9</td>\n",
              "    </tr>\n",
              "  </tbody>\n",
              "</table>\n",
              "<p>506 rows × 2 columns</p>\n",
              "</div>"
            ]
          },
          "metadata": {
            "tags": []
          },
          "execution_count": 39
        }
      ]
    },
    {
      "cell_type": "markdown",
      "metadata": {
        "id": "3D8NeJrIe6YZ",
        "colab_type": "text"
      },
      "source": [
        "##### Visualicemos solo un ejemplo.\n",
        "Para saber que se hará en todas las iteraciones.\n",
        "\n",
        "Probemos un ejemplo con grado 3 y usando solo una partición de las k particiones.\n"
      ]
    },
    {
      "cell_type": "code",
      "metadata": {
        "id": "jZ28zZHcfLd5",
        "colab_type": "code",
        "outputId": "c96f4dda-45b0-45a6-ae44-0bcbcc484dfd",
        "colab": {
          "base_uri": "https://localhost:8080/",
          "height": 35
        }
      },
      "source": [
        "# Definimos el degree y el k para el ejemplo, en este caso k = 5 y se considera que las particiones tendrán 101 elementos con excepción de 1 que tendrá 102\n",
        "example_degree = 3\n",
        "example_k = 5\n",
        "\n",
        "# Obtenemos una permutación aleatoria de todo el conjunto de datos\n",
        "example_shuffled_crime_value_house_data = crime_value_house_data.iloc[np.random.permutation(range(crime_value_house_data.shape[0]))].copy()\n",
        "\n",
        "# Obtenemos las k particiones\n",
        "example_split_shuffled_crime_value_house_data = np.array_split(example_shuffled_crime_value_house_data, example_k)\n",
        "\n",
        "# Solo usamos la primera parte como test y lo demas como entrenamiento para este ejemplo\n",
        "example_crime_value_house_data_test = example_split_shuffled_crime_value_house_data[0]\n",
        "example_crime_value_house_data_train = example_shuffled_crime_value_house_data.loc[~example_shuffled_crime_value_house_data.index.isin(example_crime_value_house_data_test.index)]\n",
        "\n",
        "# Obtenemos nuestra matriz de atributos, aunque cada vector de atributos en este caso solo tiene un elemento, la taza de crimen\n",
        "example_train_feature_matrix = np.array(np.split(np.array(example_crime_value_house_data_train['CRIM'].copy().values),example_crime_value_house_data_train.shape[0]))\n",
        "\n",
        "# Obtenemos la matriz de diseño que obteniendo la expansion del polinomio\n",
        "example_train_design_matrix_X = getPoly(example_train_feature_matrix, example_degree)\n",
        "\n",
        "# Obtenemos nuestro vector de Theta por minimos cuadrados\n",
        "example_theta_hat = theta_ms(example_train_design_matrix_X, np.array(example_crime_value_house_data_train['MEDV'].copy().values))\n",
        "print(example_theta_hat)\n"
      ],
      "execution_count": 0,
      "outputs": [
        {
          "output_type": "stream",
          "text": [
            "[ 2.55051971e+01 -1.32607890e+00  2.96883079e-02 -1.91622968e-04]\n"
          ],
          "name": "stdout"
        }
      ]
    },
    {
      "cell_type": "markdown",
      "metadata": {
        "id": "wbRWFmFnhRJ_",
        "colab_type": "text"
      },
      "source": [
        "Probemos ahora grafical el modelo entrenado junto con los datos de validación y entrenamiento."
      ]
    },
    {
      "cell_type": "code",
      "metadata": {
        "id": "FzknAmwWhbxP",
        "colab_type": "code",
        "outputId": "8d35d41c-2e56-47a3-8893-274f918c17c4",
        "colab": {
          "base_uri": "https://localhost:8080/",
          "height": 269
        }
      },
      "source": [
        "# Obtenemos el rango a graficar\n",
        "example_X_rango = np.array(np.split(np.linspace(0, 100, 10000), 10000))\n",
        "\n",
        "# Obtenemos su matriz de diseño\n",
        "example_X_rango_design_matrix = getPoly(example_X_rango, example_degree)\n",
        "\n",
        "# Obtenemos las predicciones del rango\n",
        "example_y_hat_rango = linear_model_f(example_X_rango_design_matrix, example_theta_hat)\n",
        "\n",
        "# Graficamos\n",
        "\n",
        "# Agregamos la grafica para los valores de entrenamiento\n",
        "train_plot = plt.plot(example_crime_value_house_data_train['CRIM'], example_crime_value_house_data_train['MEDV'], 'ro', label = 'Entrenamiento')\n",
        "\n",
        "# Agregamos la grafica para los valores de validación\n",
        "valid_plot = plt.plot(example_crime_value_house_data_test['CRIM'], example_crime_value_house_data_test['MEDV'], 'bo', label = u'Validación')\n",
        "\n",
        "# Agregamos los valores del rango\n",
        "plt.plot(np.linspace(0, 100, 10000), example_y_hat_rango, 'g', label='Modelo')\n",
        "\n",
        "# Limitamos la grafica para no perder la relación entre los puntos\n",
        "plt.ylim([0, 60])\n",
        "\n",
        "# Mostramos\n",
        "plt.legend()\n",
        "plt.show()"
      ],
      "execution_count": 0,
      "outputs": [
        {
          "output_type": "display_data",
          "data": {
            "text/plain": [
              "<Figure size 432x288 with 1 Axes>"
            ],
            "image/png": "[encoded data removed]"
          },
          "metadata": {
            "tags": [],
            "needs_background": "light"
          }
        }
      ]
    },
    {
      "cell_type": "markdown",
      "metadata": {
        "id": "qAiHWeU11Cfb",
        "colab_type": "text"
      },
      "source": [
        "Finalmente hagamos la predicción para los conjuntos de entrenamiento y obtengamos la suma de errores cuadraticos y el error cuadrático medio:"
      ]
    },
    {
      "cell_type": "code",
      "metadata": {
        "id": "dsZ9llxt1Lfr",
        "colab_type": "code",
        "outputId": "9bdaf72f-0bd3-4a81-efa5-c702bdca2a20",
        "colab": {
          "base_uri": "https://localhost:8080/",
          "height": 53
        }
      },
      "source": [
        "# Predicciones\n",
        "\n",
        "# Conjunto de Entrenamiento\n",
        "# Obtenemos nuestra matriz de atributos, aunque cada vector de atributos en este caso solo tiene un elemento, la taza de crimen\n",
        "example_train_feature_matrix = np.array(np.split(np.array(example_crime_value_house_data_train['CRIM'].copy().values),example_crime_value_house_data_train.shape[0]))\n",
        "\n",
        "# Obtenemos la matriz de diseño que obteniendo la expansion del polinomio\n",
        "example_train_design_matrix_X = getPoly(example_train_feature_matrix, example_degree)\n",
        "\n",
        "# Obtenemos la predicción\n",
        "example_y_hat_train = linear_model_f(example_train_design_matrix_X, example_theta_hat)\n",
        "\n",
        "# Conjunto de Validación\n",
        "# Obtenemos nuestra matriz de atributos, aunque cada vector de atributos en este caso solo tiene un elemento, la taza de crimen\n",
        "example_test_feature_matrix = np.array(np.split(np.array(example_crime_value_house_data_test['CRIM'].copy().values),example_crime_value_house_data_test.shape[0]))\n",
        "\n",
        "# Obtenemos la matriz de diseño que obteniendo la expansion del polinomio\n",
        "example_test_design_matrix_X = getPoly(example_test_feature_matrix, example_degree)\n",
        "\n",
        "# Obtenemos la predicción\n",
        "example_y_hat_test = linear_model_f(example_test_design_matrix_X, example_theta_hat)\n",
        "\n",
        "# Suma de errores\n",
        "# La suma de errores cuadraticos para entrenamiento y validación\n",
        "example_sse_train = sum_square_error(example_crime_value_house_data_train['MEDV'], example_y_hat_train)\n",
        "example_sse_test = sum_square_error(example_crime_value_house_data_test['MEDV'], example_y_hat_test)\n",
        "\n",
        "# El error cuadrático medio para entrenamiento y validación\n",
        "example_mse_train = example_sse_train / example_crime_value_house_data_train.shape[0]\n",
        "example_mse_test = example_sse_test / example_crime_value_house_data_test.shape[0]\n",
        "\n",
        "print('SSE (Train) = {0}, SSE (Test) = {1}'.format(example_sse_train, example_sse_test))\n",
        "print('MSE (Train) = {0}, MSE (Test) = {1}'.format(example_mse_train, example_mse_test))"
      ],
      "execution_count": 0,
      "outputs": [
        {
          "output_type": "stream",
          "text": [
            "SSE (Train) = 25633.68677691926, SSE (Test) = 7930.808757682792\n",
            "MSE (Train) = 63.44971974484966, MSE (Test) = 77.7530270361058\n"
          ],
          "name": "stdout"
        }
      ]
    },
    {
      "cell_type": "markdown",
      "metadata": {
        "id": "_UoonQSXGOJZ",
        "colab_type": "text"
      },
      "source": [
        "#### Desarrollo de la parte 1\n",
        "Tomamos en cuenta los grados [1, 2, 4, 8, 16] y tomando solo el primer atributo, los primeros 4, los primeros 8 y finalmente con todos los atributos.\n"
      ]
    },
    {
      "cell_type": "code",
      "metadata": {
        "id": "2DNwaTWenCwb",
        "colab_type": "code",
        "outputId": "d34ebb0e-eb4f-4eaa-eea9-9a35f98a0099",
        "colab": {
          "base_uri": "https://localhost:8080/",
          "height": 1000
        }
      },
      "source": [
        "# Los primeros atributos a probar\n",
        "p1_attr = [1, 4, 8, 13]\n",
        "\n",
        "# Los grados del polinomio a probar\n",
        "p1_degrees = [1, 2, 4, 8, 16]\n",
        "\n",
        "# Numero de repeticiones\n",
        "p1_repetitions = 10\n",
        "\n",
        "# Numero de particiones\n",
        "p1_k_folds = 5\n",
        "\n",
        "# Inicializamos las listas donde almacenaremos los resultados\n",
        "housing_p1_mse_per_attributes_train = []\n",
        "housing_p1_mse_per_attributes_test = []\n",
        "\n",
        "# Recorremos el arreglo que determina los primeros n atributos que se toman en cuenta\n",
        "for first_attributes in p1_attr:\n",
        "\n",
        "  # Inicializamos las listas donde almacenaremos los resultados por grado del polinomio\n",
        "  housing_p1_mse_per_degree_train = np.array([])\n",
        "  housing_p1_mse_per_degree_test = np.array([])\n",
        "\n",
        "  # Recorremos los distintos grados del polinomio \n",
        "  for p_degree in p1_degrees:\n",
        "    \n",
        "    # Inicializamos las listas donde almacenaremos los resultados por repetición\n",
        "    housing_p1_mse_per_repetition_train = np.array([])\n",
        "    housing_p1_mse_per_repetition_test = np.array([])\n",
        "\n",
        "    # Para la validación cruzada probaremos con 10 repeticiones\n",
        "    for repetition_i in range(p1_repetitions):\n",
        "      # Obtenemos las particiones haciendo un random shuffle del data set y dividiendolo en k particiones\n",
        "      shuffled_housing_data = housing_data.iloc[np.random.permutation(range(housing_data.shape[0]))].copy()\n",
        "      split_shuffled_housing_data = np.array_split(shuffled_housing_data, p1_k_folds)\n",
        "\n",
        "      # Inicializamos las listas donde almacenaremos los resultados por partición\n",
        "      housing_p1_mse_per_fold_train = np.array([])\n",
        "      housing_p1_mse_per_fold_test = np.array([])\n",
        "      \n",
        "      # Y por repeticion probaremos usar cada una de las particiones como test y las demas como entrenamiento.\n",
        "      for test_partition in range(p1_k_folds):\n",
        "        \n",
        "        # Definimos el conjunto de validación y de entrenamiento\n",
        "        house_data_test = split_shuffled_housing_data[test_partition]\n",
        "        house_data_train = shuffled_housing_data.loc[~shuffled_housing_data.index.isin(house_data_test.index)]\n",
        "        \n",
        "        # Obtenemos nuestra matriz de atributos dependiendo de cuales son los primeros atributos\n",
        "        feature_matrix_train = np.array(house_data_train[atribute_header[:first_attributes]].copy().values)\n",
        "        \n",
        "        # Obtenemos la matriz de diseño que obteniendo la expansion del polinomio\n",
        "        design_matrix_X_train = getPoly(feature_matrix_train, p_degree)\n",
        "        \n",
        "        # Obtenemos nuestro vector de Theta por minimos cuadrados\n",
        "        theta_hat = theta_ms(design_matrix_X_train, np.array(house_data_train['MEDV'].copy().values))\n",
        "\n",
        "        # Obtenemos la predicción para entrenamiento\n",
        "        y_hat_train = linear_model_f(design_matrix_X_train, theta_hat)\n",
        "\n",
        "        # Conjunto de Validación\n",
        "        # Obtenemos nuestra matriz de atributos\n",
        "        feature_matrix_test = np.array(house_data_test[atribute_header[:first_attributes]].copy().values)\n",
        "\n",
        "        # Obtenemos la matriz de diseño que obteniendo la expansion del polinomio\n",
        "        design_matrix_X_test = getPoly(feature_matrix_test, p_degree)\n",
        "\n",
        "        # Obtenemos la predicción\n",
        "        y_hat_test = linear_model_f(design_matrix_X_test, theta_hat)\n",
        "\n",
        "        # Suma de errores\n",
        "        # La suma de errores cuadraticos para entrenamiento y validación\n",
        "        sse_train = sum_square_error(house_data_train['MEDV'], y_hat_train)\n",
        "        sse_test = sum_square_error(house_data_test['MEDV'], y_hat_test)\n",
        "\n",
        "        # El error cuadrático medio para entrenamiento y validación\n",
        "        mse_train = sse_train / house_data_train.shape[0]\n",
        "        mse_test = sse_test / house_data_test.shape[0]\n",
        "\n",
        "        # print('First attributes = {0}, Degree = {1}, Repetition = {2}, Fold = {3}, MSE (Train) = {4}, MSE (Test) = {5}'.format(first_attributes, p_degree, repetition_i, test_partition, mse_train, mse_test))\n",
        "\n",
        "        # Agregamos a las listas de resultados por partición\n",
        "        housing_p1_mse_per_fold_train = np.append(housing_p1_mse_per_fold_train, mse_train)\n",
        "        housing_p1_mse_per_fold_test = np.append(housing_p1_mse_per_fold_test, mse_test)\n",
        "\n",
        "      # Habiendo terminado las k particiones obtenemos los promedios y los agregamos a las listas de resultados por repeteción\n",
        "      print('First attributes = {0}, Degree = {1}, Repetition = {2}, len_MSE (Train) = {3}, len_MSE (Test) = {4}'.format(first_attributes, p_degree, repetition_i, housing_p1_mse_per_fold_train.shape, housing_p1_mse_per_fold_test.shape))\n",
        "      housing_p1_mse_per_repetition_train = np.append(housing_p1_mse_per_repetition_train, housing_p1_mse_per_fold_train.mean())\n",
        "      housing_p1_mse_per_repetition_test = np.append(housing_p1_mse_per_repetition_test, housing_p1_mse_per_fold_test.mean())\n",
        "    \n",
        "    # Habiendo terminado las n repeticiones obtenemos los promedios y los agregamos a las listas de resultados por grado del polinomio\n",
        "    housing_p1_mse_per_degree_train = np.append(housing_p1_mse_per_degree_train, housing_p1_mse_per_repetition_train.mean())\n",
        "    housing_p1_mse_per_degree_test = np.append(housing_p1_mse_per_degree_test, housing_p1_mse_per_repetition_test.mean())\n",
        "\n",
        "  # Habiendo terminado de recorrer los grados los agregamos a las listas de resultados por numero de atributos\n",
        "  housing_p1_mse_per_attributes_train.append(housing_p1_mse_per_degree_train)\n",
        "  housing_p1_mse_per_attributes_test.append(housing_p1_mse_per_degree_test)"
      ],
      "execution_count": 0,
      "outputs": [
        {
          "output_type": "stream",
          "text": [
            "First attributes = 1, Degree = 1, Repetition = 0, len_MSE (Train) = (5,), len_MSE (Test) = (5,)\n",
            "First attributes = 1, Degree = 1, Repetition = 1, len_MSE (Train) = (5,), len_MSE (Test) = (5,)\n",
            "First attributes = 1, Degree = 1, Repetition = 2, len_MSE (Train) = (5,), len_MSE (Test) = (5,)\n",
            "First attributes = 1, Degree = 1, Repetition = 3, len_MSE (Train) = (5,), len_MSE (Test) = (5,)\n",
            "First attributes = 1, Degree = 1, Repetition = 4, len_MSE (Train) = (5,), len_MSE (Test) = (5,)\n",
            "First attributes = 1, Degree = 1, Repetition = 5, len_MSE (Train) = (5,), len_MSE (Test) = (5,)\n",
            "First attributes = 1, Degree = 1, Repetition = 6, len_MSE (Train) = (5,), len_MSE (Test) = (5,)\n",
            "First attributes = 1, Degree = 1, Repetition = 7, len_MSE (Train) = (5,), len_MSE (Test) = (5,)\n",
            "First attributes = 1, Degree = 1, Repetition = 8, len_MSE (Train) = (5,), len_MSE (Test) = (5,)\n",
            "First attributes = 1, Degree = 1, Repetition = 9, len_MSE (Train) = (5,), len_MSE (Test) = (5,)\n",
            "First attributes = 1, Degree = 2, Repetition = 0, len_MSE (Train) = (5,), len_MSE (Test) = (5,)\n",
            "First attributes = 1, Degree = 2, Repetition = 1, len_MSE (Train) = (5,), len_MSE (Test) = (5,)\n",
            "First attributes = 1, Degree = 2, Repetition = 2, len_MSE (Train) = (5,), len_MSE (Test) = (5,)\n",
            "First attributes = 1, Degree = 2, Repetition = 3, len_MSE (Train) = (5,), len_MSE (Test) = (5,)\n",
            "First attributes = 1, Degree = 2, Repetition = 4, len_MSE (Train) = (5,), len_MSE (Test) = (5,)\n",
            "First attributes = 1, Degree = 2, Repetition = 5, len_MSE (Train) = (5,), len_MSE (Test) = (5,)\n",
            "First attributes = 1, Degree = 2, Repetition = 6, len_MSE (Train) = (5,), len_MSE (Test) = (5,)\n",
            "First attributes = 1, Degree = 2, Repetition = 7, len_MSE (Train) = (5,), len_MSE (Test) = (5,)\n",
            "First attributes = 1, Degree = 2, Repetition = 8, len_MSE (Train) = (5,), len_MSE (Test) = (5,)\n",
            "First attributes = 1, Degree = 2, Repetition = 9, len_MSE (Train) = (5,), len_MSE (Test) = (5,)\n",
            "First attributes = 1, Degree = 4, Repetition = 0, len_MSE (Train) = (5,), len_MSE (Test) = (5,)\n",
            "First attributes = 1, Degree = 4, Repetition = 1, len_MSE (Train) = (5,), len_MSE (Test) = (5,)\n",
            "First attributes = 1, Degree = 4, Repetition = 2, len_MSE (Train) = (5,), len_MSE (Test) = (5,)\n",
            "First attributes = 1, Degree = 4, Repetition = 3, len_MSE (Train) = (5,), len_MSE (Test) = (5,)\n",
            "First attributes = 1, Degree = 4, Repetition = 4, len_MSE (Train) = (5,), len_MSE (Test) = (5,)\n",
            "First attributes = 1, Degree = 4, Repetition = 5, len_MSE (Train) = (5,), len_MSE (Test) = (5,)\n",
            "First attributes = 1, Degree = 4, Repetition = 6, len_MSE (Train) = (5,), len_MSE (Test) = (5,)\n",
            "First attributes = 1, Degree = 4, Repetition = 7, len_MSE (Train) = (5,), len_MSE (Test) = (5,)\n",
            "First attributes = 1, Degree = 4, Repetition = 8, len_MSE (Train) = (5,), len_MSE (Test) = (5,)\n",
            "First attributes = 1, Degree = 4, Repetition = 9, len_MSE (Train) = (5,), len_MSE (Test) = (5,)\n",
            "First attributes = 1, Degree = 8, Repetition = 0, len_MSE (Train) = (5,), len_MSE (Test) = (5,)\n",
            "First attributes = 1, Degree = 8, Repetition = 1, len_MSE (Train) = (5,), len_MSE (Test) = (5,)\n",
            "First attributes = 1, Degree = 8, Repetition = 2, len_MSE (Train) = (5,), len_MSE (Test) = (5,)\n",
            "First attributes = 1, Degree = 8, Repetition = 3, len_MSE (Train) = (5,), len_MSE (Test) = (5,)\n",
            "First attributes = 1, Degree = 8, Repetition = 4, len_MSE (Train) = (5,), len_MSE (Test) = (5,)\n",
            "First attributes = 1, Degree = 8, Repetition = 5, len_MSE (Train) = (5,), len_MSE (Test) = (5,)\n",
            "First attributes = 1, Degree = 8, Repetition = 6, len_MSE (Train) = (5,), len_MSE (Test) = (5,)\n",
            "First attributes = 1, Degree = 8, Repetition = 7, len_MSE (Train) = (5,), len_MSE (Test) = (5,)\n",
            "First attributes = 1, Degree = 8, Repetition = 8, len_MSE (Train) = (5,), len_MSE (Test) = (5,)\n",
            "First attributes = 1, Degree = 8, Repetition = 9, len_MSE (Train) = (5,), len_MSE (Test) = (5,)\n",
            "First attributes = 1, Degree = 16, Repetition = 0, len_MSE (Train) = (5,), len_MSE (Test) = (5,)\n",
            "First attributes = 1, Degree = 16, Repetition = 1, len_MSE (Train) = (5,), len_MSE (Test) = (5,)\n",
            "First attributes = 1, Degree = 16, Repetition = 2, len_MSE (Train) = (5,), len_MSE (Test) = (5,)\n",
            "First attributes = 1, Degree = 16, Repetition = 3, len_MSE (Train) = (5,), len_MSE (Test) = (5,)\n",
            "First attributes = 1, Degree = 16, Repetition = 4, len_MSE (Train) = (5,), len_MSE (Test) = (5,)\n",
            "First attributes = 1, Degree = 16, Repetition = 5, len_MSE (Train) = (5,), len_MSE (Test) = (5,)\n",
            "First attributes = 1, Degree = 16, Repetition = 6, len_MSE (Train) = (5,), len_MSE (Test) = (5,)\n",
            "First attributes = 1, Degree = 16, Repetition = 7, len_MSE (Train) = (5,), len_MSE (Test) = (5,)\n",
            "First attributes = 1, Degree = 16, Repetition = 8, len_MSE (Train) = (5,), len_MSE (Test) = (5,)\n",
            "First attributes = 1, Degree = 16, Repetition = 9, len_MSE (Train) = (5,), len_MSE (Test) = (5,)\n",
            "First attributes = 4, Degree = 1, Repetition = 0, len_MSE (Train) = (5,), len_MSE (Test) = (5,)\n",
            "First attributes = 4, Degree = 1, Repetition = 1, len_MSE (Train) = (5,), len_MSE (Test) = (5,)\n",
            "First attributes = 4, Degree = 1, Repetition = 2, len_MSE (Train) = (5,), len_MSE (Test) = (5,)\n",
            "First attributes = 4, Degree = 1, Repetition = 3, len_MSE (Train) = (5,), len_MSE (Test) = (5,)\n",
            "First attributes = 4, Degree = 1, Repetition = 4, len_MSE (Train) = (5,), len_MSE (Test) = (5,)\n",
            "First attributes = 4, Degree = 1, Repetition = 5, len_MSE (Train) = (5,), len_MSE (Test) = (5,)\n",
            "First attributes = 4, Degree = 1, Repetition = 6, len_MSE (Train) = (5,), len_MSE (Test) = (5,)\n",
            "First attributes = 4, Degree = 1, Repetition = 7, len_MSE (Train) = (5,), len_MSE (Test) = (5,)\n",
            "First attributes = 4, Degree = 1, Repetition = 8, len_MSE (Train) = (5,), len_MSE (Test) = (5,)\n",
            "First attributes = 4, Degree = 1, Repetition = 9, len_MSE (Train) = (5,), len_MSE (Test) = (5,)\n",
            "First attributes = 4, Degree = 2, Repetition = 0, len_MSE (Train) = (5,), len_MSE (Test) = (5,)\n",
            "First attributes = 4, Degree = 2, Repetition = 1, len_MSE (Train) = (5,), len_MSE (Test) = (5,)\n",
            "First attributes = 4, Degree = 2, Repetition = 2, len_MSE (Train) = (5,), len_MSE (Test) = (5,)\n",
            "First attributes = 4, Degree = 2, Repetition = 3, len_MSE (Train) = (5,), len_MSE (Test) = (5,)\n",
            "First attributes = 4, Degree = 2, Repetition = 4, len_MSE (Train) = (5,), len_MSE (Test) = (5,)\n",
            "First attributes = 4, Degree = 2, Repetition = 5, len_MSE (Train) = (5,), len_MSE (Test) = (5,)\n",
            "First attributes = 4, Degree = 2, Repetition = 6, len_MSE (Train) = (5,), len_MSE (Test) = (5,)\n",
            "First attributes = 4, Degree = 2, Repetition = 7, len_MSE (Train) = (5,), len_MSE (Test) = (5,)\n",
            "First attributes = 4, Degree = 2, Repetition = 8, len_MSE (Train) = (5,), len_MSE (Test) = (5,)\n",
            "First attributes = 4, Degree = 2, Repetition = 9, len_MSE (Train) = (5,), len_MSE (Test) = (5,)\n",
            "First attributes = 4, Degree = 4, Repetition = 0, len_MSE (Train) = (5,), len_MSE (Test) = (5,)\n",
            "First attributes = 4, Degree = 4, Repetition = 1, len_MSE (Train) = (5,), len_MSE (Test) = (5,)\n",
            "First attributes = 4, Degree = 4, Repetition = 2, len_MSE (Train) = (5,), len_MSE (Test) = (5,)\n",
            "First attributes = 4, Degree = 4, Repetition = 3, len_MSE (Train) = (5,), len_MSE (Test) = (5,)\n",
            "First attributes = 4, Degree = 4, Repetition = 4, len_MSE (Train) = (5,), len_MSE (Test) = (5,)\n",
            "First attributes = 4, Degree = 4, Repetition = 5, len_MSE (Train) = (5,), len_MSE (Test) = (5,)\n",
            "First attributes = 4, Degree = 4, Repetition = 6, len_MSE (Train) = (5,), len_MSE (Test) = (5,)\n",
            "First attributes = 4, Degree = 4, Repetition = 7, len_MSE (Train) = (5,), len_MSE (Test) = (5,)\n",
            "First attributes = 4, Degree = 4, Repetition = 8, len_MSE (Train) = (5,), len_MSE (Test) = (5,)\n",
            "First attributes = 4, Degree = 4, Repetition = 9, len_MSE (Train) = (5,), len_MSE (Test) = (5,)\n",
            "First attributes = 4, Degree = 8, Repetition = 0, len_MSE (Train) = (5,), len_MSE (Test) = (5,)\n",
            "First attributes = 4, Degree = 8, Repetition = 1, len_MSE (Train) = (5,), len_MSE (Test) = (5,)\n",
            "First attributes = 4, Degree = 8, Repetition = 2, len_MSE (Train) = (5,), len_MSE (Test) = (5,)\n",
            "First attributes = 4, Degree = 8, Repetition = 3, len_MSE (Train) = (5,), len_MSE (Test) = (5,)\n",
            "First attributes = 4, Degree = 8, Repetition = 4, len_MSE (Train) = (5,), len_MSE (Test) = (5,)\n",
            "First attributes = 4, Degree = 8, Repetition = 5, len_MSE (Train) = (5,), len_MSE (Test) = (5,)\n",
            "First attributes = 4, Degree = 8, Repetition = 6, len_MSE (Train) = (5,), len_MSE (Test) = (5,)\n",
            "First attributes = 4, Degree = 8, Repetition = 7, len_MSE (Train) = (5,), len_MSE (Test) = (5,)\n",
            "First attributes = 4, Degree = 8, Repetition = 8, len_MSE (Train) = (5,), len_MSE (Test) = (5,)\n",
            "First attributes = 4, Degree = 8, Repetition = 9, len_MSE (Train) = (5,), len_MSE (Test) = (5,)\n",
            "First attributes = 4, Degree = 16, Repetition = 0, len_MSE (Train) = (5,), len_MSE (Test) = (5,)\n",
            "First attributes = 4, Degree = 16, Repetition = 1, len_MSE (Train) = (5,), len_MSE (Test) = (5,)\n",
            "First attributes = 4, Degree = 16, Repetition = 2, len_MSE (Train) = (5,), len_MSE (Test) = (5,)\n",
            "First attributes = 4, Degree = 16, Repetition = 3, len_MSE (Train) = (5,), len_MSE (Test) = (5,)\n",
            "First attributes = 4, Degree = 16, Repetition = 4, len_MSE (Train) = (5,), len_MSE (Test) = (5,)\n",
            "First attributes = 4, Degree = 16, Repetition = 5, len_MSE (Train) = (5,), len_MSE (Test) = (5,)\n",
            "First attributes = 4, Degree = 16, Repetition = 6, len_MSE (Train) = (5,), len_MSE (Test) = (5,)\n",
            "First attributes = 4, Degree = 16, Repetition = 7, len_MSE (Train) = (5,), len_MSE (Test) = (5,)\n",
            "First attributes = 4, Degree = 16, Repetition = 8, len_MSE (Train) = (5,), len_MSE (Test) = (5,)\n",
            "First attributes = 4, Degree = 16, Repetition = 9, len_MSE (Train) = (5,), len_MSE (Test) = (5,)\n",
            "First attributes = 8, Degree = 1, Repetition = 0, len_MSE (Train) = (5,), len_MSE (Test) = (5,)\n",
            "First attributes = 8, Degree = 1, Repetition = 1, len_MSE (Train) = (5,), len_MSE (Test) = (5,)\n",
            "First attributes = 8, Degree = 1, Repetition = 2, len_MSE (Train) = (5,), len_MSE (Test) = (5,)\n",
            "First attributes = 8, Degree = 1, Repetition = 3, len_MSE (Train) = (5,), len_MSE (Test) = (5,)\n",
            "First attributes = 8, Degree = 1, Repetition = 4, len_MSE (Train) = (5,), len_MSE (Test) = (5,)\n",
            "First attributes = 8, Degree = 1, Repetition = 5, len_MSE (Train) = (5,), len_MSE (Test) = (5,)\n",
            "First attributes = 8, Degree = 1, Repetition = 6, len_MSE (Train) = (5,), len_MSE (Test) = (5,)\n",
            "First attributes = 8, Degree = 1, Repetition = 7, len_MSE (Train) = (5,), len_MSE (Test) = (5,)\n",
            "First attributes = 8, Degree = 1, Repetition = 8, len_MSE (Train) = (5,), len_MSE (Test) = (5,)\n",
            "First attributes = 8, Degree = 1, Repetition = 9, len_MSE (Train) = (5,), len_MSE (Test) = (5,)\n",
            "First attributes = 8, Degree = 2, Repetition = 0, len_MSE (Train) = (5,), len_MSE (Test) = (5,)\n",
            "First attributes = 8, Degree = 2, Repetition = 1, len_MSE (Train) = (5,), len_MSE (Test) = (5,)\n",
            "First attributes = 8, Degree = 2, Repetition = 2, len_MSE (Train) = (5,), len_MSE (Test) = (5,)\n",
            "First attributes = 8, Degree = 2, Repetition = 3, len_MSE (Train) = (5,), len_MSE (Test) = (5,)\n",
            "First attributes = 8, Degree = 2, Repetition = 4, len_MSE (Train) = (5,), len_MSE (Test) = (5,)\n",
            "First attributes = 8, Degree = 2, Repetition = 5, len_MSE (Train) = (5,), len_MSE (Test) = (5,)\n",
            "First attributes = 8, Degree = 2, Repetition = 6, len_MSE (Train) = (5,), len_MSE (Test) = (5,)\n",
            "First attributes = 8, Degree = 2, Repetition = 7, len_MSE (Train) = (5,), len_MSE (Test) = (5,)\n",
            "First attributes = 8, Degree = 2, Repetition = 8, len_MSE (Train) = (5,), len_MSE (Test) = (5,)\n",
            "First attributes = 8, Degree = 2, Repetition = 9, len_MSE (Train) = (5,), len_MSE (Test) = (5,)\n",
            "First attributes = 8, Degree = 4, Repetition = 0, len_MSE (Train) = (5,), len_MSE (Test) = (5,)\n",
            "First attributes = 8, Degree = 4, Repetition = 1, len_MSE (Train) = (5,), len_MSE (Test) = (5,)\n",
            "First attributes = 8, Degree = 4, Repetition = 2, len_MSE (Train) = (5,), len_MSE (Test) = (5,)\n",
            "First attributes = 8, Degree = 4, Repetition = 3, len_MSE (Train) = (5,), len_MSE (Test) = (5,)\n",
            "First attributes = 8, Degree = 4, Repetition = 4, len_MSE (Train) = (5,), len_MSE (Test) = (5,)\n",
            "First attributes = 8, Degree = 4, Repetition = 5, len_MSE (Train) = (5,), len_MSE (Test) = (5,)\n",
            "First attributes = 8, Degree = 4, Repetition = 6, len_MSE (Train) = (5,), len_MSE (Test) = (5,)\n",
            "First attributes = 8, Degree = 4, Repetition = 7, len_MSE (Train) = (5,), len_MSE (Test) = (5,)\n",
            "First attributes = 8, Degree = 4, Repetition = 8, len_MSE (Train) = (5,), len_MSE (Test) = (5,)\n",
            "First attributes = 8, Degree = 4, Repetition = 9, len_MSE (Train) = (5,), len_MSE (Test) = (5,)\n",
            "First attributes = 8, Degree = 8, Repetition = 0, len_MSE (Train) = (5,), len_MSE (Test) = (5,)\n",
            "First attributes = 8, Degree = 8, Repetition = 1, len_MSE (Train) = (5,), len_MSE (Test) = (5,)\n",
            "First attributes = 8, Degree = 8, Repetition = 2, len_MSE (Train) = (5,), len_MSE (Test) = (5,)\n",
            "First attributes = 8, Degree = 8, Repetition = 3, len_MSE (Train) = (5,), len_MSE (Test) = (5,)\n",
            "First attributes = 8, Degree = 8, Repetition = 4, len_MSE (Train) = (5,), len_MSE (Test) = (5,)\n",
            "First attributes = 8, Degree = 8, Repetition = 5, len_MSE (Train) = (5,), len_MSE (Test) = (5,)\n",
            "First attributes = 8, Degree = 8, Repetition = 6, len_MSE (Train) = (5,), len_MSE (Test) = (5,)\n",
            "First attributes = 8, Degree = 8, Repetition = 7, len_MSE (Train) = (5,), len_MSE (Test) = (5,)\n",
            "First attributes = 8, Degree = 8, Repetition = 8, len_MSE (Train) = (5,), len_MSE (Test) = (5,)\n",
            "First attributes = 8, Degree = 8, Repetition = 9, len_MSE (Train) = (5,), len_MSE (Test) = (5,)\n",
            "First attributes = 8, Degree = 16, Repetition = 0, len_MSE (Train) = (5,), len_MSE (Test) = (5,)\n",
            "First attributes = 8, Degree = 16, Repetition = 1, len_MSE (Train) = (5,), len_MSE (Test) = (5,)\n",
            "First attributes = 8, Degree = 16, Repetition = 2, len_MSE (Train) = (5,), len_MSE (Test) = (5,)\n",
            "First attributes = 8, Degree = 16, Repetition = 3, len_MSE (Train) = (5,), len_MSE (Test) = (5,)\n",
            "First attributes = 8, Degree = 16, Repetition = 4, len_MSE (Train) = (5,), len_MSE (Test) = (5,)\n",
            "First attributes = 8, Degree = 16, Repetition = 5, len_MSE (Train) = (5,), len_MSE (Test) = (5,)\n",
            "First attributes = 8, Degree = 16, Repetition = 6, len_MSE (Train) = (5,), len_MSE (Test) = (5,)\n",
            "First attributes = 8, Degree = 16, Repetition = 7, len_MSE (Train) = (5,), len_MSE (Test) = (5,)\n",
            "First attributes = 8, Degree = 16, Repetition = 8, len_MSE (Train) = (5,), len_MSE (Test) = (5,)\n",
            "First attributes = 8, Degree = 16, Repetition = 9, len_MSE (Train) = (5,), len_MSE (Test) = (5,)\n",
            "First attributes = 13, Degree = 1, Repetition = 0, len_MSE (Train) = (5,), len_MSE (Test) = (5,)\n",
            "First attributes = 13, Degree = 1, Repetition = 1, len_MSE (Train) = (5,), len_MSE (Test) = (5,)\n",
            "First attributes = 13, Degree = 1, Repetition = 2, len_MSE (Train) = (5,), len_MSE (Test) = (5,)\n",
            "First attributes = 13, Degree = 1, Repetition = 3, len_MSE (Train) = (5,), len_MSE (Test) = (5,)\n",
            "First attributes = 13, Degree = 1, Repetition = 4, len_MSE (Train) = (5,), len_MSE (Test) = (5,)\n",
            "First attributes = 13, Degree = 1, Repetition = 5, len_MSE (Train) = (5,), len_MSE (Test) = (5,)\n",
            "First attributes = 13, Degree = 1, Repetition = 6, len_MSE (Train) = (5,), len_MSE (Test) = (5,)\n",
            "First attributes = 13, Degree = 1, Repetition = 7, len_MSE (Train) = (5,), len_MSE (Test) = (5,)\n",
            "First attributes = 13, Degree = 1, Repetition = 8, len_MSE (Train) = (5,), len_MSE (Test) = (5,)\n",
            "First attributes = 13, Degree = 1, Repetition = 9, len_MSE (Train) = (5,), len_MSE (Test) = (5,)\n",
            "First attributes = 13, Degree = 2, Repetition = 0, len_MSE (Train) = (5,), len_MSE (Test) = (5,)\n",
            "First attributes = 13, Degree = 2, Repetition = 1, len_MSE (Train) = (5,), len_MSE (Test) = (5,)\n",
            "First attributes = 13, Degree = 2, Repetition = 2, len_MSE (Train) = (5,), len_MSE (Test) = (5,)\n",
            "First attributes = 13, Degree = 2, Repetition = 3, len_MSE (Train) = (5,), len_MSE (Test) = (5,)\n",
            "First attributes = 13, Degree = 2, Repetition = 4, len_MSE (Train) = (5,), len_MSE (Test) = (5,)\n",
            "First attributes = 13, Degree = 2, Repetition = 5, len_MSE (Train) = (5,), len_MSE (Test) = (5,)\n",
            "First attributes = 13, Degree = 2, Repetition = 6, len_MSE (Train) = (5,), len_MSE (Test) = (5,)\n",
            "First attributes = 13, Degree = 2, Repetition = 7, len_MSE (Train) = (5,), len_MSE (Test) = (5,)\n",
            "First attributes = 13, Degree = 2, Repetition = 8, len_MSE (Train) = (5,), len_MSE (Test) = (5,)\n",
            "First attributes = 13, Degree = 2, Repetition = 9, len_MSE (Train) = (5,), len_MSE (Test) = (5,)\n",
            "First attributes = 13, Degree = 4, Repetition = 0, len_MSE (Train) = (5,), len_MSE (Test) = (5,)\n",
            "First attributes = 13, Degree = 4, Repetition = 1, len_MSE (Train) = (5,), len_MSE (Test) = (5,)\n",
            "First attributes = 13, Degree = 4, Repetition = 2, len_MSE (Train) = (5,), len_MSE (Test) = (5,)\n",
            "First attributes = 13, Degree = 4, Repetition = 3, len_MSE (Train) = (5,), len_MSE (Test) = (5,)\n",
            "First attributes = 13, Degree = 4, Repetition = 4, len_MSE (Train) = (5,), len_MSE (Test) = (5,)\n",
            "First attributes = 13, Degree = 4, Repetition = 5, len_MSE (Train) = (5,), len_MSE (Test) = (5,)\n",
            "First attributes = 13, Degree = 4, Repetition = 6, len_MSE (Train) = (5,), len_MSE (Test) = (5,)\n",
            "First attributes = 13, Degree = 4, Repetition = 7, len_MSE (Train) = (5,), len_MSE (Test) = (5,)\n",
            "First attributes = 13, Degree = 4, Repetition = 8, len_MSE (Train) = (5,), len_MSE (Test) = (5,)\n",
            "First attributes = 13, Degree = 4, Repetition = 9, len_MSE (Train) = (5,), len_MSE (Test) = (5,)\n",
            "First attributes = 13, Degree = 8, Repetition = 0, len_MSE (Train) = (5,), len_MSE (Test) = (5,)\n",
            "First attributes = 13, Degree = 8, Repetition = 1, len_MSE (Train) = (5,), len_MSE (Test) = (5,)\n",
            "First attributes = 13, Degree = 8, Repetition = 2, len_MSE (Train) = (5,), len_MSE (Test) = (5,)\n",
            "First attributes = 13, Degree = 8, Repetition = 3, len_MSE (Train) = (5,), len_MSE (Test) = (5,)\n",
            "First attributes = 13, Degree = 8, Repetition = 4, len_MSE (Train) = (5,), len_MSE (Test) = (5,)\n",
            "First attributes = 13, Degree = 8, Repetition = 5, len_MSE (Train) = (5,), len_MSE (Test) = (5,)\n",
            "First attributes = 13, Degree = 8, Repetition = 6, len_MSE (Train) = (5,), len_MSE (Test) = (5,)\n",
            "First attributes = 13, Degree = 8, Repetition = 7, len_MSE (Train) = (5,), len_MSE (Test) = (5,)\n",
            "First attributes = 13, Degree = 8, Repetition = 8, len_MSE (Train) = (5,), len_MSE (Test) = (5,)\n",
            "First attributes = 13, Degree = 8, Repetition = 9, len_MSE (Train) = (5,), len_MSE (Test) = (5,)\n",
            "First attributes = 13, Degree = 16, Repetition = 0, len_MSE (Train) = (5,), len_MSE (Test) = (5,)\n",
            "First attributes = 13, Degree = 16, Repetition = 1, len_MSE (Train) = (5,), len_MSE (Test) = (5,)\n",
            "First attributes = 13, Degree = 16, Repetition = 2, len_MSE (Train) = (5,), len_MSE (Test) = (5,)\n",
            "First attributes = 13, Degree = 16, Repetition = 3, len_MSE (Train) = (5,), len_MSE (Test) = (5,)\n",
            "First attributes = 13, Degree = 16, Repetition = 4, len_MSE (Train) = (5,), len_MSE (Test) = (5,)\n",
            "First attributes = 13, Degree = 16, Repetition = 5, len_MSE (Train) = (5,), len_MSE (Test) = (5,)\n",
            "First attributes = 13, Degree = 16, Repetition = 6, len_MSE (Train) = (5,), len_MSE (Test) = (5,)\n",
            "First attributes = 13, Degree = 16, Repetition = 7, len_MSE (Train) = (5,), len_MSE (Test) = (5,)\n",
            "First attributes = 13, Degree = 16, Repetition = 8, len_MSE (Train) = (5,), len_MSE (Test) = (5,)\n",
            "First attributes = 13, Degree = 16, Repetition = 9, len_MSE (Train) = (5,), len_MSE (Test) = (5,)\n"
          ],
          "name": "stdout"
        }
      ]
    },
    {
      "cell_type": "code",
      "metadata": {
        "id": "nEv068hPLVLn",
        "colab_type": "code",
        "outputId": "913b3d70-d8c2-4916-9a40-40b5df8ef0ba",
        "colab": {
          "base_uri": "https://localhost:8080/",
          "height": 599
        }
      },
      "source": [
        "# Graficamos los errores medios\n",
        "# Distintas escalas \n",
        "scales = [100, 1000, 10000, 100000, 100000000]\n",
        "fig, ax = plt.subplots(nrows=len(p1_attr), ncols=len(scales), figsize=(30,20))\n",
        "for i in range(len(p1_attr)):\n",
        "  for j in range(len(scales)):\n",
        "    ax[i, j].plot(p1_degrees, housing_p1_mse_per_attributes_train[i], 'r', label='Entrenamiento')\n",
        "    ax[i, j].plot(p1_degrees, housing_p1_mse_per_attributes_test[i], 'b', label='Validación')\n",
        "    ax[i, j].set_xlabel('Grado de polinomio')\n",
        "    ax[i, j].set_ylabel('MSE')\n",
        "    ax[i, j].set_ylim([0, scales[j]])\n",
        "    ax[i, j].set_xticks(ticks=p1_degrees)\n",
        "    ax[i, j].legend()\n",
        "    title = '{0} atributes and limit y = {1}'.format(p1_attr[i], scales[j])\n",
        "    ax[i, j].set_title(title)\n"
      ],
      "execution_count": 0,
      "outputs": [
        {
          "output_type": "display_data",
          "data": {
            "text/plain": [
              "<Figure size 2160x1440 with 20 Axes>"
            ],
            "image/png": "[encoded data removed]"
          },
          "metadata": {
            "tags": [],
            "needs_background": "light"
          }
        }
      ]
    },
    {
      "cell_type": "markdown",
      "metadata": {
        "id": "LRTiq0N9Am9l",
        "colab_type": "text"
      },
      "source": [
        "Pudimos observar entonces que el error cuadrático medio se varia los conjuntos de entrenamiento y en los de validación, aunque no tanto en los conjuntos de entrenamiento, sin embargo el error aumenta para ambos al aumentar el grado, esto se debe a que mientras aumentamos el grado, caemos en el sobreajuste. Parece ser que la menor cantidad de errores se presentan con polinomios de menor grado, como 2."
      ]
    },
    {
      "cell_type": "markdown",
      "metadata": {
        "id": "pckOCab1KPZZ",
        "colab_type": "text"
      },
      "source": [
        "### Parte 2: Mínimos cuadrados con expansión polinomial de grado 20 y penalización por norma $\\mathcal{l}_1$ y $\\mathcal{l}_2$ con diferentes valores de λ."
      ]
    },
    {
      "cell_type": "markdown",
      "metadata": {
        "id": "iwwF_7jCKaXI",
        "colab_type": "text"
      },
      "source": [
        "#### Probaremos con el atributo de la taza de crimen, norma $l_2$ con distintos valores de $\\lambda$."
      ]
    },
    {
      "cell_type": "code",
      "metadata": {
        "id": "WSZbD4GfLCYl",
        "colab_type": "code",
        "outputId": "227a37cc-ab48-4a5e-a491-ada800c2b958",
        "colab": {
          "base_uri": "https://localhost:8080/"
        }
      },
      "source": [
        "# Las lambdas a probar\n",
        "p2_nlambda = 9\n",
        "p2_lambda = np.geomspace(1e-20, 1e20, num=p2_nlambda)\n",
        "\n",
        "# Los primeros atributos a probar\n",
        "p2_attr = [1]\n",
        "\n",
        "# Los grados del polinomio a probar\n",
        "p2_degrees = [20]\n",
        "\n",
        "# Numero de repeticiones\n",
        "p2_repetitions = 10\n",
        "\n",
        "# Numero de particiones\n",
        "p2_k_folds = 5\n",
        "\n",
        "# Inicializamos las listas donde almacenaremos los resultados por lambda\n",
        "housing_p2_mse_per_lambda_train = []\n",
        "housing_p2_mse_per_lambda_test = []\n",
        "\n",
        "for current_lambda_i in range(p2_nlambda):\n",
        "\n",
        "  # Inicializamos las listas donde almacenaremos los resultados por atributos utilizados\n",
        "  housing_p2_mse_per_attributes_train = []\n",
        "  housing_p2_mse_per_attributes_test = []\n",
        "\n",
        "  # Recorremos el arreglo que determina los primeros n atributos que se toman en cuenta\n",
        "  for first_attributes in p2_attr:\n",
        "\n",
        "    # Inicializamos las listas donde almacenaremos los resultados por grado del polinomio\n",
        "    housing_p2_mse_per_degree_train = np.array([])\n",
        "    housing_p2_mse_per_degree_test = np.array([])\n",
        "\n",
        "    # Recorremos los distintos grados del polinomio \n",
        "    for p_degree in p2_degrees:\n",
        "      \n",
        "      # Inicializamos las listas donde almacenaremos los resultados por repetición\n",
        "      housing_p2_mse_per_repetition_train = np.array([])\n",
        "      housing_p2_mse_per_repetition_test = np.array([])\n",
        "\n",
        "      # Para la validación cruzada probaremos con 10 repeticiones\n",
        "      for repetition_i in range(p2_repetitions):\n",
        "        # Obtenemos las particiones haciendo un random shuffle del data set y dividiendolo en k particiones\n",
        "        shuffled_housing_data = housing_data.iloc[np.random.permutation(range(housing_data.shape[0]))].copy()\n",
        "        split_shuffled_housing_data = np.array_split(shuffled_housing_data, p2_k_folds)\n",
        "\n",
        "        # Inicializamos las listas donde almacenaremos los resultados por partición\n",
        "        housing_p2_mse_per_fold_train = np.array([])\n",
        "        housing_p2_mse_per_fold_test = np.array([])\n",
        "        \n",
        "        # Y por repeticion probaremos usar cada una de las particiones como test y las demas como entrenamiento.\n",
        "        for test_partition in range(p2_k_folds):\n",
        "          \n",
        "          # Definimos el conjunto de validación y de entrenamiento\n",
        "          house_data_test = split_shuffled_housing_data[test_partition]\n",
        "          house_data_train = shuffled_housing_data.loc[~shuffled_housing_data.index.isin(house_data_test.index)]\n",
        "          \n",
        "          # Obtenemos nuestra matriz de atributos dependiendo de cuales son los primeros atributos\n",
        "          feature_matrix_train = np.array(house_data_train[atribute_header[:first_attributes]].copy().values)\n",
        "          \n",
        "          # Obtenemos la matriz de diseño que obteniendo la expansion del polinomio\n",
        "          design_matrix_X_train = getPoly(feature_matrix_train, p_degree)\n",
        "          \n",
        "          # Obtenemos nuestro vector de Theta por minimos cuadrados con norma L2\n",
        "          theta_hat = theta_ms_l2(design_matrix_X_train, np.array(house_data_train['MEDV'].copy().values), p2_lambda[current_lambda_i])\n",
        "\n",
        "          # Obtenemos la predicción para entrenamiento\n",
        "          y_hat_train = linear_model_f(design_matrix_X_train, theta_hat)\n",
        "\n",
        "          # Conjunto de Validación\n",
        "          # Obtenemos nuestra matriz de atributos\n",
        "          feature_matrix_test = np.array(house_data_test[atribute_header[:first_attributes]].copy().values)\n",
        "\n",
        "          # Obtenemos la matriz de diseño que obteniendo la expansion del polinomio\n",
        "          design_matrix_X_test = getPoly(feature_matrix_test, p_degree)\n",
        "\n",
        "          # Obtenemos la predicción\n",
        "          y_hat_test = linear_model_f(design_matrix_X_test, theta_hat)\n",
        "\n",
        "          # Suma de errores\n",
        "          # La suma de errores cuadraticos para entrenamiento y validación\n",
        "          sse_train = sum_square_error(house_data_train['MEDV'], y_hat_train)\n",
        "          sse_test = sum_square_error(house_data_test['MEDV'], y_hat_test)\n",
        "\n",
        "          # El error cuadrático medio para entrenamiento y validación\n",
        "          mse_train = sse_train / house_data_train.shape[0]\n",
        "          mse_test = sse_test / house_data_test.shape[0]\n",
        "\n",
        "          # print('First attributes = {0}, Degree = {1}, Repetition = {2}, Fold = {3}, MSE (Train) = {4}, MSE (Test) = {5}'.format(first_attributes, p_degree, repetition_i, test_partition, mse_train, mse_test))\n",
        "\n",
        "          # Agregamos a las listas de resultados por partición\n",
        "          housing_p2_mse_per_fold_train = np.append(housing_p2_mse_per_fold_train, mse_train)\n",
        "          housing_p2_mse_per_fold_test = np.append(housing_p2_mse_per_fold_test, mse_test)\n",
        "\n",
        "        # Habiendo terminado las k particiones obtenemos los promedios y los agregamos a las listas de resultados por repeteción\n",
        "        print('lambda_i = {0}, First attributes = {1}, Degree = {2}, Repetition = {3}, len_MSE (Train) = {4}, len_MSE (Test) = {5}'.format(current_lambda_i, first_attributes, p_degree, repetition_i, housing_p2_mse_per_fold_train.shape, housing_p2_mse_per_fold_test.shape))\n",
        "        housing_p2_mse_per_repetition_train = np.append(housing_p2_mse_per_repetition_train, housing_p2_mse_per_fold_train.mean())\n",
        "        housing_p2_mse_per_repetition_test = np.append(housing_p2_mse_per_repetition_test, housing_p2_mse_per_fold_test.mean())\n",
        "      \n",
        "      # Habiendo terminado las n repeticiones obtenemos los promedios y los agregamos a las listas de resultados por grado del polinomio\n",
        "      housing_p2_mse_per_degree_train = np.append(housing_p2_mse_per_degree_train, housing_p2_mse_per_repetition_train.mean())\n",
        "      housing_p2_mse_per_degree_test = np.append(housing_p2_mse_per_degree_test, housing_p2_mse_per_repetition_test.mean())\n",
        "\n",
        "    # Habiendo terminado de recorrer los grados los agregamos a las listas de resultados por numero de atributos\n",
        "    housing_p2_mse_per_attributes_train.append(housing_p2_mse_per_degree_train[0])\n",
        "    housing_p2_mse_per_attributes_test.append(housing_p2_mse_per_degree_test[0])\n",
        "\n",
        "  # Habiendo terminado de recorrer los atributos los agregamos a las listas de resultados por lambda\n",
        "  housing_p2_mse_per_lambda_train.append(housing_p2_mse_per_attributes_train[0])\n",
        "  housing_p2_mse_per_lambda_test.append(housing_p2_mse_per_attributes_test[0])"
      ],
      "execution_count": 0,
      "outputs": [
        {
          "output_type": "stream",
          "text": [
            "lambda_i = 0, First attributes = 1, Degree = 20, Repetition = 0, len_MSE (Train) = (5,), len_MSE (Test) = (5,)\n",
            "lambda_i = 0, First attributes = 1, Degree = 20, Repetition = 1, len_MSE (Train) = (5,), len_MSE (Test) = (5,)\n",
            "lambda_i = 0, First attributes = 1, Degree = 20, Repetition = 2, len_MSE (Train) = (5,), len_MSE (Test) = (5,)\n",
            "lambda_i = 0, First attributes = 1, Degree = 20, Repetition = 3, len_MSE (Train) = (5,), len_MSE (Test) = (5,)\n",
            "lambda_i = 0, First attributes = 1, Degree = 20, Repetition = 4, len_MSE (Train) = (5,), len_MSE (Test) = (5,)\n",
            "lambda_i = 0, First attributes = 1, Degree = 20, Repetition = 5, len_MSE (Train) = (5,), len_MSE (Test) = (5,)\n",
            "lambda_i = 0, First attributes = 1, Degree = 20, Repetition = 6, len_MSE (Train) = (5,), len_MSE (Test) = (5,)\n",
            "lambda_i = 0, First attributes = 1, Degree = 20, Repetition = 7, len_MSE (Train) = (5,), len_MSE (Test) = (5,)\n",
            "lambda_i = 0, First attributes = 1, Degree = 20, Repetition = 8, len_MSE (Train) = (5,), len_MSE (Test) = (5,)\n",
            "lambda_i = 0, First attributes = 1, Degree = 20, Repetition = 9, len_MSE (Train) = (5,), len_MSE (Test) = (5,)\n",
            "lambda_i = 1, First attributes = 1, Degree = 20, Repetition = 0, len_MSE (Train) = (5,), len_MSE (Test) = (5,)\n",
            "lambda_i = 1, First attributes = 1, Degree = 20, Repetition = 1, len_MSE (Train) = (5,), len_MSE (Test) = (5,)\n",
            "lambda_i = 1, First attributes = 1, Degree = 20, Repetition = 2, len_MSE (Train) = (5,), len_MSE (Test) = (5,)\n",
            "lambda_i = 1, First attributes = 1, Degree = 20, Repetition = 3, len_MSE (Train) = (5,), len_MSE (Test) = (5,)\n",
            "lambda_i = 1, First attributes = 1, Degree = 20, Repetition = 4, len_MSE (Train) = (5,), len_MSE (Test) = (5,)\n",
            "lambda_i = 1, First attributes = 1, Degree = 20, Repetition = 5, len_MSE (Train) = (5,), len_MSE (Test) = (5,)\n",
            "lambda_i = 1, First attributes = 1, Degree = 20, Repetition = 6, len_MSE (Train) = (5,), len_MSE (Test) = (5,)\n",
            "lambda_i = 1, First attributes = 1, Degree = 20, Repetition = 7, len_MSE (Train) = (5,), len_MSE (Test) = (5,)\n",
            "lambda_i = 1, First attributes = 1, Degree = 20, Repetition = 8, len_MSE (Train) = (5,), len_MSE (Test) = (5,)\n",
            "lambda_i = 1, First attributes = 1, Degree = 20, Repetition = 9, len_MSE (Train) = (5,), len_MSE (Test) = (5,)\n",
            "lambda_i = 2, First attributes = 1, Degree = 20, Repetition = 0, len_MSE (Train) = (5,), len_MSE (Test) = (5,)\n",
            "lambda_i = 2, First attributes = 1, Degree = 20, Repetition = 1, len_MSE (Train) = (5,), len_MSE (Test) = (5,)\n",
            "lambda_i = 2, First attributes = 1, Degree = 20, Repetition = 2, len_MSE (Train) = (5,), len_MSE (Test) = (5,)\n",
            "lambda_i = 2, First attributes = 1, Degree = 20, Repetition = 3, len_MSE (Train) = (5,), len_MSE (Test) = (5,)\n",
            "lambda_i = 2, First attributes = 1, Degree = 20, Repetition = 4, len_MSE (Train) = (5,), len_MSE (Test) = (5,)\n",
            "lambda_i = 2, First attributes = 1, Degree = 20, Repetition = 5, len_MSE (Train) = (5,), len_MSE (Test) = (5,)\n",
            "lambda_i = 2, First attributes = 1, Degree = 20, Repetition = 6, len_MSE (Train) = (5,), len_MSE (Test) = (5,)\n",
            "lambda_i = 2, First attributes = 1, Degree = 20, Repetition = 7, len_MSE (Train) = (5,), len_MSE (Test) = (5,)\n",
            "lambda_i = 2, First attributes = 1, Degree = 20, Repetition = 8, len_MSE (Train) = (5,), len_MSE (Test) = (5,)\n",
            "lambda_i = 2, First attributes = 1, Degree = 20, Repetition = 9, len_MSE (Train) = (5,), len_MSE (Test) = (5,)\n",
            "lambda_i = 3, First attributes = 1, Degree = 20, Repetition = 0, len_MSE (Train) = (5,), len_MSE (Test) = (5,)\n",
            "lambda_i = 3, First attributes = 1, Degree = 20, Repetition = 1, len_MSE (Train) = (5,), len_MSE (Test) = (5,)\n",
            "lambda_i = 3, First attributes = 1, Degree = 20, Repetition = 2, len_MSE (Train) = (5,), len_MSE (Test) = (5,)\n",
            "lambda_i = 3, First attributes = 1, Degree = 20, Repetition = 3, len_MSE (Train) = (5,), len_MSE (Test) = (5,)\n",
            "lambda_i = 3, First attributes = 1, Degree = 20, Repetition = 4, len_MSE (Train) = (5,), len_MSE (Test) = (5,)\n",
            "lambda_i = 3, First attributes = 1, Degree = 20, Repetition = 5, len_MSE (Train) = (5,), len_MSE (Test) = (5,)\n",
            "lambda_i = 3, First attributes = 1, Degree = 20, Repetition = 6, len_MSE (Train) = (5,), len_MSE (Test) = (5,)\n",
            "lambda_i = 3, First attributes = 1, Degree = 20, Repetition = 7, len_MSE (Train) = (5,), len_MSE (Test) = (5,)\n",
            "lambda_i = 3, First attributes = 1, Degree = 20, Repetition = 8, len_MSE (Train) = (5,), len_MSE (Test) = (5,)\n",
            "lambda_i = 3, First attributes = 1, Degree = 20, Repetition = 9, len_MSE (Train) = (5,), len_MSE (Test) = (5,)\n",
            "lambda_i = 4, First attributes = 1, Degree = 20, Repetition = 0, len_MSE (Train) = (5,), len_MSE (Test) = (5,)\n",
            "lambda_i = 4, First attributes = 1, Degree = 20, Repetition = 1, len_MSE (Train) = (5,), len_MSE (Test) = (5,)\n",
            "lambda_i = 4, First attributes = 1, Degree = 20, Repetition = 2, len_MSE (Train) = (5,), len_MSE (Test) = (5,)\n",
            "lambda_i = 4, First attributes = 1, Degree = 20, Repetition = 3, len_MSE (Train) = (5,), len_MSE (Test) = (5,)\n",
            "lambda_i = 4, First attributes = 1, Degree = 20, Repetition = 4, len_MSE (Train) = (5,), len_MSE (Test) = (5,)\n",
            "lambda_i = 4, First attributes = 1, Degree = 20, Repetition = 5, len_MSE (Train) = (5,), len_MSE (Test) = (5,)\n",
            "lambda_i = 4, First attributes = 1, Degree = 20, Repetition = 6, len_MSE (Train) = (5,), len_MSE (Test) = (5,)\n",
            "lambda_i = 4, First attributes = 1, Degree = 20, Repetition = 7, len_MSE (Train) = (5,), len_MSE (Test) = (5,)\n",
            "lambda_i = 4, First attributes = 1, Degree = 20, Repetition = 8, len_MSE (Train) = (5,), len_MSE (Test) = (5,)\n",
            "lambda_i = 4, First attributes = 1, Degree = 20, Repetition = 9, len_MSE (Train) = (5,), len_MSE (Test) = (5,)\n",
            "lambda_i = 5, First attributes = 1, Degree = 20, Repetition = 0, len_MSE (Train) = (5,), len_MSE (Test) = (5,)\n",
            "lambda_i = 5, First attributes = 1, Degree = 20, Repetition = 1, len_MSE (Train) = (5,), len_MSE (Test) = (5,)\n",
            "lambda_i = 5, First attributes = 1, Degree = 20, Repetition = 2, len_MSE (Train) = (5,), len_MSE (Test) = (5,)\n",
            "lambda_i = 5, First attributes = 1, Degree = 20, Repetition = 3, len_MSE (Train) = (5,), len_MSE (Test) = (5,)\n",
            "lambda_i = 5, First attributes = 1, Degree = 20, Repetition = 4, len_MSE (Train) = (5,), len_MSE (Test) = (5,)\n",
            "lambda_i = 5, First attributes = 1, Degree = 20, Repetition = 5, len_MSE (Train) = (5,), len_MSE (Test) = (5,)\n",
            "lambda_i = 5, First attributes = 1, Degree = 20, Repetition = 6, len_MSE (Train) = (5,), len_MSE (Test) = (5,)\n",
            "lambda_i = 5, First attributes = 1, Degree = 20, Repetition = 7, len_MSE (Train) = (5,), len_MSE (Test) = (5,)\n",
            "lambda_i = 5, First attributes = 1, Degree = 20, Repetition = 8, len_MSE (Train) = (5,), len_MSE (Test) = (5,)\n",
            "lambda_i = 5, First attributes = 1, Degree = 20, Repetition = 9, len_MSE (Train) = (5,), len_MSE (Test) = (5,)\n",
            "lambda_i = 6, First attributes = 1, Degree = 20, Repetition = 0, len_MSE (Train) = (5,), len_MSE (Test) = (5,)\n",
            "lambda_i = 6, First attributes = 1, Degree = 20, Repetition = 1, len_MSE (Train) = (5,), len_MSE (Test) = (5,)\n",
            "lambda_i = 6, First attributes = 1, Degree = 20, Repetition = 2, len_MSE (Train) = (5,), len_MSE (Test) = (5,)\n",
            "lambda_i = 6, First attributes = 1, Degree = 20, Repetition = 3, len_MSE (Train) = (5,), len_MSE (Test) = (5,)\n",
            "lambda_i = 6, First attributes = 1, Degree = 20, Repetition = 4, len_MSE (Train) = (5,), len_MSE (Test) = (5,)\n",
            "lambda_i = 6, First attributes = 1, Degree = 20, Repetition = 5, len_MSE (Train) = (5,), len_MSE (Test) = (5,)\n",
            "lambda_i = 6, First attributes = 1, Degree = 20, Repetition = 6, len_MSE (Train) = (5,), len_MSE (Test) = (5,)\n",
            "lambda_i = 6, First attributes = 1, Degree = 20, Repetition = 7, len_MSE (Train) = (5,), len_MSE (Test) = (5,)\n",
            "lambda_i = 6, First attributes = 1, Degree = 20, Repetition = 8, len_MSE (Train) = (5,), len_MSE (Test) = (5,)\n",
            "lambda_i = 6, First attributes = 1, Degree = 20, Repetition = 9, len_MSE (Train) = (5,), len_MSE (Test) = (5,)\n",
            "lambda_i = 7, First attributes = 1, Degree = 20, Repetition = 0, len_MSE (Train) = (5,), len_MSE (Test) = (5,)\n",
            "lambda_i = 7, First attributes = 1, Degree = 20, Repetition = 1, len_MSE (Train) = (5,), len_MSE (Test) = (5,)\n",
            "lambda_i = 7, First attributes = 1, Degree = 20, Repetition = 2, len_MSE (Train) = (5,), len_MSE (Test) = (5,)\n",
            "lambda_i = 7, First attributes = 1, Degree = 20, Repetition = 3, len_MSE (Train) = (5,), len_MSE (Test) = (5,)\n",
            "lambda_i = 7, First attributes = 1, Degree = 20, Repetition = 4, len_MSE (Train) = (5,), len_MSE (Test) = (5,)\n",
            "lambda_i = 7, First attributes = 1, Degree = 20, Repetition = 5, len_MSE (Train) = (5,), len_MSE (Test) = (5,)\n",
            "lambda_i = 7, First attributes = 1, Degree = 20, Repetition = 6, len_MSE (Train) = (5,), len_MSE (Test) = (5,)\n",
            "lambda_i = 7, First attributes = 1, Degree = 20, Repetition = 7, len_MSE (Train) = (5,), len_MSE (Test) = (5,)\n",
            "lambda_i = 7, First attributes = 1, Degree = 20, Repetition = 8, len_MSE (Train) = (5,), len_MSE (Test) = (5,)\n",
            "lambda_i = 7, First attributes = 1, Degree = 20, Repetition = 9, len_MSE (Train) = (5,), len_MSE (Test) = (5,)\n",
            "lambda_i = 8, First attributes = 1, Degree = 20, Repetition = 0, len_MSE (Train) = (5,), len_MSE (Test) = (5,)\n",
            "lambda_i = 8, First attributes = 1, Degree = 20, Repetition = 1, len_MSE (Train) = (5,), len_MSE (Test) = (5,)\n",
            "lambda_i = 8, First attributes = 1, Degree = 20, Repetition = 2, len_MSE (Train) = (5,), len_MSE (Test) = (5,)\n",
            "lambda_i = 8, First attributes = 1, Degree = 20, Repetition = 3, len_MSE (Train) = (5,), len_MSE (Test) = (5,)\n",
            "lambda_i = 8, First attributes = 1, Degree = 20, Repetition = 4, len_MSE (Train) = (5,), len_MSE (Test) = (5,)\n",
            "lambda_i = 8, First attributes = 1, Degree = 20, Repetition = 5, len_MSE (Train) = (5,), len_MSE (Test) = (5,)\n",
            "lambda_i = 8, First attributes = 1, Degree = 20, Repetition = 6, len_MSE (Train) = (5,), len_MSE (Test) = (5,)\n",
            "lambda_i = 8, First attributes = 1, Degree = 20, Repetition = 7, len_MSE (Train) = (5,), len_MSE (Test) = (5,)\n",
            "lambda_i = 8, First attributes = 1, Degree = 20, Repetition = 8, len_MSE (Train) = (5,), len_MSE (Test) = (5,)\n",
            "lambda_i = 8, First attributes = 1, Degree = 20, Repetition = 9, len_MSE (Train) = (5,), len_MSE (Test) = (5,)\n"
          ],
          "name": "stdout"
        }
      ]
    },
    {
      "cell_type": "code",
      "metadata": {
        "id": "pprUkO35YKbY",
        "colab_type": "code",
        "outputId": "c79aef4a-2573-4094-8339-80de7439928b",
        "colab": {
          "base_uri": "https://localhost:8080/"
        }
      },
      "source": [
        "# Graficamos los errores medios\n",
        "# Distintas escalas \n",
        "scales = [1000000, 10000000, 100000000, 100000000000000000, 1000000000000000000, 10000000000000000000]\n",
        "fig, ax = plt.subplots(nrows=1, ncols=len(scales), figsize=(20,5))\n",
        "for j in range(len(scales)):\n",
        "  ax[j].plot(range(p2_nlambda), housing_p2_mse_per_lambda_train, 'r', label='Entrenamiento')\n",
        "  ax[j].plot(range(p2_nlambda), housing_p2_mse_per_lambda_test, 'b', label='Validación')\n",
        "  ax[j].set_xlabel('Lambda')\n",
        "  ax[j].set_ylabel('MSE')\n",
        "  ax[j].set_ylim([0, scales[j]])\n",
        "  ax[j].set_xticks(ticks=range(p2_nlambda))\n",
        "  ax[j].legend()\n"
      ],
      "execution_count": 0,
      "outputs": [
        {
          "output_type": "display_data",
          "data": {
            "text/plain": [
              "<Figure size 1440x360 with 6 Axes>"
            ],
            "image/png": "[encoded data removed]"
          },
          "metadata": {
            "tags": [],
            "needs_background": "light"
          }
        }
      ]
    },
    {
      "cell_type": "markdown",
      "metadata": {
        "id": "M2tS0gVEacKm",
        "colab_type": "text"
      },
      "source": [
        "En general se observa que el error medio se dispara al considerar un polinomio con un grado tal como 20, especialmente para los conjuntos de validación que requieren una escala mucho mayor para poder observarse, parece ser que lambdas cercanas a $10^5$ son las que tienen mejor desempeño, que sigue siendo bastante malo."
      ]
    },
    {
      "cell_type": "markdown",
      "metadata": {
        "id": "k8xguZydhBG8",
        "colab_type": "text"
      },
      "source": [
        "#### Probaremos la norma $l_1$ con LASSO"
      ]
    },
    {
      "cell_type": "code",
      "metadata": {
        "id": "lv9IvQL0hzff",
        "colab_type": "code",
        "outputId": "ebf72b84-73cb-453c-9253-a7493a8a3c8c",
        "colab": {
          "base_uri": "https://localhost:8080/"
        }
      },
      "source": [
        "# Las lambdas a probar\n",
        "p2_2_nlambda = 9\n",
        "p2_2_lambda = np.geomspace(1e-20, 1e20, num=p2_nlambda)\n",
        "\n",
        "# Los primeros atributos a probar\n",
        "p2_2_attr = [1]\n",
        "\n",
        "# Los grados del polinomio a probar\n",
        "p2_2_degrees = [20]\n",
        "\n",
        "# Numero de repeticiones\n",
        "p2_2_repetitions = 10\n",
        "\n",
        "# Numero de particiones\n",
        "p2_2_k_folds = 5\n",
        "\n",
        "# Inicializamos las listas donde almacenaremos los resultados por lambda\n",
        "housing_p2_2_mse_per_lambda_train = []\n",
        "housing_p2_2_mse_per_lambda_test = []\n",
        "\n",
        "for current_lambda_i in range(p2_2_nlambda):\n",
        "\n",
        "  # Inicializamos las listas donde almacenaremos los resultados por atributos utilizados\n",
        "  housing_p2_2_mse_per_attributes_train = []\n",
        "  housing_p2_2_mse_per_attributes_test = []\n",
        "\n",
        "  # Recorremos el arreglo que determina los primeros n atributos que se toman en cuenta\n",
        "  for first_attributes in p2_2_attr:\n",
        "\n",
        "    # Inicializamos las listas donde almacenaremos los resultados por grado del polinomio\n",
        "    housing_p2_2_mse_per_degree_train = np.array([])\n",
        "    housing_p2_2_mse_per_degree_test = np.array([])\n",
        "\n",
        "    # Recorremos los distintos grados del polinomio \n",
        "    for p_degree in p2_2_degrees:\n",
        "      \n",
        "      # Inicializamos las listas donde almacenaremos los resultados por repetición\n",
        "      housing_p2_2_mse_per_repetition_train = np.array([])\n",
        "      housing_p2_2_mse_per_repetition_test = np.array([])\n",
        "\n",
        "      # Para la validación cruzada probaremos con 10 repeticiones\n",
        "      for repetition_i in range(p2_2_repetitions):\n",
        "        # Obtenemos las particiones haciendo un random shuffle del data set y dividiendolo en k particiones\n",
        "        shuffled_housing_data = housing_data.iloc[np.random.permutation(range(housing_data.shape[0]))].copy()\n",
        "        split_shuffled_housing_data = np.array_split(shuffled_housing_data, p2_2_k_folds)\n",
        "\n",
        "        # Inicializamos las listas donde almacenaremos los resultados por partición\n",
        "        housing_p2_2_mse_per_fold_train = np.array([])\n",
        "        housing_p2_2_mse_per_fold_test = np.array([])\n",
        "        \n",
        "        # Y por repeticion probaremos usar cada una de las particiones como test y las demas como entrenamiento.\n",
        "        for test_partition in range(p2_2_k_folds):\n",
        "          \n",
        "          # Definimos el conjunto de validación y de entrenamiento\n",
        "          house_data_test = split_shuffled_housing_data[test_partition]\n",
        "          house_data_train = shuffled_housing_data.loc[~shuffled_housing_data.index.isin(house_data_test.index)]\n",
        "          \n",
        "          # Obtenemos nuestra matriz de atributos dependiendo de cuales son los primeros atributos\n",
        "          feature_matrix_train = np.array(house_data_train[atribute_header[:first_attributes]].copy().values)\n",
        "          \n",
        "          # Obtenemos la matriz de diseño que obteniendo la expansion del polinomio\n",
        "          design_matrix_X_train = getPoly(feature_matrix_train, p_degree)\n",
        "          \n",
        "          # Obtenemos nuestro vector de Theta por minimos cuadrados con norma L2\n",
        "          theta_hat = theta_ms_l1(design_matrix_X_train, np.array(house_data_train['MEDV'].copy().values), p2_lambda[current_lambda_i])\n",
        "\n",
        "          # Obtenemos la predicción para entrenamiento\n",
        "          y_hat_train = linear_model_f(design_matrix_X_train, theta_hat)\n",
        "\n",
        "          # Conjunto de Validación\n",
        "          # Obtenemos nuestra matriz de atributos\n",
        "          feature_matrix_test = np.array(house_data_test[atribute_header[:first_attributes]].copy().values)\n",
        "\n",
        "          # Obtenemos la matriz de diseño que obteniendo la expansion del polinomio\n",
        "          design_matrix_X_test = getPoly(feature_matrix_test, p_degree)\n",
        "\n",
        "          # Obtenemos la predicción\n",
        "          y_hat_test = linear_model_f(design_matrix_X_test, theta_hat)\n",
        "\n",
        "          # Suma de errores\n",
        "          # La suma de errores cuadraticos para entrenamiento y validación\n",
        "          sse_train = sum_square_error(house_data_train['MEDV'], y_hat_train)\n",
        "          sse_test = sum_square_error(house_data_test['MEDV'], y_hat_test)\n",
        "\n",
        "          # El error cuadrático medio para entrenamiento y validación\n",
        "          mse_train = sse_train / house_data_train.shape[0]\n",
        "          mse_test = sse_test / house_data_test.shape[0]\n",
        "\n",
        "          # print('First attributes = {0}, Degree = {1}, Repetition = {2}, Fold = {3}, MSE (Train) = {4}, MSE (Test) = {5}'.format(first_attributes, p_degree, repetition_i, test_partition, mse_train, mse_test))\n",
        "\n",
        "          # Agregamos a las listas de resultados por partición\n",
        "          housing_p2_2_mse_per_fold_train = np.append(housing_p2_2_mse_per_fold_train, mse_train)\n",
        "          housing_p2_2_mse_per_fold_test = np.append(housing_p2_2_mse_per_fold_test, mse_test)\n",
        "\n",
        "        # Habiendo terminado las k particiones obtenemos los promedios y los agregamos a las listas de resultados por repeteción\n",
        "        print('lambda_i = {0}, First attributes = {1}, Degree = {2}, Repetition = {3}, len_MSE (Train) = {4}, len_MSE (Test) = {5}'.format(current_lambda_i, first_attributes, p_degree, repetition_i, housing_p2_2_mse_per_fold_train.shape, housing_p2_2_mse_per_fold_test.shape))\n",
        "        housing_p2_2_mse_per_repetition_train = np.append(housing_p2_2_mse_per_repetition_train, housing_p2_2_mse_per_fold_train.mean())\n",
        "        housing_p2_2_mse_per_repetition_test = np.append(housing_p2_2_mse_per_repetition_test, housing_p2_2_mse_per_fold_test.mean())\n",
        "      \n",
        "      # Habiendo terminado las n repeticiones obtenemos los promedios y los agregamos a las listas de resultados por grado del polinomio\n",
        "      housing_p2_2_mse_per_degree_train = np.append(housing_p2_2_mse_per_degree_train, housing_p2_2_mse_per_repetition_train.mean())\n",
        "      housing_p2_2_mse_per_degree_test = np.append(housing_p2_2_mse_per_degree_test, housing_p2_2_mse_per_repetition_test.mean())\n",
        "\n",
        "    # Habiendo terminado de recorrer los grados los agregamos a las listas de resultados por numero de atributos\n",
        "    housing_p2_2_mse_per_attributes_train.append(housing_p2_2_mse_per_degree_train[0])\n",
        "    housing_p2_2_mse_per_attributes_test.append(housing_p2_2_mse_per_degree_test[0])\n",
        "\n",
        "  # Habiendo terminado de recorrer los atributos los agregamos a las listas de resultados por lambda\n",
        "  housing_p2_2_mse_per_lambda_train.append(housing_p2_2_mse_per_attributes_train[0])\n",
        "  housing_p2_2_mse_per_lambda_test.append(housing_p2_2_mse_per_attributes_test[0])"
      ],
      "execution_count": 0,
      "outputs": [
        {
          "output_type": "stream",
          "text": [
            "lambda_i = 0, First attributes = 1, Degree = 20, Repetition = 0, len_MSE (Train) = (5,), len_MSE (Test) = (5,)\n",
            "lambda_i = 0, First attributes = 1, Degree = 20, Repetition = 1, len_MSE (Train) = (5,), len_MSE (Test) = (5,)\n",
            "lambda_i = 0, First attributes = 1, Degree = 20, Repetition = 2, len_MSE (Train) = (5,), len_MSE (Test) = (5,)\n",
            "lambda_i = 0, First attributes = 1, Degree = 20, Repetition = 3, len_MSE (Train) = (5,), len_MSE (Test) = (5,)\n",
            "lambda_i = 0, First attributes = 1, Degree = 20, Repetition = 4, len_MSE (Train) = (5,), len_MSE (Test) = (5,)\n",
            "lambda_i = 0, First attributes = 1, Degree = 20, Repetition = 5, len_MSE (Train) = (5,), len_MSE (Test) = (5,)\n",
            "lambda_i = 0, First attributes = 1, Degree = 20, Repetition = 6, len_MSE (Train) = (5,), len_MSE (Test) = (5,)\n",
            "lambda_i = 0, First attributes = 1, Degree = 20, Repetition = 7, len_MSE (Train) = (5,), len_MSE (Test) = (5,)\n",
            "lambda_i = 0, First attributes = 1, Degree = 20, Repetition = 8, len_MSE (Train) = (5,), len_MSE (Test) = (5,)\n",
            "lambda_i = 0, First attributes = 1, Degree = 20, Repetition = 9, len_MSE (Train) = (5,), len_MSE (Test) = (5,)\n",
            "lambda_i = 1, First attributes = 1, Degree = 20, Repetition = 0, len_MSE (Train) = (5,), len_MSE (Test) = (5,)\n",
            "lambda_i = 1, First attributes = 1, Degree = 20, Repetition = 1, len_MSE (Train) = (5,), len_MSE (Test) = (5,)\n",
            "lambda_i = 1, First attributes = 1, Degree = 20, Repetition = 2, len_MSE (Train) = (5,), len_MSE (Test) = (5,)\n",
            "lambda_i = 1, First attributes = 1, Degree = 20, Repetition = 3, len_MSE (Train) = (5,), len_MSE (Test) = (5,)\n",
            "lambda_i = 1, First attributes = 1, Degree = 20, Repetition = 4, len_MSE (Train) = (5,), len_MSE (Test) = (5,)\n",
            "lambda_i = 1, First attributes = 1, Degree = 20, Repetition = 5, len_MSE (Train) = (5,), len_MSE (Test) = (5,)\n",
            "lambda_i = 1, First attributes = 1, Degree = 20, Repetition = 6, len_MSE (Train) = (5,), len_MSE (Test) = (5,)\n",
            "lambda_i = 1, First attributes = 1, Degree = 20, Repetition = 7, len_MSE (Train) = (5,), len_MSE (Test) = (5,)\n",
            "lambda_i = 1, First attributes = 1, Degree = 20, Repetition = 8, len_MSE (Train) = (5,), len_MSE (Test) = (5,)\n",
            "lambda_i = 1, First attributes = 1, Degree = 20, Repetition = 9, len_MSE (Train) = (5,), len_MSE (Test) = (5,)\n",
            "lambda_i = 2, First attributes = 1, Degree = 20, Repetition = 0, len_MSE (Train) = (5,), len_MSE (Test) = (5,)\n",
            "lambda_i = 2, First attributes = 1, Degree = 20, Repetition = 1, len_MSE (Train) = (5,), len_MSE (Test) = (5,)\n",
            "lambda_i = 2, First attributes = 1, Degree = 20, Repetition = 2, len_MSE (Train) = (5,), len_MSE (Test) = (5,)\n",
            "lambda_i = 2, First attributes = 1, Degree = 20, Repetition = 3, len_MSE (Train) = (5,), len_MSE (Test) = (5,)\n",
            "lambda_i = 2, First attributes = 1, Degree = 20, Repetition = 4, len_MSE (Train) = (5,), len_MSE (Test) = (5,)\n",
            "lambda_i = 2, First attributes = 1, Degree = 20, Repetition = 5, len_MSE (Train) = (5,), len_MSE (Test) = (5,)\n",
            "lambda_i = 2, First attributes = 1, Degree = 20, Repetition = 6, len_MSE (Train) = (5,), len_MSE (Test) = (5,)\n",
            "lambda_i = 2, First attributes = 1, Degree = 20, Repetition = 7, len_MSE (Train) = (5,), len_MSE (Test) = (5,)\n",
            "lambda_i = 2, First attributes = 1, Degree = 20, Repetition = 8, len_MSE (Train) = (5,), len_MSE (Test) = (5,)\n",
            "lambda_i = 2, First attributes = 1, Degree = 20, Repetition = 9, len_MSE (Train) = (5,), len_MSE (Test) = (5,)\n",
            "lambda_i = 3, First attributes = 1, Degree = 20, Repetition = 0, len_MSE (Train) = (5,), len_MSE (Test) = (5,)\n",
            "lambda_i = 3, First attributes = 1, Degree = 20, Repetition = 1, len_MSE (Train) = (5,), len_MSE (Test) = (5,)\n",
            "lambda_i = 3, First attributes = 1, Degree = 20, Repetition = 2, len_MSE (Train) = (5,), len_MSE (Test) = (5,)\n",
            "lambda_i = 3, First attributes = 1, Degree = 20, Repetition = 3, len_MSE (Train) = (5,), len_MSE (Test) = (5,)\n",
            "lambda_i = 3, First attributes = 1, Degree = 20, Repetition = 4, len_MSE (Train) = (5,), len_MSE (Test) = (5,)\n",
            "lambda_i = 3, First attributes = 1, Degree = 20, Repetition = 5, len_MSE (Train) = (5,), len_MSE (Test) = (5,)\n",
            "lambda_i = 3, First attributes = 1, Degree = 20, Repetition = 6, len_MSE (Train) = (5,), len_MSE (Test) = (5,)\n",
            "lambda_i = 3, First attributes = 1, Degree = 20, Repetition = 7, len_MSE (Train) = (5,), len_MSE (Test) = (5,)\n",
            "lambda_i = 3, First attributes = 1, Degree = 20, Repetition = 8, len_MSE (Train) = (5,), len_MSE (Test) = (5,)\n",
            "lambda_i = 3, First attributes = 1, Degree = 20, Repetition = 9, len_MSE (Train) = (5,), len_MSE (Test) = (5,)\n",
            "lambda_i = 4, First attributes = 1, Degree = 20, Repetition = 0, len_MSE (Train) = (5,), len_MSE (Test) = (5,)\n",
            "lambda_i = 4, First attributes = 1, Degree = 20, Repetition = 1, len_MSE (Train) = (5,), len_MSE (Test) = (5,)\n",
            "lambda_i = 4, First attributes = 1, Degree = 20, Repetition = 2, len_MSE (Train) = (5,), len_MSE (Test) = (5,)\n",
            "lambda_i = 4, First attributes = 1, Degree = 20, Repetition = 3, len_MSE (Train) = (5,), len_MSE (Test) = (5,)\n",
            "lambda_i = 4, First attributes = 1, Degree = 20, Repetition = 4, len_MSE (Train) = (5,), len_MSE (Test) = (5,)\n",
            "lambda_i = 4, First attributes = 1, Degree = 20, Repetition = 5, len_MSE (Train) = (5,), len_MSE (Test) = (5,)\n",
            "lambda_i = 4, First attributes = 1, Degree = 20, Repetition = 6, len_MSE (Train) = (5,), len_MSE (Test) = (5,)\n",
            "lambda_i = 4, First attributes = 1, Degree = 20, Repetition = 7, len_MSE (Train) = (5,), len_MSE (Test) = (5,)\n",
            "lambda_i = 4, First attributes = 1, Degree = 20, Repetition = 8, len_MSE (Train) = (5,), len_MSE (Test) = (5,)\n",
            "lambda_i = 4, First attributes = 1, Degree = 20, Repetition = 9, len_MSE (Train) = (5,), len_MSE (Test) = (5,)\n",
            "lambda_i = 5, First attributes = 1, Degree = 20, Repetition = 0, len_MSE (Train) = (5,), len_MSE (Test) = (5,)\n",
            "lambda_i = 5, First attributes = 1, Degree = 20, Repetition = 1, len_MSE (Train) = (5,), len_MSE (Test) = (5,)\n",
            "lambda_i = 5, First attributes = 1, Degree = 20, Repetition = 2, len_MSE (Train) = (5,), len_MSE (Test) = (5,)\n",
            "lambda_i = 5, First attributes = 1, Degree = 20, Repetition = 3, len_MSE (Train) = (5,), len_MSE (Test) = (5,)\n",
            "lambda_i = 5, First attributes = 1, Degree = 20, Repetition = 4, len_MSE (Train) = (5,), len_MSE (Test) = (5,)\n",
            "lambda_i = 5, First attributes = 1, Degree = 20, Repetition = 5, len_MSE (Train) = (5,), len_MSE (Test) = (5,)\n",
            "lambda_i = 5, First attributes = 1, Degree = 20, Repetition = 6, len_MSE (Train) = (5,), len_MSE (Test) = (5,)\n",
            "lambda_i = 5, First attributes = 1, Degree = 20, Repetition = 7, len_MSE (Train) = (5,), len_MSE (Test) = (5,)\n",
            "lambda_i = 5, First attributes = 1, Degree = 20, Repetition = 8, len_MSE (Train) = (5,), len_MSE (Test) = (5,)\n",
            "lambda_i = 5, First attributes = 1, Degree = 20, Repetition = 9, len_MSE (Train) = (5,), len_MSE (Test) = (5,)\n",
            "lambda_i = 6, First attributes = 1, Degree = 20, Repetition = 0, len_MSE (Train) = (5,), len_MSE (Test) = (5,)\n",
            "lambda_i = 6, First attributes = 1, Degree = 20, Repetition = 1, len_MSE (Train) = (5,), len_MSE (Test) = (5,)\n",
            "lambda_i = 6, First attributes = 1, Degree = 20, Repetition = 2, len_MSE (Train) = (5,), len_MSE (Test) = (5,)\n",
            "lambda_i = 6, First attributes = 1, Degree = 20, Repetition = 3, len_MSE (Train) = (5,), len_MSE (Test) = (5,)\n",
            "lambda_i = 6, First attributes = 1, Degree = 20, Repetition = 4, len_MSE (Train) = (5,), len_MSE (Test) = (5,)\n",
            "lambda_i = 6, First attributes = 1, Degree = 20, Repetition = 5, len_MSE (Train) = (5,), len_MSE (Test) = (5,)\n",
            "lambda_i = 6, First attributes = 1, Degree = 20, Repetition = 6, len_MSE (Train) = (5,), len_MSE (Test) = (5,)\n",
            "lambda_i = 6, First attributes = 1, Degree = 20, Repetition = 7, len_MSE (Train) = (5,), len_MSE (Test) = (5,)\n",
            "lambda_i = 6, First attributes = 1, Degree = 20, Repetition = 8, len_MSE (Train) = (5,), len_MSE (Test) = (5,)\n",
            "lambda_i = 6, First attributes = 1, Degree = 20, Repetition = 9, len_MSE (Train) = (5,), len_MSE (Test) = (5,)\n",
            "lambda_i = 7, First attributes = 1, Degree = 20, Repetition = 0, len_MSE (Train) = (5,), len_MSE (Test) = (5,)\n",
            "lambda_i = 7, First attributes = 1, Degree = 20, Repetition = 1, len_MSE (Train) = (5,), len_MSE (Test) = (5,)\n",
            "lambda_i = 7, First attributes = 1, Degree = 20, Repetition = 2, len_MSE (Train) = (5,), len_MSE (Test) = (5,)\n",
            "lambda_i = 7, First attributes = 1, Degree = 20, Repetition = 3, len_MSE (Train) = (5,), len_MSE (Test) = (5,)\n",
            "lambda_i = 7, First attributes = 1, Degree = 20, Repetition = 4, len_MSE (Train) = (5,), len_MSE (Test) = (5,)\n",
            "lambda_i = 7, First attributes = 1, Degree = 20, Repetition = 5, len_MSE (Train) = (5,), len_MSE (Test) = (5,)\n",
            "lambda_i = 7, First attributes = 1, Degree = 20, Repetition = 6, len_MSE (Train) = (5,), len_MSE (Test) = (5,)\n",
            "lambda_i = 7, First attributes = 1, Degree = 20, Repetition = 7, len_MSE (Train) = (5,), len_MSE (Test) = (5,)\n",
            "lambda_i = 7, First attributes = 1, Degree = 20, Repetition = 8, len_MSE (Train) = (5,), len_MSE (Test) = (5,)\n",
            "lambda_i = 7, First attributes = 1, Degree = 20, Repetition = 9, len_MSE (Train) = (5,), len_MSE (Test) = (5,)\n",
            "lambda_i = 8, First attributes = 1, Degree = 20, Repetition = 0, len_MSE (Train) = (5,), len_MSE (Test) = (5,)\n",
            "lambda_i = 8, First attributes = 1, Degree = 20, Repetition = 1, len_MSE (Train) = (5,), len_MSE (Test) = (5,)\n",
            "lambda_i = 8, First attributes = 1, Degree = 20, Repetition = 2, len_MSE (Train) = (5,), len_MSE (Test) = (5,)\n",
            "lambda_i = 8, First attributes = 1, Degree = 20, Repetition = 3, len_MSE (Train) = (5,), len_MSE (Test) = (5,)\n",
            "lambda_i = 8, First attributes = 1, Degree = 20, Repetition = 4, len_MSE (Train) = (5,), len_MSE (Test) = (5,)\n",
            "lambda_i = 8, First attributes = 1, Degree = 20, Repetition = 5, len_MSE (Train) = (5,), len_MSE (Test) = (5,)\n",
            "lambda_i = 8, First attributes = 1, Degree = 20, Repetition = 6, len_MSE (Train) = (5,), len_MSE (Test) = (5,)\n",
            "lambda_i = 8, First attributes = 1, Degree = 20, Repetition = 7, len_MSE (Train) = (5,), len_MSE (Test) = (5,)\n",
            "lambda_i = 8, First attributes = 1, Degree = 20, Repetition = 8, len_MSE (Train) = (5,), len_MSE (Test) = (5,)\n",
            "lambda_i = 8, First attributes = 1, Degree = 20, Repetition = 9, len_MSE (Train) = (5,), len_MSE (Test) = (5,)\n"
          ],
          "name": "stdout"
        }
      ]
    },
    {
      "cell_type": "code",
      "metadata": {
        "id": "wLfqdUlawcLF",
        "colab_type": "code",
        "outputId": "e9be6884-11c1-4bfa-dcdf-56272f0b8ce2",
        "colab": {
          "base_uri": "https://localhost:8080/"
        }
      },
      "source": [
        "# Graficamos los errores medios\n",
        "# Distintas escalas \n",
        "scales_2 = [1000, 5000, 10000, 100000, 1000000]\n",
        "fig, ax = plt.subplots(nrows=1, ncols=len(scales_2), figsize=(25,5))\n",
        "for j in range(len(scales_2)):\n",
        "  ax[j].plot(range(p2_2_nlambda), housing_p2_2_mse_per_lambda_train, 'r', label='Entrenamiento')\n",
        "  ax[j].plot(range(p2_2_nlambda), housing_p2_2_mse_per_lambda_test, 'b', label='Validación')\n",
        "  ax[j].set_xlabel('Lambda')\n",
        "  ax[j].set_ylabel('MSE')\n",
        "  ax[j].set_ylim([0, scales_2[j]])\n",
        "  ax[j].set_xticks(ticks=range(p2_2_nlambda))\n",
        "  ax[j].legend()"
      ],
      "execution_count": 0,
      "outputs": [
        {
          "output_type": "display_data",
          "data": {
            "text/plain": [
              "<Figure size 1800x360 with 5 Axes>"
            ],
            "image/png": "[encoded data removed]"
          },
          "metadata": {
            "tags": [],
            "needs_background": "light"
          }
        }
      ]
    },
    {
      "cell_type": "markdown",
      "metadata": {
        "id": "kfSWqKi40Uq5",
        "colab_type": "text"
      },
      "source": [
        "Podemos observar que el error es mucho menor que por norma l2, además de que estan mas juntos los errores de el conjunto de validación y entrenamiento, al parecer en los valores mas altos de $\\lambda$ se aumenta el error para validación y se disminuye el de entrenamiento, y los peores errores se encuentran dependiendo de la convergencia de LASSO lo cual dispara el error en algunas instancias."
      ]
    },
    {
      "cell_type": "markdown",
      "metadata": {
        "id": "vSQGUNLJ1twF",
        "colab_type": "text"
      },
      "source": [
        "### Parte 3: Mínimos cuadrados con expansión polinomial de grado 2 y selección de atributos."
      ]
    },
    {
      "cell_type": "markdown",
      "metadata": {
        "id": "xspTHWgc10jQ",
        "colab_type": "text"
      },
      "source": [
        "Realizaremos selección de atributos:\n",
        "* **Hacia adelante**: Probamos agregando como primer atributo a cada uno, vemos cual dio menos error en el conjunto de validación en las repeticiones y lo tomamos, posteriormente probamos agregar otro atributo probando cada uno de los restantes, vemos cual dio menos error en validación en las repeticiones y lo tomamos. Este proceso se repite hasta teminar tomando los 13 atributos y reportamos cual subconjunto fue el de menor error."
      ]
    },
    {
      "cell_type": "markdown",
      "metadata": {
        "id": "662LmM1C13tn",
        "colab_type": "text"
      },
      "source": [
        "#### Selección de atributos hacia adelante.\n"
      ]
    },
    {
      "cell_type": "code",
      "metadata": {
        "id": "mIjmnw5d3Wvq",
        "colab_type": "code",
        "outputId": "7b0ecfcc-1cf1-4298-a423-28359c6dafb1",
        "colab": {
          "base_uri": "https://localhost:8080/"
        }
      },
      "source": [
        "# Transformamos el arreglo de atributos a un arreglo de numpy\n",
        "np_attribute_header = np.array(atribute_header[:-1])\n",
        "\n",
        "# Inicializamos nuestra lista de parametros inicial\n",
        "attribute_set = np.array([])\n",
        "\n",
        "# El grado del polinomio a usar\n",
        "p3_degree = 2\n",
        "\n",
        "# Numero de repeticiones\n",
        "p3_repetitions = 10\n",
        "\n",
        "# Numero de particiones\n",
        "p3_k_folds = 5\n",
        "\n",
        "# Inicializamos las listas donde almacenaremos los resultados por tamaño del conjunto de atributos\n",
        "housing_p3_mse_per_attribute_set_train = []\n",
        "housing_p3_mse_per_attribute_set_test = []\n",
        "\n",
        "# Realizaremos 13 iteraciones pues en cada iteración agregamos un atributo y tenemos a lo mas 13 atributos\n",
        "for iteration_i in range(len(np_attribute_header)):\n",
        "\n",
        "  # Inicializamos las variables donde guardaremos los valores del que tuvo menor error en el conjunto de validación en este subconjunto\n",
        "  attribute_to_insert = ''\n",
        "  min_mse_per_attribute_to_insert_train = 0.0\n",
        "  min_mse_per_attribute_to_insert_test = 0.0\n",
        "  \n",
        "  # Recorremos los atributos y revisamos cuales podemos tomar para calcular su mse\n",
        "  for attribute_to_test in np_attribute_header:\n",
        "    \n",
        "    # Si ya tomamos al atributo lo ignoramos y pasamos al siguiente\n",
        "    if attribute_set.shape[0] > 0:\n",
        "      if attribute_to_test in attribute_set: \n",
        "        continue\n",
        "    \n",
        "    # Armamos el conjunto de atributos de prueba incluyendo este nuevo atributo para probar\n",
        "    current_new_attribute_set = np.copy(attribute_set)\n",
        "    current_new_attribute_set = np.append(current_new_attribute_set, attribute_to_test)\n",
        "    \n",
        "    # Inicializamos las listas donde almacenaremos los resultados por repetición\n",
        "    housing_p3_mse_per_repetition_train = np.array([])\n",
        "    housing_p3_mse_per_repetition_test = np.array([])\n",
        "\n",
        "    # Para la validación cruzada probaremos con 10 repeticiones\n",
        "    for repetition_i in range(p3_repetitions):\n",
        "      \n",
        "      # Obtenemos las particiones haciendo un random shuffle del data set y dividiendolo en k particiones\n",
        "      shuffled_housing_data = housing_data.iloc[np.random.permutation(range(housing_data.shape[0]))].copy()\n",
        "      split_shuffled_housing_data = np.array_split(shuffled_housing_data, p3_k_folds)\n",
        "\n",
        "      # Inicializamos las listas donde almacenaremos los resultados por partición\n",
        "      housing_p3_mse_per_fold_train = np.array([])\n",
        "      housing_p3_mse_per_fold_test = np.array([])\n",
        "        \n",
        "      # Y por repeticion probaremos usar cada una de las particiones como test y las demas como entrenamiento.\n",
        "      for test_partition in range(p3_k_folds):\n",
        "          \n",
        "        # Definimos el conjunto de validación y de entrenamiento\n",
        "        house_data_test = split_shuffled_housing_data[test_partition]\n",
        "        house_data_train = shuffled_housing_data.loc[~shuffled_housing_data.index.isin(house_data_test.index)]\n",
        "          \n",
        "        # Obtenemos nuestra matriz de atributos dependiendo de cuales son los primeros atributos\n",
        "        feature_matrix_train = np.array(house_data_train[current_new_attribute_set].copy().values)\n",
        "          \n",
        "        # Obtenemos la matriz de diseño que obteniendo la expansion del polinomio\n",
        "        design_matrix_X_train = getPoly(feature_matrix_train, p3_degree)\n",
        "          \n",
        "        # Obtenemos nuestro vector de Theta por minimos cuadrados simple\n",
        "        theta_hat = theta_ms(design_matrix_X_train, np.array(house_data_train['MEDV'].copy().values))\n",
        "\n",
        "        # Obtenemos la predicción para entrenamiento\n",
        "        y_hat_train = linear_model_f(design_matrix_X_train, theta_hat)\n",
        "\n",
        "        # Conjunto de Validación\n",
        "        # Obtenemos nuestra matriz de atributos\n",
        "        feature_matrix_test = np.array(house_data_test[current_new_attribute_set].copy().values)\n",
        "\n",
        "        # Obtenemos la matriz de diseño que obteniendo la expansion del polinomio\n",
        "        design_matrix_X_test = getPoly(feature_matrix_test, p3_degree)\n",
        "\n",
        "        # Obtenemos la predicción\n",
        "        y_hat_test = linear_model_f(design_matrix_X_test, theta_hat)\n",
        "\n",
        "        # Suma de errores\n",
        "        # La suma de errores cuadraticos para entrenamiento y validación\n",
        "        sse_train = sum_square_error(house_data_train['MEDV'], y_hat_train)\n",
        "        sse_test = sum_square_error(house_data_test['MEDV'], y_hat_test)\n",
        "\n",
        "        # El error cuadrático medio para entrenamiento y validación\n",
        "        mse_train = sse_train / house_data_train.shape[0]\n",
        "        mse_test = sse_test / house_data_test.shape[0]\n",
        "\n",
        "        # Agregamos a las listas de resultados por partición\n",
        "        housing_p3_mse_per_fold_train = np.append(housing_p3_mse_per_fold_train, mse_train)\n",
        "        housing_p3_mse_per_fold_test = np.append(housing_p3_mse_per_fold_test, mse_test)\n",
        "\n",
        "      # Habiendo terminado las k particiones obtenemos los promedios y los agregamos a las listas de resultados por repeteción\n",
        "      housing_p3_mse_per_repetition_train = np.append(housing_p3_mse_per_repetition_train, housing_p3_mse_per_fold_train.mean())\n",
        "      housing_p3_mse_per_repetition_test = np.append(housing_p3_mse_per_repetition_test, housing_p3_mse_per_fold_test.mean())\n",
        "      \n",
        "    # Habiendo terminado las n repeticiones obtenemos los promedios y verificamos si es que es el menor error de validación para agregarlo al conjunto actual\n",
        "    # Verificamos si es que es el primero en ser evaluado\n",
        "    repetition_p3_mse_mean_train = housing_p3_mse_per_repetition_train.mean()\n",
        "    repetition_p3_mse_mean_test = housing_p3_mse_per_repetition_test.mean()\n",
        "\n",
        "    if (attribute_to_insert == ''):\n",
        "      min_mse_per_attribute_to_insert_train = repetition_p3_mse_mean_train\n",
        "      min_mse_per_attribute_to_insert_test = repetition_p3_mse_mean_test\n",
        "      attribute_to_insert = attribute_to_test\n",
        "    else :\n",
        "      if (min_mse_per_attribute_to_insert_test > repetition_p3_mse_mean_test):\n",
        "        min_mse_per_attribute_to_insert_train = repetition_p3_mse_mean_train\n",
        "        min_mse_per_attribute_to_insert_test = repetition_p3_mse_mean_test\n",
        "        attribute_to_insert = attribute_to_test\n",
        "  # Habiendo terminado \n",
        "  print('iteration_i = {0}, attribute_to_insert = {1}, mse_train = {2}, mse_test = {3}'.format(iteration_i, attribute_to_insert, min_mse_per_attribute_to_insert_train, min_mse_per_attribute_to_insert_test))\n",
        "  attribute_set = np.append(attribute_set, attribute_to_insert)\n",
        "  housing_p3_mse_per_attribute_set_train.append(min_mse_per_attribute_to_insert_train)\n",
        "  housing_p3_mse_per_attribute_set_test.append(min_mse_per_attribute_to_insert_test)"
      ],
      "execution_count": 0,
      "outputs": [
        {
          "output_type": "stream",
          "text": [
            "iteration_i = 0, attribute_to_insert = LSTAT, mse_train = 30.27368187703606, mse_test = 30.841203787499932\n",
            "iteration_i = 1, attribute_to_insert = RM, mse_train = 20.916799836800674, mse_test = 22.015521155154847\n",
            "iteration_i = 2, attribute_to_insert = PTRATIO, mse_train = 19.315695179208472, mse_test = 20.4456007135565\n",
            "iteration_i = 3, attribute_to_insert = NOX, mse_train = 18.349040685132174, mse_test = 19.747559878095963\n",
            "iteration_i = 4, attribute_to_insert = DIS, mse_train = 17.35192884768483, mse_test = 18.665324634539196\n",
            "iteration_i = 5, attribute_to_insert = CRIM, mse_train = 16.335474478535147, mse_test = 17.906246043134832\n",
            "iteration_i = 6, attribute_to_insert = RAD, mse_train = 15.77746290311382, mse_test = 17.58851003022331\n",
            "iteration_i = 7, attribute_to_insert = CHAS, mse_train = 15.241769021041389, mse_test = 17.537411519449208\n",
            "iteration_i = 8, attribute_to_insert = INDUS, mse_train = 17.312275313170275, mse_test = 19.688102341616815\n",
            "iteration_i = 9, attribute_to_insert = ZN, mse_train = 17.690544288857808, mse_test = 19.857046764914074\n",
            "iteration_i = 10, attribute_to_insert = TAX, mse_train = 18.40804770433718, mse_test = 20.65949158276868\n",
            "iteration_i = 11, attribute_to_insert = B, mse_train = 18.480444695497784, mse_test = 20.86976189752529\n",
            "iteration_i = 12, attribute_to_insert = AGE, mse_train = 19.461907185042215, mse_test = 22.509124885299563\n"
          ],
          "name": "stdout"
        }
      ]
    },
    {
      "cell_type": "markdown",
      "metadata": {
        "id": "MP8X_rMVwEb3",
        "colab_type": "text"
      },
      "source": [
        "En este orden se fueron agregando los atributos:"
      ]
    },
    {
      "cell_type": "code",
      "metadata": {
        "id": "onCgr-8G6-qh",
        "colab_type": "code",
        "outputId": "88b08255-4e44-4c40-fc45-0b4a07eb1520",
        "colab": {
          "base_uri": "https://localhost:8080/"
        }
      },
      "source": [
        "attribute_set"
      ],
      "execution_count": 0,
      "outputs": [
        {
          "output_type": "execute_result",
          "data": {
            "text/plain": [
              "array(['LSTAT', 'RM', 'PTRATIO', 'NOX', 'DIS', 'CRIM', 'RAD', 'CHAS',\n",
              "       'INDUS', 'ZN', 'TAX', 'B', 'AGE'], dtype='<U32')"
            ]
          },
          "metadata": {
            "tags": []
          },
          "execution_count": 50
        }
      ]
    },
    {
      "cell_type": "markdown",
      "metadata": {
        "id": "m-Q0Zx2ZwJbY",
        "colab_type": "text"
      },
      "source": [
        "Y la gráfica para determinar como se ve es:"
      ]
    },
    {
      "cell_type": "code",
      "metadata": {
        "id": "sChcxnxYwSzt",
        "colab_type": "code",
        "outputId": "49125c8f-3484-4868-c68d-b4255536602e",
        "colab": {
          "base_uri": "https://localhost:8080/"
        }
      },
      "source": [
        "fig = plt.figure(figsize=(7,5))\n",
        "ax=fig.add_axes([0,0,1,1])\n",
        "ax.plot(attribute_set, housing_p3_mse_per_attribute_set_train, 'r', label='Entrenamiento');\n",
        "ax.plot(attribute_set, housing_p3_mse_per_attribute_set_test, 'b', label='Validación');\n",
        "plt.legend()\n",
        "plt.show()"
      ],
      "execution_count": 0,
      "outputs": [
        {
          "output_type": "display_data",
          "data": {
            "text/plain": [
              "<Figure size 504x360 with 1 Axes>"
            ],
            "image/png": "[encoded data removed]"
          },
          "metadata": {
            "tags": [],
            "needs_background": "light"
          }
        }
      ]
    },
    {
      "cell_type": "markdown",
      "metadata": {
        "id": "S5gimoGd2ZZM",
        "colab_type": "text"
      },
      "source": [
        "En este caso el error fue disminuyendo al agregar atributos, sin embargo también se puede apreciar que en un momento vuelve a subir el error, lo cual implicaría un sobreajuste debido a la complejidad del modelo."
      ]
    },
    {
      "cell_type": "code",
      "metadata": {
        "id": "JMiRDjN82pTy",
        "colab_type": "code",
        "outputId": "17258cdc-a9e3-4529-8afb-fc4edd15ff0e",
        "colab": {
          "base_uri": "https://localhost:8080/"
        }
      },
      "source": [
        "# Transformarmos el arreglo de resultados para el conjunto de validación a un arreglo de numpy\n",
        "np_housing_p3_mse_per_attribute_set_test = np.array(housing_p3_mse_per_attribute_set_test)\n",
        "p3_min_id = np_housing_p3_mse_per_attribute_set_test.argmin()\n",
        "print('El menor error Fue con el subconjunto de tamaño: {0}'.format(p3_min_id + 1))\n",
        "print(attribute_set[:p3_min_id + 1])\n",
        "print(np_housing_p3_mse_per_attribute_set_test.min())"
      ],
      "execution_count": 0,
      "outputs": [
        {
          "output_type": "stream",
          "text": [
            "El menor error Fue con el subconjunto de tamaño: 8\n",
            "['LSTAT' 'RM' 'PTRATIO' 'NOX' 'DIS' 'CRIM' 'RAD' 'CHAS']\n",
            "17.537411519449208\n"
          ],
          "name": "stdout"
        }
      ]
    },
    {
      "cell_type": "markdown",
      "metadata": {
        "id": "OHHVVW6w8Niy",
        "colab_type": "text"
      },
      "source": [
        "## Ejercicio 2 - Predicción de juegos\n",
        "Un club del juego de Go recopiló los resultados de varias partidas entre diferentes jugadores, almacenados en el archivo juegos_entrenamiento.txt, con el objetivo de predecir el resultado de partidas futuras, ejemplos de las cuales se encuentran en el archivo juegos_validacion.txt. Los archivos juegos_entrenamiento.txt y juegos_validacion.txt contienen 3 columnas: la primera corresponde al identificador del jugador A, la segunda al identificador del jugador B y la tercera es el resultado de la partida (1 si ganó el jugador A o 0 si ganó el jugador B). En el club hay un total de D jugadores, por lo que cada identificador es un número entero entre 1 y D. La predicción del resultado de un juego se puede plantear como un problema de clasificación: dados 2 jugadores (A y B) se requiere predecir si A ganó (y = 1) o si fue B (y = 0).\n",
        "\n",
        "Realice los siguientes ejercicios:\n",
        "* Entrena y evalúa un clasificador bayesiano ingenuo. Al ser un modelo generativo (modela\n",
        "la probabilidad conjunta P(x, y)), es posible generar partidas artificiales con los parámetros\n",
        "calculados. Genera nuevas partidas que sigan la distribución modelada.\n",
        "* Entrena y evalúa un clasificador de regresión logística. Para esto es necesario reparametrizar las entradas. Explica el procedimiento y la lógica de la reparametrización que realizaste. Selecciona y visualiza los valores de los parámetros. Grafica las curvas ROC y de precisión exhaustividad y reporta sus áreas bajo la curva.\n",
        "* Compara el clasificador bayesiano ingenuo y regresión logística en este problema. ¿Qué ventajas y desventajas tienen los modelos entrenados? ¿Qué pasaría si se entrena el clasificador bayesiano ingenuo con los vectores reparametrizados o si se entrena un modelo de regresión logística usando los vectores de entrada originales? ¿Consideras que las presuposiciones de cada clasificador son apropiadas para los datos del problema? ¿Para este tipo de problemas cuál de los dos recomendarías y por qué?\n",
        "\n",
        "* Deriva la regla de actualización para el algoritmo del descenso por gradiente de un clasificador donde $\\hat{y} = sigm(\\theta^T x)$ y la función de pérdida sea: \n",
        "$$\n",
        "E(\\theta) = \\frac{1}{2}\\sum_{i=1}^{n}{(\\hat{y}^{(i)} - y^{(i)})}\n",
        "$$\n",
        "Discute las diferencias entre este clasificador y el de regresión logística y compara sus rendimientos en la tarea de predicción de juegos.\n",
        "\n",
        "\n"
      ]
    },
    {
      "cell_type": "markdown",
      "metadata": {
        "id": "tK2Fyv65AE1o",
        "colab_type": "text"
      },
      "source": [
        "### Descarga de base de datos"
      ]
    },
    {
      "cell_type": "code",
      "metadata": {
        "id": "UZEi8GunCamo",
        "colab_type": "code",
        "outputId": "65cc847b-3c81-4224-eaf0-2bb0f3230f26",
        "colab": {
          "base_uri": "https://localhost:8080/"
        }
      },
      "source": [
        "# Descargamos la base de datos\n",
        "!wget -O regl_data.zip http://turing.iimas.unam.mx/~gibranfp/cursos/aprendizaje_automatizado/data/regl_data.zip"
      ],
      "execution_count": 0,
      "outputs": [
        {
          "output_type": "stream",
          "text": [
            "--2020-04-17 08:27:02--  http://turing.iimas.unam.mx/~gibranfp/cursos/aprendizaje_automatizado/data/regl_data.zip\r\n",
            "Resolving turing.iimas.unam.mx (turing.iimas.unam.mx)... 132.248.51.88\n",
            "Connecting to turing.iimas.unam.mx (turing.iimas.unam.mx)|132.248.51.88|:80... connected.\n",
            "HTTP request sent, awaiting response... 200 OK\n",
            "Length: 12543 (12K) [application/zip]\n",
            "Saving to: ‘regl_data.zip’\n",
            "\n",
            "regl_data.zip       100%[===================>]  12.25K  --.-KB/s    in 0.003s  \n",
            "\n",
            "2020-04-17 08:27:03 (3.97 MB/s) - ‘regl_data.zip’ saved [12543/12543]\n",
            "\n"
          ],
          "name": "stdout"
        }
      ]
    },
    {
      "cell_type": "code",
      "metadata": {
        "id": "nMhVHcM9CyUF",
        "colab_type": "code",
        "outputId": "04fa9378-7f38-49db-8791-2a03c6014483",
        "colab": {
          "base_uri": "https://localhost:8080/"
        }
      },
      "source": [
        "# hacemos unzip\n",
        "!unzip -o regl_data.zip"
      ],
      "execution_count": 0,
      "outputs": [
        {
          "output_type": "stream",
          "text": [
            "Archive:  regl_data.zip\n",
            "   creating: regl_data/\n",
            "  inflating: regl_data/juegos_entrenamiento.txt  \n",
            "  inflating: regl_data/juegos_validacion.txt  \n",
            "  inflating: regl_data/x_entrenamiento.csv  \n",
            "  inflating: regl_data/x_validacion.csv  \n",
            "  inflating: regl_data/y_entrenamiento.csv  \n",
            "  inflating: regl_data/y_validacion.csv  \n"
          ],
          "name": "stdout"
        }
      ]
    },
    {
      "cell_type": "code",
      "metadata": {
        "id": "dkgLi6uOw_Xq",
        "colab_type": "code",
        "outputId": "bc5c1b41-c55c-4aba-d512-77b8dc644926",
        "colab": {
          "base_uri": "https://localhost:8080/"
        }
      },
      "source": [
        "# Leemos las partidas de entrenamiento en un dataframe\n",
        "go_matches_train = pd.read_csv('regl_data/juegos_entrenamiento.txt', header=None, delim_whitespace=True)\n",
        "go_matches_train"
      ],
      "execution_count": 0,
      "outputs": [
        {
          "output_type": "execute_result",
          "data": {
            "text/plain": [
              "      0   1  2\n",
              "0     3   4  1\n",
              "1     7   8  1\n",
              "2    40  10  1\n",
              "3    16  17  1\n",
              "4     8  18  1\n",
              "..   ..  .. ..\n",
              "314  80  97  1\n",
              "315  81  45  0\n",
              "316  35  43  1\n",
              "317  87  23  0\n",
              "318  70  43  1\n",
              "\n",
              "[319 rows x 3 columns]"
            ],
            "text/html": [
              "<div>\n",
              "<style scoped>\n",
              "    .dataframe tbody tr th:only-of-type {\n",
              "        vertical-align: middle;\n",
              "    }\n",
              "\n",
              "    .dataframe tbody tr th {\n",
              "        vertical-align: top;\n",
              "    }\n",
              "\n",
              "    .dataframe thead th {\n",
              "        text-align: right;\n",
              "    }\n",
              "</style>\n",
              "<table border=\"1\" class=\"dataframe\">\n",
              "  <thead>\n",
              "    <tr style=\"text-align: right;\">\n",
              "      <th></th>\n",
              "      <th>0</th>\n",
              "      <th>1</th>\n",
              "      <th>2</th>\n",
              "    </tr>\n",
              "  </thead>\n",
              "  <tbody>\n",
              "    <tr>\n",
              "      <th>0</th>\n",
              "      <td>3</td>\n",
              "      <td>4</td>\n",
              "      <td>1</td>\n",
              "    </tr>\n",
              "    <tr>\n",
              "      <th>1</th>\n",
              "      <td>7</td>\n",
              "      <td>8</td>\n",
              "      <td>1</td>\n",
              "    </tr>\n",
              "    <tr>\n",
              "      <th>2</th>\n",
              "      <td>40</td>\n",
              "      <td>10</td>\n",
              "      <td>1</td>\n",
              "    </tr>\n",
              "    <tr>\n",
              "      <th>3</th>\n",
              "      <td>16</td>\n",
              "      <td>17</td>\n",
              "      <td>1</td>\n",
              "    </tr>\n",
              "    <tr>\n",
              "      <th>4</th>\n",
              "      <td>8</td>\n",
              "      <td>18</td>\n",
              "      <td>1</td>\n",
              "    </tr>\n",
              "    <tr>\n",
              "      <th>...</th>\n",
              "      <td>...</td>\n",
              "      <td>...</td>\n",
              "      <td>...</td>\n",
              "    </tr>\n",
              "    <tr>\n",
              "      <th>314</th>\n",
              "      <td>80</td>\n",
              "      <td>97</td>\n",
              "      <td>1</td>\n",
              "    </tr>\n",
              "    <tr>\n",
              "      <th>315</th>\n",
              "      <td>81</td>\n",
              "      <td>45</td>\n",
              "      <td>0</td>\n",
              "    </tr>\n",
              "    <tr>\n",
              "      <th>316</th>\n",
              "      <td>35</td>\n",
              "      <td>43</td>\n",
              "      <td>1</td>\n",
              "    </tr>\n",
              "    <tr>\n",
              "      <th>317</th>\n",
              "      <td>87</td>\n",
              "      <td>23</td>\n",
              "      <td>0</td>\n",
              "    </tr>\n",
              "    <tr>\n",
              "      <th>318</th>\n",
              "      <td>70</td>\n",
              "      <td>43</td>\n",
              "      <td>1</td>\n",
              "    </tr>\n",
              "  </tbody>\n",
              "</table>\n",
              "<p>319 rows × 3 columns</p>\n",
              "</div>"
            ]
          },
          "metadata": {
            "tags": []
          },
          "execution_count": 55
        }
      ]
    },
    {
      "cell_type": "code",
      "metadata": {
        "id": "SuZ-eLb6Rjyg",
        "colab_type": "code",
        "outputId": "818ec6f1-ca6e-4beb-9a4c-67b782f633bb",
        "colab": {
          "base_uri": "https://localhost:8080/"
        }
      },
      "source": [
        "# Leemos las partidas de validación en un dataframe\n",
        "go_matches_test = pd.read_csv('regl_data/juegos_validacion.txt', header=None, delim_whitespace=True)\n",
        "go_matches_test"
      ],
      "execution_count": 0,
      "outputs": [
        {
          "output_type": "execute_result",
          "data": {
            "text/plain": [
              "       0    1  2\n",
              "0     35   43  1\n",
              "1     45    9  0\n",
              "2     55  106  0\n",
              "3     35   43  1\n",
              "4     35   43  1\n",
              "..   ...  ... ..\n",
              "110   60  120  1\n",
              "111  101   43  1\n",
              "112   55  105  0\n",
              "113    7    9  0\n",
              "114   35   43  0\n",
              "\n",
              "[115 rows x 3 columns]"
            ],
            "text/html": [
              "<div>\n",
              "<style scoped>\n",
              "    .dataframe tbody tr th:only-of-type {\n",
              "        vertical-align: middle;\n",
              "    }\n",
              "\n",
              "    .dataframe tbody tr th {\n",
              "        vertical-align: top;\n",
              "    }\n",
              "\n",
              "    .dataframe thead th {\n",
              "        text-align: right;\n",
              "    }\n",
              "</style>\n",
              "<table border=\"1\" class=\"dataframe\">\n",
              "  <thead>\n",
              "    <tr style=\"text-align: right;\">\n",
              "      <th></th>\n",
              "      <th>0</th>\n",
              "      <th>1</th>\n",
              "      <th>2</th>\n",
              "    </tr>\n",
              "  </thead>\n",
              "  <tbody>\n",
              "    <tr>\n",
              "      <th>0</th>\n",
              "      <td>35</td>\n",
              "      <td>43</td>\n",
              "      <td>1</td>\n",
              "    </tr>\n",
              "    <tr>\n",
              "      <th>1</th>\n",
              "      <td>45</td>\n",
              "      <td>9</td>\n",
              "      <td>0</td>\n",
              "    </tr>\n",
              "    <tr>\n",
              "      <th>2</th>\n",
              "      <td>55</td>\n",
              "      <td>106</td>\n",
              "      <td>0</td>\n",
              "    </tr>\n",
              "    <tr>\n",
              "      <th>3</th>\n",
              "      <td>35</td>\n",
              "      <td>43</td>\n",
              "      <td>1</td>\n",
              "    </tr>\n",
              "    <tr>\n",
              "      <th>4</th>\n",
              "      <td>35</td>\n",
              "      <td>43</td>\n",
              "      <td>1</td>\n",
              "    </tr>\n",
              "    <tr>\n",
              "      <th>...</th>\n",
              "      <td>...</td>\n",
              "      <td>...</td>\n",
              "      <td>...</td>\n",
              "    </tr>\n",
              "    <tr>\n",
              "      <th>110</th>\n",
              "      <td>60</td>\n",
              "      <td>120</td>\n",
              "      <td>1</td>\n",
              "    </tr>\n",
              "    <tr>\n",
              "      <th>111</th>\n",
              "      <td>101</td>\n",
              "      <td>43</td>\n",
              "      <td>1</td>\n",
              "    </tr>\n",
              "    <tr>\n",
              "      <th>112</th>\n",
              "      <td>55</td>\n",
              "      <td>105</td>\n",
              "      <td>0</td>\n",
              "    </tr>\n",
              "    <tr>\n",
              "      <th>113</th>\n",
              "      <td>7</td>\n",
              "      <td>9</td>\n",
              "      <td>0</td>\n",
              "    </tr>\n",
              "    <tr>\n",
              "      <th>114</th>\n",
              "      <td>35</td>\n",
              "      <td>43</td>\n",
              "      <td>0</td>\n",
              "    </tr>\n",
              "  </tbody>\n",
              "</table>\n",
              "<p>115 rows × 3 columns</p>\n",
              "</div>"
            ]
          },
          "metadata": {
            "tags": []
          },
          "execution_count": 56
        }
      ]
    },
    {
      "cell_type": "markdown",
      "metadata": {
        "id": "45S6zisY_Xfm",
        "colab_type": "text"
      },
      "source": [
        "### Parte 1. Entrena y evalúa un clasificador bayesiano ingenuo.\n"
      ]
    },
    {
      "cell_type": "markdown",
      "metadata": {
        "id": "sb1KsNUG_a2l",
        "colab_type": "text"
      },
      "source": [
        " Al ser un modelo generativo (modela la probabilidad conjunta P(x, y)), es posible generar partidas artificiales con los parámetros calculados. Genera nuevas partidas que sigan la distribución modelada."
      ]
    },
    {
      "cell_type": "markdown",
      "metadata": {
        "id": "hpa7EOVn_ekC",
        "colab_type": "text"
      },
      "source": [
        "Separamos la clase \"gana jugador A\", y la clase \"gana jugador B\" del conjunto de entrenamiento"
      ]
    },
    {
      "cell_type": "code",
      "metadata": {
        "id": "HlhjSusM_hqU",
        "colab_type": "code",
        "colab": {}
      },
      "source": [
        "go_matches_train_winA = go_matches_train[go_matches_train[2] == 1]\n",
        "go_matches_train_winB = go_matches_train[go_matches_train[2] == 0]"
      ],
      "execution_count": 0,
      "outputs": []
    },
    {
      "cell_type": "markdown",
      "metadata": {
        "id": "qehZdyGlHr2n",
        "colab_type": "text"
      },
      "source": [
        "Obtenemos los parametros q, para la distribución Bernoulli de la clase."
      ]
    },
    {
      "cell_type": "code",
      "metadata": {
        "id": "mgnAgdp5Hytq",
        "colab_type": "code",
        "outputId": "8ea8d7a7-5332-4703-e05d-789a382106d3",
        "colab": {
          "base_uri": "https://localhost:8080/"
        }
      },
      "source": [
        "# q para la clase \"gana jugador A\"\n",
        "ej2_emv_q_winA = go_matches_train_winA.shape[0] / go_matches_train.shape[0]\n",
        "\n",
        "# q para la clase \"gana jugador B\"\n",
        "ej2_emv_q_winB = go_matches_train_winB.shape[0] / go_matches_train.shape[0]\n",
        "print('q Gana A = {0}, q Gana B = {1}'.format(ej2_emv_q_winA, ej2_emv_q_winB))"
      ],
      "execution_count": 0,
      "outputs": [
        {
          "output_type": "stream",
          "text": [
            "q Gana A = 0.5235109717868338, q Gana B = 0.47648902821316613\n"
          ],
          "name": "stdout"
        }
      ]
    },
    {
      "cell_type": "markdown",
      "metadata": {
        "id": "Ip_qdyMvKUbi",
        "colab_type": "text"
      },
      "source": [
        "Podemos definir la distribución de los identificadores para jugador A y B con una categorica:\n",
        "\\begin{equation}\n",
        "Cat(X_{id}^{(i)};q) = \\prod_{k=1}^{D}q_{k}^{[x_{id}^{(i)}=k ]}\n",
        "\\end{equation}\n",
        "Donde podemos estimar a $q_k$ usando el estimador de máxima verosimilitud como:\n",
        "  \\begin{equation}\n",
        "  \\begin{split}\n",
        "  \\hat{q}_k =& \\frac{c_k}{n} \\\\ \n",
        "  \\text{Donde $c_k$:}&\\\\\n",
        "  c_k =& \\sum_{i = 1}^{n}{[x^{(i)}_{id}=k]}\n",
        "  \\end{split}\n",
        "  \\end{equation}"
      ]
    },
    {
      "cell_type": "code",
      "metadata": {
        "id": "FUWvh3OlK3My",
        "colab_type": "code",
        "colab": {}
      },
      "source": [
        "# Calculamos las q para los atributos de \"jugador A\" y \"jugador B\", \n",
        "# para cada una de las clases \"gana jugador A\" y \"gana jugador B\"\n",
        "D_players = 142\n",
        "q_playerA_winA = np.zeros(D_players)\n",
        "q_playerA_winB = np.zeros_like(q_playerA_winA)\n",
        "q_playerB_winA = np.zeros_like(q_playerA_winA)\n",
        "q_playerB_winB = np.zeros_like(q_playerA_winA)\n",
        "for i in range(D_players):\n",
        "  q_playerA_winA[i] = go_matches_train_winA[go_matches_train_winA[0] == (i + 1)].shape[0] / go_matches_train_winA.shape[0]\n",
        "  q_playerA_winB[i] = go_matches_train_winB[go_matches_train_winB[0] == (i + 1)].shape[0] / go_matches_train_winB.shape[0]\n",
        "  q_playerB_winA[i] = go_matches_train_winA[go_matches_train_winA[1] == (i + 1)].shape[0] / go_matches_train_winA.shape[0]\n",
        "  q_playerB_winB[i] = go_matches_train_winB[go_matches_train_winB[1] == (i + 1)].shape[0] / go_matches_train_winB.shape[0]"
      ],
      "execution_count": 0,
      "outputs": []
    },
    {
      "cell_type": "markdown",
      "metadata": {
        "id": "TMAhUxgoRNIv",
        "colab_type": "text"
      },
      "source": [
        "Definamos la función con la que clasificamos"
      ]
    },
    {
      "cell_type": "code",
      "metadata": {
        "id": "9GnQ1mtIRUyf",
        "colab_type": "code",
        "colab": {}
      },
      "source": [
        "def ej2_go_win_EMV(attributes_match):\n",
        "  probability_winA = ej2_emv_q_winA * q_playerA_winA[attributes_match[0] - 1] * q_playerB_winA[attributes_match[1] - 1]\n",
        "  probability_winB = ej2_emv_q_winB * q_playerA_winB[attributes_match[0] - 1] * q_playerB_winB[attributes_match[1] - 1]\n",
        "  if (probability_winA > probability_winB):\n",
        "    return 1\n",
        "  return 0"
      ],
      "execution_count": 0,
      "outputs": []
    },
    {
      "cell_type": "markdown",
      "metadata": {
        "id": "-yypW5WESAt5",
        "colab_type": "text"
      },
      "source": [
        "Evaluamos el porcentaje de predicciones correctas para los conjuntos de entrenamiento y validación"
      ]
    },
    {
      "cell_type": "code",
      "metadata": {
        "id": "Q7dtF7AyTFMu",
        "colab_type": "code",
        "outputId": "0f0b0003-3f05-452c-ba50-8cc80b7b903d",
        "colab": {
          "base_uri": "https://localhost:8080/"
        }
      },
      "source": [
        "ej2_emv_y_pred_train = np.array([])\n",
        "ej2_emv_y_pred_test = np.array([])\n",
        "\n",
        "ej2_n_correct_train = 0\n",
        "for i in range(go_matches_train.shape[0]):\n",
        " ej2_emv_y_pred_train = np.append(ej2_emv_y_pred_train, ej2_go_win_EMV(go_matches_train.loc[i][:2]))\n",
        " if (ej2_emv_y_pred_train[i] == go_matches_train.loc[i][2]):\n",
        "   ej2_n_correct_train += 1\n",
        "\n",
        "ej2_n_correct_test = 0\n",
        "for i in range(go_matches_test.shape[0]):\n",
        " ej2_emv_y_pred_test = np.append(ej2_emv_y_pred_test, ej2_go_win_EMV(go_matches_test.loc[i][:2]))\n",
        " if (ej2_emv_y_pred_test[i] == go_matches_test.loc[i][2]):\n",
        "   ej2_n_correct_test += 1\n",
        "\n",
        "print('% Correct in Train: {0}'.format(ej2_n_correct_train * 100 /go_matches_train.shape[0]))\n",
        "\n",
        "print('% Correct in Test: {0}'.format(ej2_n_correct_test * 100 /go_matches_test.shape[0]))"
      ],
      "execution_count": 0,
      "outputs": [
        {
          "output_type": "stream",
          "text": [
            "% Correct in Train: 86.52037617554859\n",
            "% Correct in Test: 69.56521739130434\n"
          ],
          "name": "stdout"
        }
      ]
    },
    {
      "cell_type": "markdown",
      "metadata": {
        "id": "CRwdocueVp21",
        "colab_type": "text"
      },
      "source": [
        "Ahora al estar construyendo las probabilidades $P(y)$ y $P(x|y)$, podemos generar nuevas partidas. Una forma es obtener nuestra clase, generarla aleatoreamente con una probabilidad de que sea \"gana jugador A\" y otra probabilidad para que sea \"gana jugador B\" y teniendo esa clase ahora es generar aleatoreamente, con sus respectivas probabilidades, a los atributos de \"jugador A\" y \"jugador B\"."
      ]
    },
    {
      "cell_type": "code",
      "metadata": {
        "id": "8GWc9cKPWR04",
        "colab_type": "code",
        "outputId": "4c3c510d-d8ba-4d0b-cb65-fe50245c31cb",
        "colab": {
          "base_uri": "https://localhost:8080/"
        }
      },
      "source": [
        "# Utilizamos el generador aleatorio multinomial de numpy\n",
        "rng = np.random.default_rng()\n",
        "\n",
        "# Generaremos 10 partidas adicionales\n",
        "n_matches_to_generate = 10\n",
        "ej2_new_go_matches = np.empty(shape=(0,3))\n",
        "for i in range(n_matches_to_generate):\n",
        "  # Obtenemos la clase\n",
        "  ej2_generated_class = np.array(rng.multinomial(1, [ej2_emv_q_winB, ej2_emv_q_winA], size=1))[0].argmax()\n",
        "  \n",
        "  # Asignamos las probabilidades de los jugadores para ser jugador A y B respectivamente para la clase \"gana jugador A\"\n",
        "  ej2_prob_generate_player_A = q_playerA_winA\n",
        "  ej2_prob_generate_player_B = q_playerB_winA\n",
        "\n",
        "  # Si la clase generada fue \"gana jugador B\" las reasignamos a las correspondientes\n",
        "  if (ej2_generated_class == 0):\n",
        "    ej2_prob_generate_player_A = q_playerA_winB\n",
        "    ej2_prob_generate_player_B = q_playerB_winB\n",
        "\n",
        "  # Obtenemos el jugador A y el jugador B\n",
        "  ej2_generated_player_A = np.array(rng.multinomial(1, ej2_prob_generate_player_A, size=1))[0].argmax() + 1\n",
        "  ej2_generated_player_B = np.array(rng.multinomial(1, ej2_prob_generate_player_B, size=1))[0].argmax() + 1\n",
        "  ej2_new_go_matches = np.concatenate((ej2_new_go_matches, np.array([[ej2_generated_player_A, ej2_generated_player_B, ej2_generated_class]])))\n",
        "\n",
        "print(ej2_new_go_matches)"
      ],
      "execution_count": 0,
      "outputs": [
        {
          "output_type": "stream",
          "text": [
            "[[ 27.  60.   0.]\n",
            " [ 95.  51.   0.]\n",
            " [119.  93.   1.]\n",
            " [ 26. 122.   1.]\n",
            " [ 12.  18.   0.]\n",
            " [  8. 105.   1.]\n",
            " [  4. 100.   0.]\n",
            " [ 44. 100.   0.]\n",
            " [ 64.   9.   1.]\n",
            " [116. 110.   0.]]\n"
          ],
          "name": "stdout"
        }
      ]
    },
    {
      "cell_type": "markdown",
      "metadata": {
        "id": "Xh35wE0D_fug",
        "colab_type": "text"
      },
      "source": [
        "### Parte 2. Entrena y evalúa un clasificador de regresión logística."
      ]
    },
    {
      "cell_type": "markdown",
      "metadata": {
        "id": "jucIq4Bt_nws",
        "colab_type": "text"
      },
      "source": [
        "Para esto es necesario reparametrizar las entradas. Explica el procedimiento y la lógica de la reparametrización que realizaste. Selecciona y visualiza los valores de los parámetros. Grafica las curvas ROC y de precisión exhaustividad y reporta sus áreas bajo la curva."
      ]
    },
    {
      "cell_type": "markdown",
      "metadata": {
        "id": "PDcCMzCG_oVc",
        "colab_type": "text"
      },
      "source": [
        "#### Reparametrización\n"
      ]
    },
    {
      "cell_type": "markdown",
      "metadata": {
        "id": "rALklRIly07x",
        "colab_type": "text"
      },
      "source": [
        "En este caso se escogió la reparametrización ustilizando variables dummy (Dummy coding), el cual consiste en utilizar una variable por cada categoria posible para los atributos categoricos, con excepción de una, la variable de referencia.\n",
        "Ahora si la muestra tendrá un valor de 1 para la variable correspondiente a la categoría que tenía y ceros en las demás, y para el caso de que fuera de la categoría de referencia entonces tendrá solo 0 en todas las variables dummy.\n",
        "\n",
        "Esta reparametrización se realiza debido a que aunque los identificadores de los jugadores son números, estos no representan una relación de orden o jerarquía como la que presentan los valores reales en algún atributo como la altura. Es decir, no es que ser el jugador 1 sea mas o menos que ser el jugador 3, bien podrían identificarse como jugador \"a\" y jugador \"b\" o \"Vivian\" y \"Dennis\". Por lo tanto el ajuste que se realiza en la estimación de parametros no debe considerar que existe esa relación de orden, no debería pensar que hay que disminuir la influencia del jugador 10000 a diferencia del jugador 3, porque como vimos esto no quiere decir que uno es mas que otro solo por su identificador.\n",
        "\n",
        "Así se llega a que cada muestra tiene cierta \"cantidad\" de cada categoría y forzamos que sea absoluta, 0 si no es de esa categoría o 1 si es de esa categoria, a excepción de la categoría de referencia."
      ]
    },
    {
      "cell_type": "code",
      "metadata": {
        "id": "gmVWh9Oqy1i1",
        "colab_type": "code",
        "outputId": "0d710943-a450-48f8-92ef-76143d7896be",
        "colab": {
          "base_uri": "https://localhost:8080/"
        }
      },
      "source": [
        "# Reparametrización\n",
        "player_ids = go_matches_train[0].copy()\n",
        "player_ids = np.append(player_ids, go_matches_train[1].copy())\n",
        "player_ids = np.append(player_ids, go_matches_test[0].copy())\n",
        "player_ids = np.append(player_ids, go_matches_test[1].copy())\n",
        "player_ids = np.unique(player_ids)\n",
        "print(player_ids)\n",
        "print(player_ids.shape[0])"
      ],
      "execution_count": 0,
      "outputs": [
        {
          "output_type": "stream",
          "text": [
            "[  1   2   3   4   5   6   7   8   9  10  11  12  13  14  15  16  17  18\n",
            "  19  20  21  22  23  24  25  26  27  28  29  30  31  32  33  34  35  36\n",
            "  37  38  39  40  41  42  43  44  45  46  47  48  49  50  51  52  53  54\n",
            "  55  56  57  58  59  60  61  62  63  64  65  66  67  68  69  70  71  72\n",
            "  73  74  75  76  77  78  79  80  81  82  83  84  85  86  87  88  89  90\n",
            "  91  92  93  94  95  96  97  98  99 100 101 102 103 104 105 106 107 108\n",
            " 109 110 111 112 113 114 115 116 117 118 119 120 121 122 123 124 125 126\n",
            " 127 128 129 130 131 132 133 134 135 136 137 138 139 140 141 142]\n",
            "142\n"
          ],
          "name": "stdout"
        }
      ]
    },
    {
      "cell_type": "code",
      "metadata": {
        "id": "G0N8swQrP4ZG",
        "colab_type": "code",
        "outputId": "aaa45838-2cc7-41ce-a69b-2cf848d26f0d",
        "colab": {
          "base_uri": "https://localhost:8080/"
        }
      },
      "source": [
        "# Hay 142 id de jugadores entonces habrá 141 nuevas variables dummy para jugador_A y 141 variables para jugador_B.\n",
        "# En total tendremos 282 atributos. Dejaremos como variable de referencia al id = 1, el cual sera identificado al tener todos los parametros en 0\n",
        "\n",
        "# Reparametrizamos la entrada de entrenamiento\n",
        "coded_go_matches_train = np.empty((0,283))\n",
        "for i in range(go_matches_train.shape[0]):\n",
        "  coded_features_i = np.zeros((283,))\n",
        "\n",
        "  # Indexamos desde 0 a los indices de los jugadores\n",
        "  curr_player_A_id = go_matches_train.loc[i][0] - 1\n",
        "  \n",
        "  # Si el jugador A NO es el jugador con indice 1, que ahora paso a ser 0, \n",
        "  # entonces se coloca un 1 en la variable dummy que le corresponde\n",
        "  if (curr_player_A_id != 0):\n",
        "    coded_features_i[curr_player_A_id] = 1\n",
        "  \n",
        "  # Realizamos lo mismo para el jugador B pero lo ubicamos en las siguientes 141\n",
        "  # variables entonces se le suma 141 al id para ubicarlo\n",
        "  curr_player_B_id = go_matches_train.loc[i][1] - 1\n",
        "  if (curr_player_B_id != 0):\n",
        "    coded_features_i[141 + curr_player_B_id] = 1\n",
        "  \n",
        "  # Guardamos el valor de y, la clase, si gano el jugador A o B\n",
        "  coded_features_i[282] = go_matches_train.loc[i][2]\n",
        "  coded_go_matches_train = np.concatenate((coded_go_matches_train, np.array([coded_features_i])))\n",
        "pd.DataFrame(coded_go_matches_train)"
      ],
      "execution_count": 0,
      "outputs": [
        {
          "output_type": "execute_result",
          "data": {
            "text/plain": [
              "     0    1    2    3    4    5    6    7    8    9    ...  273  274  275  \\\n",
              "0    0.0  0.0  1.0  0.0  0.0  0.0  0.0  0.0  0.0  0.0  ...  0.0  0.0  0.0   \n",
              "1    0.0  0.0  0.0  0.0  0.0  0.0  1.0  0.0  0.0  0.0  ...  0.0  0.0  0.0   \n",
              "2    0.0  0.0  0.0  0.0  0.0  0.0  0.0  0.0  0.0  0.0  ...  0.0  0.0  0.0   \n",
              "3    0.0  0.0  0.0  0.0  0.0  0.0  0.0  0.0  0.0  0.0  ...  0.0  0.0  0.0   \n",
              "4    0.0  0.0  0.0  0.0  0.0  0.0  0.0  1.0  0.0  0.0  ...  0.0  0.0  0.0   \n",
              "..   ...  ...  ...  ...  ...  ...  ...  ...  ...  ...  ...  ...  ...  ...   \n",
              "314  0.0  0.0  0.0  0.0  0.0  0.0  0.0  0.0  0.0  0.0  ...  0.0  0.0  0.0   \n",
              "315  0.0  0.0  0.0  0.0  0.0  0.0  0.0  0.0  0.0  0.0  ...  0.0  0.0  0.0   \n",
              "316  0.0  0.0  0.0  0.0  0.0  0.0  0.0  0.0  0.0  0.0  ...  0.0  0.0  0.0   \n",
              "317  0.0  0.0  0.0  0.0  0.0  0.0  0.0  0.0  0.0  0.0  ...  0.0  0.0  0.0   \n",
              "318  0.0  0.0  0.0  0.0  0.0  0.0  0.0  0.0  0.0  0.0  ...  0.0  0.0  0.0   \n",
              "\n",
              "     276  277  278  279  280  281  282  \n",
              "0    0.0  0.0  0.0  0.0  0.0  0.0  1.0  \n",
              "1    0.0  0.0  0.0  0.0  0.0  0.0  1.0  \n",
              "2    0.0  0.0  0.0  0.0  0.0  0.0  1.0  \n",
              "3    0.0  0.0  0.0  0.0  0.0  0.0  1.0  \n",
              "4    0.0  0.0  0.0  0.0  0.0  0.0  1.0  \n",
              "..   ...  ...  ...  ...  ...  ...  ...  \n",
              "314  0.0  0.0  0.0  0.0  0.0  0.0  1.0  \n",
              "315  0.0  0.0  0.0  0.0  0.0  0.0  0.0  \n",
              "316  0.0  0.0  0.0  0.0  0.0  0.0  1.0  \n",
              "317  0.0  0.0  0.0  0.0  0.0  0.0  0.0  \n",
              "318  0.0  0.0  0.0  0.0  0.0  0.0  1.0  \n",
              "\n",
              "[319 rows x 283 columns]"
            ],
            "text/html": [
              "<div>\n",
              "<style scoped>\n",
              "    .dataframe tbody tr th:only-of-type {\n",
              "        vertical-align: middle;\n",
              "    }\n",
              "\n",
              "    .dataframe tbody tr th {\n",
              "        vertical-align: top;\n",
              "    }\n",
              "\n",
              "    .dataframe thead th {\n",
              "        text-align: right;\n",
              "    }\n",
              "</style>\n",
              "<table border=\"1\" class=\"dataframe\">\n",
              "  <thead>\n",
              "    <tr style=\"text-align: right;\">\n",
              "      <th></th>\n",
              "      <th>0</th>\n",
              "      <th>1</th>\n",
              "      <th>2</th>\n",
              "      <th>3</th>\n",
              "      <th>4</th>\n",
              "      <th>5</th>\n",
              "      <th>6</th>\n",
              "      <th>7</th>\n",
              "      <th>8</th>\n",
              "      <th>9</th>\n",
              "      <th>...</th>\n",
              "      <th>273</th>\n",
              "      <th>274</th>\n",
              "      <th>275</th>\n",
              "      <th>276</th>\n",
              "      <th>277</th>\n",
              "      <th>278</th>\n",
              "      <th>279</th>\n",
              "      <th>280</th>\n",
              "      <th>281</th>\n",
              "      <th>282</th>\n",
              "    </tr>\n",
              "  </thead>\n",
              "  <tbody>\n",
              "    <tr>\n",
              "      <th>0</th>\n",
              "      <td>0.0</td>\n",
              "      <td>0.0</td>\n",
              "      <td>1.0</td>\n",
              "      <td>0.0</td>\n",
              "      <td>0.0</td>\n",
              "      <td>0.0</td>\n",
              "      <td>0.0</td>\n",
              "      <td>0.0</td>\n",
              "      <td>0.0</td>\n",
              "      <td>0.0</td>\n",
              "      <td>...</td>\n",
              "      <td>0.0</td>\n",
              "      <td>0.0</td>\n",
              "      <td>0.0</td>\n",
              "      <td>0.0</td>\n",
              "      <td>0.0</td>\n",
              "      <td>0.0</td>\n",
              "      <td>0.0</td>\n",
              "      <td>0.0</td>\n",
              "      <td>0.0</td>\n",
              "      <td>1.0</td>\n",
              "    </tr>\n",
              "    <tr>\n",
              "      <th>1</th>\n",
              "      <td>0.0</td>\n",
              "      <td>0.0</td>\n",
              "      <td>0.0</td>\n",
              "      <td>0.0</td>\n",
              "      <td>0.0</td>\n",
              "      <td>0.0</td>\n",
              "      <td>1.0</td>\n",
              "      <td>0.0</td>\n",
              "      <td>0.0</td>\n",
              "      <td>0.0</td>\n",
              "      <td>...</td>\n",
              "      <td>0.0</td>\n",
              "      <td>0.0</td>\n",
              "      <td>0.0</td>\n",
              "      <td>0.0</td>\n",
              "      <td>0.0</td>\n",
              "      <td>0.0</td>\n",
              "      <td>0.0</td>\n",
              "      <td>0.0</td>\n",
              "      <td>0.0</td>\n",
              "      <td>1.0</td>\n",
              "    </tr>\n",
              "    <tr>\n",
              "      <th>2</th>\n",
              "      <td>0.0</td>\n",
              "      <td>0.0</td>\n",
              "      <td>0.0</td>\n",
              "      <td>0.0</td>\n",
              "      <td>0.0</td>\n",
              "      <td>0.0</td>\n",
              "      <td>0.0</td>\n",
              "      <td>0.0</td>\n",
              "      <td>0.0</td>\n",
              "      <td>0.0</td>\n",
              "      <td>...</td>\n",
              "      <td>0.0</td>\n",
              "      <td>0.0</td>\n",
              "      <td>0.0</td>\n",
              "      <td>0.0</td>\n",
              "      <td>0.0</td>\n",
              "      <td>0.0</td>\n",
              "      <td>0.0</td>\n",
              "      <td>0.0</td>\n",
              "      <td>0.0</td>\n",
              "      <td>1.0</td>\n",
              "    </tr>\n",
              "    <tr>\n",
              "      <th>3</th>\n",
              "      <td>0.0</td>\n",
              "      <td>0.0</td>\n",
              "      <td>0.0</td>\n",
              "      <td>0.0</td>\n",
              "      <td>0.0</td>\n",
              "      <td>0.0</td>\n",
              "      <td>0.0</td>\n",
              "      <td>0.0</td>\n",
              "      <td>0.0</td>\n",
              "      <td>0.0</td>\n",
              "      <td>...</td>\n",
              "      <td>0.0</td>\n",
              "      <td>0.0</td>\n",
              "      <td>0.0</td>\n",
              "      <td>0.0</td>\n",
              "      <td>0.0</td>\n",
              "      <td>0.0</td>\n",
              "      <td>0.0</td>\n",
              "      <td>0.0</td>\n",
              "      <td>0.0</td>\n",
              "      <td>1.0</td>\n",
              "    </tr>\n",
              "    <tr>\n",
              "      <th>4</th>\n",
              "      <td>0.0</td>\n",
              "      <td>0.0</td>\n",
              "      <td>0.0</td>\n",
              "      <td>0.0</td>\n",
              "      <td>0.0</td>\n",
              "      <td>0.0</td>\n",
              "      <td>0.0</td>\n",
              "      <td>1.0</td>\n",
              "      <td>0.0</td>\n",
              "      <td>0.0</td>\n",
              "      <td>...</td>\n",
              "      <td>0.0</td>\n",
              "      <td>0.0</td>\n",
              "      <td>0.0</td>\n",
              "      <td>0.0</td>\n",
              "      <td>0.0</td>\n",
              "      <td>0.0</td>\n",
              "      <td>0.0</td>\n",
              "      <td>0.0</td>\n",
              "      <td>0.0</td>\n",
              "      <td>1.0</td>\n",
              "    </tr>\n",
              "    <tr>\n",
              "      <th>...</th>\n",
              "      <td>...</td>\n",
              "      <td>...</td>\n",
              "      <td>...</td>\n",
              "      <td>...</td>\n",
              "      <td>...</td>\n",
              "      <td>...</td>\n",
              "      <td>...</td>\n",
              "      <td>...</td>\n",
              "      <td>...</td>\n",
              "      <td>...</td>\n",
              "      <td>...</td>\n",
              "      <td>...</td>\n",
              "      <td>...</td>\n",
              "      <td>...</td>\n",
              "      <td>...</td>\n",
              "      <td>...</td>\n",
              "      <td>...</td>\n",
              "      <td>...</td>\n",
              "      <td>...</td>\n",
              "      <td>...</td>\n",
              "      <td>...</td>\n",
              "    </tr>\n",
              "    <tr>\n",
              "      <th>314</th>\n",
              "      <td>0.0</td>\n",
              "      <td>0.0</td>\n",
              "      <td>0.0</td>\n",
              "      <td>0.0</td>\n",
              "      <td>0.0</td>\n",
              "      <td>0.0</td>\n",
              "      <td>0.0</td>\n",
              "      <td>0.0</td>\n",
              "      <td>0.0</td>\n",
              "      <td>0.0</td>\n",
              "      <td>...</td>\n",
              "      <td>0.0</td>\n",
              "      <td>0.0</td>\n",
              "      <td>0.0</td>\n",
              "      <td>0.0</td>\n",
              "      <td>0.0</td>\n",
              "      <td>0.0</td>\n",
              "      <td>0.0</td>\n",
              "      <td>0.0</td>\n",
              "      <td>0.0</td>\n",
              "      <td>1.0</td>\n",
              "    </tr>\n",
              "    <tr>\n",
              "      <th>315</th>\n",
              "      <td>0.0</td>\n",
              "      <td>0.0</td>\n",
              "      <td>0.0</td>\n",
              "      <td>0.0</td>\n",
              "      <td>0.0</td>\n",
              "      <td>0.0</td>\n",
              "      <td>0.0</td>\n",
              "      <td>0.0</td>\n",
              "      <td>0.0</td>\n",
              "      <td>0.0</td>\n",
              "      <td>...</td>\n",
              "      <td>0.0</td>\n",
              "      <td>0.0</td>\n",
              "      <td>0.0</td>\n",
              "      <td>0.0</td>\n",
              "      <td>0.0</td>\n",
              "      <td>0.0</td>\n",
              "      <td>0.0</td>\n",
              "      <td>0.0</td>\n",
              "      <td>0.0</td>\n",
              "      <td>0.0</td>\n",
              "    </tr>\n",
              "    <tr>\n",
              "      <th>316</th>\n",
              "      <td>0.0</td>\n",
              "      <td>0.0</td>\n",
              "      <td>0.0</td>\n",
              "      <td>0.0</td>\n",
              "      <td>0.0</td>\n",
              "      <td>0.0</td>\n",
              "      <td>0.0</td>\n",
              "      <td>0.0</td>\n",
              "      <td>0.0</td>\n",
              "      <td>0.0</td>\n",
              "      <td>...</td>\n",
              "      <td>0.0</td>\n",
              "      <td>0.0</td>\n",
              "      <td>0.0</td>\n",
              "      <td>0.0</td>\n",
              "      <td>0.0</td>\n",
              "      <td>0.0</td>\n",
              "      <td>0.0</td>\n",
              "      <td>0.0</td>\n",
              "      <td>0.0</td>\n",
              "      <td>1.0</td>\n",
              "    </tr>\n",
              "    <tr>\n",
              "      <th>317</th>\n",
              "      <td>0.0</td>\n",
              "      <td>0.0</td>\n",
              "      <td>0.0</td>\n",
              "      <td>0.0</td>\n",
              "      <td>0.0</td>\n",
              "      <td>0.0</td>\n",
              "      <td>0.0</td>\n",
              "      <td>0.0</td>\n",
              "      <td>0.0</td>\n",
              "      <td>0.0</td>\n",
              "      <td>...</td>\n",
              "      <td>0.0</td>\n",
              "      <td>0.0</td>\n",
              "      <td>0.0</td>\n",
              "      <td>0.0</td>\n",
              "      <td>0.0</td>\n",
              "      <td>0.0</td>\n",
              "      <td>0.0</td>\n",
              "      <td>0.0</td>\n",
              "      <td>0.0</td>\n",
              "      <td>0.0</td>\n",
              "    </tr>\n",
              "    <tr>\n",
              "      <th>318</th>\n",
              "      <td>0.0</td>\n",
              "      <td>0.0</td>\n",
              "      <td>0.0</td>\n",
              "      <td>0.0</td>\n",
              "      <td>0.0</td>\n",
              "      <td>0.0</td>\n",
              "      <td>0.0</td>\n",
              "      <td>0.0</td>\n",
              "      <td>0.0</td>\n",
              "      <td>0.0</td>\n",
              "      <td>...</td>\n",
              "      <td>0.0</td>\n",
              "      <td>0.0</td>\n",
              "      <td>0.0</td>\n",
              "      <td>0.0</td>\n",
              "      <td>0.0</td>\n",
              "      <td>0.0</td>\n",
              "      <td>0.0</td>\n",
              "      <td>0.0</td>\n",
              "      <td>0.0</td>\n",
              "      <td>1.0</td>\n",
              "    </tr>\n",
              "  </tbody>\n",
              "</table>\n",
              "<p>319 rows × 283 columns</p>\n",
              "</div>"
            ]
          },
          "metadata": {
            "tags": []
          },
          "execution_count": 64
        }
      ]
    },
    {
      "cell_type": "code",
      "metadata": {
        "id": "qtbZKtpHU3KO",
        "colab_type": "code",
        "outputId": "7c3a946f-3962-47d8-dbc1-3465e4cfb039",
        "colab": {
          "base_uri": "https://localhost:8080/"
        }
      },
      "source": [
        "# Reparametrizamos la entrada de validación\n",
        "coded_go_matches_test = np.empty((0,283))\n",
        "for i in range(go_matches_test.shape[0]):\n",
        "  coded_features_i = np.zeros((283,))\n",
        "  curr_player_A_id = go_matches_test.loc[i][0] - 1\n",
        "  if (curr_player_A_id != 0):\n",
        "    coded_features_i[curr_player_A_id] = 1\n",
        "  curr_player_B_id = go_matches_test.loc[i][1] - 1\n",
        "  if (curr_player_B_id != 0):\n",
        "    coded_features_i[141 + curr_player_B_id] = 1\n",
        "  coded_features_i[282] = go_matches_test.loc[i][2]\n",
        "  coded_go_matches_test = np.concatenate((coded_go_matches_test, np.array([coded_features_i])))\n",
        "pd.DataFrame(coded_go_matches_test)"
      ],
      "execution_count": 0,
      "outputs": [
        {
          "output_type": "execute_result",
          "data": {
            "text/plain": [
              "     0    1    2    3    4    5    6    7    8    9    ...  273  274  275  \\\n",
              "0    0.0  0.0  0.0  0.0  0.0  0.0  0.0  0.0  0.0  0.0  ...  0.0  0.0  0.0   \n",
              "1    0.0  0.0  0.0  0.0  0.0  0.0  0.0  0.0  0.0  0.0  ...  0.0  0.0  0.0   \n",
              "2    0.0  0.0  0.0  0.0  0.0  0.0  0.0  0.0  0.0  0.0  ...  0.0  0.0  0.0   \n",
              "3    0.0  0.0  0.0  0.0  0.0  0.0  0.0  0.0  0.0  0.0  ...  0.0  0.0  0.0   \n",
              "4    0.0  0.0  0.0  0.0  0.0  0.0  0.0  0.0  0.0  0.0  ...  0.0  0.0  0.0   \n",
              "..   ...  ...  ...  ...  ...  ...  ...  ...  ...  ...  ...  ...  ...  ...   \n",
              "110  0.0  0.0  0.0  0.0  0.0  0.0  0.0  0.0  0.0  0.0  ...  0.0  0.0  0.0   \n",
              "111  0.0  0.0  0.0  0.0  0.0  0.0  0.0  0.0  0.0  0.0  ...  0.0  0.0  0.0   \n",
              "112  0.0  0.0  0.0  0.0  0.0  0.0  0.0  0.0  0.0  0.0  ...  0.0  0.0  0.0   \n",
              "113  0.0  0.0  0.0  0.0  0.0  0.0  1.0  0.0  0.0  0.0  ...  0.0  0.0  0.0   \n",
              "114  0.0  0.0  0.0  0.0  0.0  0.0  0.0  0.0  0.0  0.0  ...  0.0  0.0  0.0   \n",
              "\n",
              "     276  277  278  279  280  281  282  \n",
              "0    0.0  0.0  0.0  0.0  0.0  0.0  1.0  \n",
              "1    0.0  0.0  0.0  0.0  0.0  0.0  0.0  \n",
              "2    0.0  0.0  0.0  0.0  0.0  0.0  0.0  \n",
              "3    0.0  0.0  0.0  0.0  0.0  0.0  1.0  \n",
              "4    0.0  0.0  0.0  0.0  0.0  0.0  1.0  \n",
              "..   ...  ...  ...  ...  ...  ...  ...  \n",
              "110  0.0  0.0  0.0  0.0  0.0  0.0  1.0  \n",
              "111  0.0  0.0  0.0  0.0  0.0  0.0  1.0  \n",
              "112  0.0  0.0  0.0  0.0  0.0  0.0  0.0  \n",
              "113  0.0  0.0  0.0  0.0  0.0  0.0  0.0  \n",
              "114  0.0  0.0  0.0  0.0  0.0  0.0  0.0  \n",
              "\n",
              "[115 rows x 283 columns]"
            ],
            "text/html": [
              "<div>\n",
              "<style scoped>\n",
              "    .dataframe tbody tr th:only-of-type {\n",
              "        vertical-align: middle;\n",
              "    }\n",
              "\n",
              "    .dataframe tbody tr th {\n",
              "        vertical-align: top;\n",
              "    }\n",
              "\n",
              "    .dataframe thead th {\n",
              "        text-align: right;\n",
              "    }\n",
              "</style>\n",
              "<table border=\"1\" class=\"dataframe\">\n",
              "  <thead>\n",
              "    <tr style=\"text-align: right;\">\n",
              "      <th></th>\n",
              "      <th>0</th>\n",
              "      <th>1</th>\n",
              "      <th>2</th>\n",
              "      <th>3</th>\n",
              "      <th>4</th>\n",
              "      <th>5</th>\n",
              "      <th>6</th>\n",
              "      <th>7</th>\n",
              "      <th>8</th>\n",
              "      <th>9</th>\n",
              "      <th>...</th>\n",
              "      <th>273</th>\n",
              "      <th>274</th>\n",
              "      <th>275</th>\n",
              "      <th>276</th>\n",
              "      <th>277</th>\n",
              "      <th>278</th>\n",
              "      <th>279</th>\n",
              "      <th>280</th>\n",
              "      <th>281</th>\n",
              "      <th>282</th>\n",
              "    </tr>\n",
              "  </thead>\n",
              "  <tbody>\n",
              "    <tr>\n",
              "      <th>0</th>\n",
              "      <td>0.0</td>\n",
              "      <td>0.0</td>\n",
              "      <td>0.0</td>\n",
              "      <td>0.0</td>\n",
              "      <td>0.0</td>\n",
              "      <td>0.0</td>\n",
              "      <td>0.0</td>\n",
              "      <td>0.0</td>\n",
              "      <td>0.0</td>\n",
              "      <td>0.0</td>\n",
              "      <td>...</td>\n",
              "      <td>0.0</td>\n",
              "      <td>0.0</td>\n",
              "      <td>0.0</td>\n",
              "      <td>0.0</td>\n",
              "      <td>0.0</td>\n",
              "      <td>0.0</td>\n",
              "      <td>0.0</td>\n",
              "      <td>0.0</td>\n",
              "      <td>0.0</td>\n",
              "      <td>1.0</td>\n",
              "    </tr>\n",
              "    <tr>\n",
              "      <th>1</th>\n",
              "      <td>0.0</td>\n",
              "      <td>0.0</td>\n",
              "      <td>0.0</td>\n",
              "      <td>0.0</td>\n",
              "      <td>0.0</td>\n",
              "      <td>0.0</td>\n",
              "      <td>0.0</td>\n",
              "      <td>0.0</td>\n",
              "      <td>0.0</td>\n",
              "      <td>0.0</td>\n",
              "      <td>...</td>\n",
              "      <td>0.0</td>\n",
              "      <td>0.0</td>\n",
              "      <td>0.0</td>\n",
              "      <td>0.0</td>\n",
              "      <td>0.0</td>\n",
              "      <td>0.0</td>\n",
              "      <td>0.0</td>\n",
              "      <td>0.0</td>\n",
              "      <td>0.0</td>\n",
              "      <td>0.0</td>\n",
              "    </tr>\n",
              "    <tr>\n",
              "      <th>2</th>\n",
              "      <td>0.0</td>\n",
              "      <td>0.0</td>\n",
              "      <td>0.0</td>\n",
              "      <td>0.0</td>\n",
              "      <td>0.0</td>\n",
              "      <td>0.0</td>\n",
              "      <td>0.0</td>\n",
              "      <td>0.0</td>\n",
              "      <td>0.0</td>\n",
              "      <td>0.0</td>\n",
              "      <td>...</td>\n",
              "      <td>0.0</td>\n",
              "      <td>0.0</td>\n",
              "      <td>0.0</td>\n",
              "      <td>0.0</td>\n",
              "      <td>0.0</td>\n",
              "      <td>0.0</td>\n",
              "      <td>0.0</td>\n",
              "      <td>0.0</td>\n",
              "      <td>0.0</td>\n",
              "      <td>0.0</td>\n",
              "    </tr>\n",
              "    <tr>\n",
              "      <th>3</th>\n",
              "      <td>0.0</td>\n",
              "      <td>0.0</td>\n",
              "      <td>0.0</td>\n",
              "      <td>0.0</td>\n",
              "      <td>0.0</td>\n",
              "      <td>0.0</td>\n",
              "      <td>0.0</td>\n",
              "      <td>0.0</td>\n",
              "      <td>0.0</td>\n",
              "      <td>0.0</td>\n",
              "      <td>...</td>\n",
              "      <td>0.0</td>\n",
              "      <td>0.0</td>\n",
              "      <td>0.0</td>\n",
              "      <td>0.0</td>\n",
              "      <td>0.0</td>\n",
              "      <td>0.0</td>\n",
              "      <td>0.0</td>\n",
              "      <td>0.0</td>\n",
              "      <td>0.0</td>\n",
              "      <td>1.0</td>\n",
              "    </tr>\n",
              "    <tr>\n",
              "      <th>4</th>\n",
              "      <td>0.0</td>\n",
              "      <td>0.0</td>\n",
              "      <td>0.0</td>\n",
              "      <td>0.0</td>\n",
              "      <td>0.0</td>\n",
              "      <td>0.0</td>\n",
              "      <td>0.0</td>\n",
              "      <td>0.0</td>\n",
              "      <td>0.0</td>\n",
              "      <td>0.0</td>\n",
              "      <td>...</td>\n",
              "      <td>0.0</td>\n",
              "      <td>0.0</td>\n",
              "      <td>0.0</td>\n",
              "      <td>0.0</td>\n",
              "      <td>0.0</td>\n",
              "      <td>0.0</td>\n",
              "      <td>0.0</td>\n",
              "      <td>0.0</td>\n",
              "      <td>0.0</td>\n",
              "      <td>1.0</td>\n",
              "    </tr>\n",
              "    <tr>\n",
              "      <th>...</th>\n",
              "      <td>...</td>\n",
              "      <td>...</td>\n",
              "      <td>...</td>\n",
              "      <td>...</td>\n",
              "      <td>...</td>\n",
              "      <td>...</td>\n",
              "      <td>...</td>\n",
              "      <td>...</td>\n",
              "      <td>...</td>\n",
              "      <td>...</td>\n",
              "      <td>...</td>\n",
              "      <td>...</td>\n",
              "      <td>...</td>\n",
              "      <td>...</td>\n",
              "      <td>...</td>\n",
              "      <td>...</td>\n",
              "      <td>...</td>\n",
              "      <td>...</td>\n",
              "      <td>...</td>\n",
              "      <td>...</td>\n",
              "      <td>...</td>\n",
              "    </tr>\n",
              "    <tr>\n",
              "      <th>110</th>\n",
              "      <td>0.0</td>\n",
              "      <td>0.0</td>\n",
              "      <td>0.0</td>\n",
              "      <td>0.0</td>\n",
              "      <td>0.0</td>\n",
              "      <td>0.0</td>\n",
              "      <td>0.0</td>\n",
              "      <td>0.0</td>\n",
              "      <td>0.0</td>\n",
              "      <td>0.0</td>\n",
              "      <td>...</td>\n",
              "      <td>0.0</td>\n",
              "      <td>0.0</td>\n",
              "      <td>0.0</td>\n",
              "      <td>0.0</td>\n",
              "      <td>0.0</td>\n",
              "      <td>0.0</td>\n",
              "      <td>0.0</td>\n",
              "      <td>0.0</td>\n",
              "      <td>0.0</td>\n",
              "      <td>1.0</td>\n",
              "    </tr>\n",
              "    <tr>\n",
              "      <th>111</th>\n",
              "      <td>0.0</td>\n",
              "      <td>0.0</td>\n",
              "      <td>0.0</td>\n",
              "      <td>0.0</td>\n",
              "      <td>0.0</td>\n",
              "      <td>0.0</td>\n",
              "      <td>0.0</td>\n",
              "      <td>0.0</td>\n",
              "      <td>0.0</td>\n",
              "      <td>0.0</td>\n",
              "      <td>...</td>\n",
              "      <td>0.0</td>\n",
              "      <td>0.0</td>\n",
              "      <td>0.0</td>\n",
              "      <td>0.0</td>\n",
              "      <td>0.0</td>\n",
              "      <td>0.0</td>\n",
              "      <td>0.0</td>\n",
              "      <td>0.0</td>\n",
              "      <td>0.0</td>\n",
              "      <td>1.0</td>\n",
              "    </tr>\n",
              "    <tr>\n",
              "      <th>112</th>\n",
              "      <td>0.0</td>\n",
              "      <td>0.0</td>\n",
              "      <td>0.0</td>\n",
              "      <td>0.0</td>\n",
              "      <td>0.0</td>\n",
              "      <td>0.0</td>\n",
              "      <td>0.0</td>\n",
              "      <td>0.0</td>\n",
              "      <td>0.0</td>\n",
              "      <td>0.0</td>\n",
              "      <td>...</td>\n",
              "      <td>0.0</td>\n",
              "      <td>0.0</td>\n",
              "      <td>0.0</td>\n",
              "      <td>0.0</td>\n",
              "      <td>0.0</td>\n",
              "      <td>0.0</td>\n",
              "      <td>0.0</td>\n",
              "      <td>0.0</td>\n",
              "      <td>0.0</td>\n",
              "      <td>0.0</td>\n",
              "    </tr>\n",
              "    <tr>\n",
              "      <th>113</th>\n",
              "      <td>0.0</td>\n",
              "      <td>0.0</td>\n",
              "      <td>0.0</td>\n",
              "      <td>0.0</td>\n",
              "      <td>0.0</td>\n",
              "      <td>0.0</td>\n",
              "      <td>1.0</td>\n",
              "      <td>0.0</td>\n",
              "      <td>0.0</td>\n",
              "      <td>0.0</td>\n",
              "      <td>...</td>\n",
              "      <td>0.0</td>\n",
              "      <td>0.0</td>\n",
              "      <td>0.0</td>\n",
              "      <td>0.0</td>\n",
              "      <td>0.0</td>\n",
              "      <td>0.0</td>\n",
              "      <td>0.0</td>\n",
              "      <td>0.0</td>\n",
              "      <td>0.0</td>\n",
              "      <td>0.0</td>\n",
              "    </tr>\n",
              "    <tr>\n",
              "      <th>114</th>\n",
              "      <td>0.0</td>\n",
              "      <td>0.0</td>\n",
              "      <td>0.0</td>\n",
              "      <td>0.0</td>\n",
              "      <td>0.0</td>\n",
              "      <td>0.0</td>\n",
              "      <td>0.0</td>\n",
              "      <td>0.0</td>\n",
              "      <td>0.0</td>\n",
              "      <td>0.0</td>\n",
              "      <td>...</td>\n",
              "      <td>0.0</td>\n",
              "      <td>0.0</td>\n",
              "      <td>0.0</td>\n",
              "      <td>0.0</td>\n",
              "      <td>0.0</td>\n",
              "      <td>0.0</td>\n",
              "      <td>0.0</td>\n",
              "      <td>0.0</td>\n",
              "      <td>0.0</td>\n",
              "      <td>0.0</td>\n",
              "    </tr>\n",
              "  </tbody>\n",
              "</table>\n",
              "<p>115 rows × 283 columns</p>\n",
              "</div>"
            ]
          },
          "metadata": {
            "tags": []
          },
          "execution_count": 65
        }
      ]
    },
    {
      "cell_type": "markdown",
      "metadata": {
        "id": "yYd7p6JKV7fG",
        "colab_type": "text"
      },
      "source": [
        "#### Entrenamiento"
      ]
    },
    {
      "cell_type": "markdown",
      "metadata": {
        "id": "7T435YsNWPGe",
        "colab_type": "text"
      },
      "source": [
        "Se realizará el entrenamiento de un modelo de regresión logística utilizando descenso por gradiente con una tasa de aprendizaje $\\alpha=0.05$, un vector incial aleatorio para $\\hat{\\theta}$, error cuadrático medio como función de perdida y realizando 10000 iteraciones."
      ]
    },
    {
      "cell_type": "code",
      "metadata": {
        "id": "09S81MCOWPe3",
        "colab_type": "code",
        "outputId": "bab49dea-2f63-4661-8ebe-f776a28ca9d9",
        "colab": {
          "base_uri": "https://localhost:8080/"
        }
      },
      "source": [
        "# Inicializamos nuestra taza de aprendizaje\n",
        "ej2_alpha = 0.05\n",
        "\n",
        "# Inicializamos el numero de iteraciones\n",
        "ej2_iterations = 10000\n",
        "\n",
        "# Inicializamos nuestro vector theta\n",
        "ej2_theta_hat = np.random.rand(283)\n",
        "\n",
        "# Obtenemos nuestros vectores de atributos\n",
        "ej2_features_x_train = coded_go_matches_train[:,:282]\n",
        "\n",
        "# Obtenemos nuestro y verdadero\n",
        "ej2_y_true_train = np.ravel(coded_go_matches_train[:,282:])\n",
        "\n",
        "# Obtenemos la matriz de diseño\n",
        "ej2_design_matrix_x_train = np.hstack((np.ones((ej2_features_x_train.shape[0], 1)), ej2_features_x_train))\n",
        "\n",
        "# Realizamos una predicción con el vector theta actual\n",
        "ej2_y_pred_train = logistic_model_f(ej2_design_matrix_x_train, ej2_theta_hat)\n",
        "\n",
        "# Obtenemos el valor de la pérdida\n",
        "ej2_loss_i = sum_square_error(ej2_y_true_train, ej2_y_pred_train) / ej2_y_pred_train.shape[0]\n",
        "\n",
        "# Guardamos el historial de la perdida\n",
        "ej2_loss_hist = np.array([ej2_loss_i])\n",
        "\n",
        "for i in range(ej2_iterations):\n",
        "  \n",
        "  # Obtenemos el gradiente \n",
        "  ej2_grad_i = (ej2_design_matrix_x_train.T @ (ej2_y_pred_train - ej2_y_true_train)) / ej2_y_pred_train.shape[0]\n",
        "  \n",
        "  # Actualizamos el vector theta\n",
        "  ej2_theta_hat = ej2_theta_hat - ej2_alpha * ej2_grad_i\n",
        "\n",
        "  # Realizamos una predicción con el vector theta actual\n",
        "  ej2_y_pred_train = logistic_model_f(ej2_design_matrix_x_train, ej2_theta_hat)\n",
        "\n",
        "  # Obtenemos el valor de la pérdida\n",
        "  ej2_loss_i = sum_square_error(ej2_y_true_train, ej2_y_pred_train) / ej2_y_pred_train.shape[0]\n",
        "\n",
        "  # Guardamos el valor de la pérdida \n",
        "  ej2_loss_hist = np.append(ej2_loss_hist, ej2_loss_i)  \n",
        "\n",
        "# Graficamos el historico de la pérdida\n",
        "plt.figure()\n",
        "plt.plot(range(len(ej2_loss_hist)), ej2_loss_hist, 'r')\n",
        "plt.show()"
      ],
      "execution_count": 0,
      "outputs": [
        {
          "output_type": "display_data",
          "data": {
            "text/plain": [
              "<Figure size 432x288 with 1 Axes>"
            ],
            "image/png": "[encoded data removed]"
          },
          "metadata": {
            "tags": [],
            "needs_background": "light"
          }
        }
      ]
    },
    {
      "cell_type": "markdown",
      "metadata": {
        "id": "dq6SLCM_ZEca",
        "colab_type": "text"
      },
      "source": [
        "#### Gráficamos la curva ROC"
      ]
    },
    {
      "cell_type": "code",
      "metadata": {
        "id": "UI-iGJEMDqzj",
        "colab_type": "code",
        "outputId": "5d180f88-c496-417e-99aa-61b345317932",
        "colab": {
          "base_uri": "https://localhost:8080/"
        }
      },
      "source": [
        "# Obtenemos nuestros vectores de atributos del conjunto de validación\n",
        "ej2_features_x_test = coded_go_matches_test[:,:282]\n",
        "\n",
        "# Obtenemos nuestro y verdadero\n",
        "ej2_y_true_test = np.ravel(coded_go_matches_test[:,282:])\n",
        "\n",
        "# Obtenemos la matriz de diseño\n",
        "ej2_design_matrix_x_test = np.hstack((np.ones((ej2_features_x_test.shape[0], 1)), ej2_features_x_test))\n",
        "\n",
        "# Obtenemos la predicción para el conjunto de validación\n",
        "ej2_y_pred_test = logistic_model_f(ej2_design_matrix_x_test, ej2_theta_hat)\n",
        "\n",
        "# Calculamos las tasas de verdaderos positivos y de falsos positivos para cada umbral.\n",
        "ej2_rtps, ej2_rfps = roc(ej2_y_pred_test, ej2_y_true_test)\n",
        "\n",
        "# Agregamos el punto inicial (0,0) \n",
        "ej2_rtps = np.append(np.zeros(1), ej2_rtps)\n",
        "ej2_rfps = np.append(np.zeros(1), ej2_rfps)\n",
        "\n",
        "# Graficamos la curva ROC\n",
        "plt.plot(ej2_rfps, ej2_rtps)\n",
        "plt.plot([0, 1], [0, 1], '--')\n",
        "plt.fill_between(ej2_rfps, ej2_rtps, 0, alpha=0.5, color = 'lightblue')\n",
        "plt.xlabel('Tasa de falsos positivos')\n",
        "plt.ylabel('Tasa de verdaderos positivos')\n",
        "plt.show()\n",
        "\n",
        "# Reportamos el area bajo la curva\n",
        "print('Area bajo la curva ROC = {0}'.format(aucrocprecex(ej2_rfps, ej2_rtps, 0.0)))"
      ],
      "execution_count": 0,
      "outputs": [
        {
          "output_type": "display_data",
          "data": {
            "text/plain": [
              "<Figure size 432x288 with 1 Axes>"
            ],
            "image/png": "[encoded data removed]"
          },
          "metadata": {
            "tags": [],
            "needs_background": "light"
          }
        },
        {
          "output_type": "stream",
          "text": [
            "Area bajo la curva ROC = 0.6888396156688841\n"
          ],
          "name": "stdout"
        }
      ]
    },
    {
      "cell_type": "markdown",
      "metadata": {
        "id": "A2bkxza8NaKh",
        "colab_type": "text"
      },
      "source": [
        "#### Graficamos la curva de precisión exhaustividad"
      ]
    },
    {
      "cell_type": "code",
      "metadata": {
        "id": "4dhi_SA2NfPj",
        "colab_type": "code",
        "outputId": "d5fa4157-b74d-4dc6-c077-d0f941a2221c",
        "colab": {
          "base_uri": "https://localhost:8080/"
        }
      },
      "source": [
        "# Calculamos la precisión y exhaustividad para cada umbral.\n",
        "ej2_exha_val, ej2_prec_val = prec_exha(ej2_y_pred_test, ej2_y_true_test)\n",
        "\n",
        "# Agregamos el punto inicial (0,1) \n",
        "ej2_exha_val = np.append(np.zeros(1), ej2_exha_val)\n",
        "ej2_prec_val = np.append(np.ones(1), ej2_prec_val)\n",
        "\n",
        "# Graficamos la curva de exhaustividad\n",
        "plt.plot(ej2_exha_val, ej2_prec_val)\n",
        "plt.fill_between(ej2_exha_val, ej2_prec_val, 0, alpha=0.5, color = 'lightblue')\n",
        "plt.xlabel('Exhaustividad')\n",
        "plt.ylabel('Precisión')\n",
        "plt.show()\n",
        "\n",
        "# Reportamos el area bajo la curva\n",
        "print('Area bajo la curva Exhaustividad = {0}'.format(aucrocprecex(ej2_exha_val, ej2_prec_val, 1.0)))"
      ],
      "execution_count": 0,
      "outputs": [
        {
          "output_type": "display_data",
          "data": {
            "text/plain": [
              "<Figure size 432x288 with 1 Axes>"
            ],
            "image/png": "[encoded data removed]"
          },
          "metadata": {
            "tags": [],
            "needs_background": "light"
          }
        },
        {
          "output_type": "stream",
          "text": [
            "Area bajo la curva Exhaustividad = 0.8115270902556035\n"
          ],
          "name": "stdout"
        }
      ]
    },
    {
      "cell_type": "markdown",
      "metadata": {
        "id": "UR6IzWHFiGP_",
        "colab_type": "text"
      },
      "source": [
        "### Parte 3. Compara el clasificador bayesiano ingenuo y regresión logística en este problema. "
      ]
    },
    {
      "cell_type": "markdown",
      "metadata": {
        "id": "tRVUWBqtiPhl",
        "colab_type": "text"
      },
      "source": [
        "#### ¿Qué ventajas y desventajas tienen los modelos entrenados? \n"
      ]
    },
    {
      "cell_type": "markdown",
      "metadata": {
        "id": "tnXx1obDiSjZ",
        "colab_type": "text"
      },
      "source": [
        "* **Clasificador Bayesiano Ingenuo**: \n",
        "  * Ventajas: utiliza las entradas sin requerir una reparametrización, es decir podemos definir una distribución categorica. Otra ventaja que podríamos mencionar es que es relativamente simple y rápido de desarrollar. Y por último podemos generar nuevas partidas al ser un modelo generativo.\n",
        "  * Desventajas: Al ser la versión por máxima verosimilitud, no se tiene mucho control sobre el entrenamiento, es decir no hay forma de realizar ajustes de hyperparametros o de explorar otros valores que impacten a su rendimiento. Otra desventaja es que asume que todos los parametros son condicionalmente independientes dada la clase por lo que si no es una representación muy cercana a la realidad esto sera perjudicial para el rendimiento. En este caso por ejemplo no se mantiene dicha afirmación ya que el saber que gano el jugador A o el jugador B, no nos aporta completamente lo necesario para determinar que valor ocupara los atributos de los identificadores del jugador A o jugador B, incluso saber el identificador de alguno de los dos nos dará mas información puesto que al menos sabemos que deben ser dos identificadores distintos y si sabemos uno, sabemos que el otro al menos no es ese.\n",
        "* **Clasificador Regresión Logística**: \n",
        "  * Ventajas: El entrenamiento que realiza ajusta sus parametros para aumentar la verosimilitud aún si los parametros llegan a ser inconsistentes con la independencia condicional de los atributos, es decir este modelo puede tener un menor sesgo de predicción ya que obtiene los parametros a partir de los datos sin realizar una fuerte suposición a diferencia de Naive Bayes. Es mas robusto.\n",
        "  * Desventajas:  Entradas categoricas requieren una reparametrización. Es mas complejo."
      ]
    },
    {
      "cell_type": "markdown",
      "metadata": {
        "id": "r2NpvIqAiTyB",
        "colab_type": "text"
      },
      "source": [
        "#### ¿Qué pasaría si se entrena el clasificador bayesiano ingenuo con los vectores reparametrizados o si se entrena un modelo de regresión logística usando los vectores de entrada originales? "
      ]
    },
    {
      "cell_type": "markdown",
      "metadata": {
        "id": "1f77KC5xiXAa",
        "colab_type": "text"
      },
      "source": [
        "En ambos casos habría algún grado de inconsistencia con las suposiciones de los clasificadores.\n",
        "\n",
        "* Para el caso del clasificador bayesiano, al asumir independencia condicional entre los atributos, al tener dicha reparametrización donde las variables dummy codifican que jugador es el jugador A y cual el B es claro que teniendo las variables de los atributos excepto una podemos inferir que valor tiene aún sin revisar el valor de la clase.El clasificador entonces interpretará una forma distinta de la realidad lo cual perjudicaría su desempeño.\n",
        "\n",
        "* Para el caso del modelo de regresión logística, los valores directos de entrada harán que el modelo interprete una influencia por parte de los identificadores que realmente no tienen. Es decir, el modelo considerara al identificador con un valor numerico con magnitud, una magnitud que buscará ajustar y será dependiente de que tan grande o pequeño sea, lo cual es algo que no es consistente con la realidad ya que no influye realmente el valor del identificador. Esto hará entonces que el modelo llegue a ajustes con malos desempeños porque asume esa influencia."
      ]
    },
    {
      "cell_type": "markdown",
      "metadata": {
        "id": "aOOqK7AAiYr2",
        "colab_type": "text"
      },
      "source": [
        "#### ¿Consideras que las presuposiciones de cada clasificador son apropiadas para los datos del problema? "
      ]
    },
    {
      "cell_type": "markdown",
      "metadata": {
        "id": "34eskBlZibOp",
        "colab_type": "text"
      },
      "source": [
        "En el caso del clasificador bayesiano no es apropiada del todo, la desventaja es que no hay forma de tratar de ajustar el sesgo resultante de suponer la independencia condicional de los atributos dados la clase, que para estos datos en particular no es cierto necesariamente. \n",
        "\n",
        "En el caso del clasificador de regresión lineal el sesgo será tratado con respecto a los datos, lo cual es mas apropiado, la cuestión es revisar y elegir la codificación y parametros tales que mejoren el desempeño con respecto al clasificador bayesiano."
      ]
    },
    {
      "cell_type": "markdown",
      "metadata": {
        "id": "aZ8j8nhiib8C",
        "colab_type": "text"
      },
      "source": [
        "#### ¿Para este tipo de problemas cuál de los dos recomendarías y por qué?"
      ]
    },
    {
      "cell_type": "markdown",
      "metadata": {
        "id": "RYqtqoYGidap",
        "colab_type": "text"
      },
      "source": [
        "Asumiendo las características de este problema como el no tener una clara independecia condicional entre los parametros, tener datos que puedan aportar al ajuste del modelo para predecir y que no represente un gran inconvenitne la utlización de una reparametrización, consideraría que la recomendación para una mejor interpretación del problema es usar un modelo de regresión logística que permita una mejor exploración en la relación de atributos y su ajuste para la predicción lo cual puede llevar a una mejor representación del problema que lleve incluso a considerar otras opciones de modelos y parametrización que se asemejen mas a la realidad y tengan un mejor desempeño."
      ]
    },
    {
      "cell_type": "markdown",
      "metadata": {
        "id": "F8rTT5SKykj4",
        "colab_type": "text"
      },
      "source": [
        "## Ejercicio 3 - Regresión logística vs clasificador bayesiano ingenuo\n",
        "\n",
        "Compara los métodos de regresión logística y el clasificador bayesiano ingenuo en las siguientes tareas:\n",
        "\n",
        "* Clasificación de spam.\n",
        "* Clasificación de tumores de seno.\n",
        "\n",
        "Discute qué modelo seleccionarías y por qué. Todos los modelos deberán ser evaluados con 10\n",
        "repeticiones de validación cruzada estratificada de 5 particiones."
      ]
    },
    {
      "cell_type": "markdown",
      "metadata": {
        "id": "LDaBPX8Py5xA",
        "colab_type": "text"
      },
      "source": [
        "### Clasificación SPAM"
      ]
    },
    {
      "cell_type": "markdown",
      "metadata": {
        "id": "W0D7w02EJfAY",
        "colab_type": "text"
      },
      "source": [
        "#### Obtención de la base de datos"
      ]
    },
    {
      "cell_type": "code",
      "metadata": {
        "id": "hMNJRcw2Ji1k",
        "colab_type": "code",
        "outputId": "93a40b48-79a7-4fde-c2c5-8cc39f61cab2",
        "colab": {
          "base_uri": "https://localhost:8080/",
          "height": 235
        }
      },
      "source": [
        "!wget -O spam.csv \"https://turing.iimas.unam.mx/~gibranfp/cursos/aprendizaje_automatizado/data/spam.csv\""
      ],
      "execution_count": 0,
      "outputs": [
        {
          "output_type": "stream",
          "text": [
            "--2020-04-17 08:27:05--  https://turing.iimas.unam.mx/~gibranfp/cursos/aprendizaje_automatizado/data/spam.csv\r\n",
            "Resolving turing.iimas.unam.mx (turing.iimas.unam.mx)... 132.248.51.88\n",
            "Connecting to turing.iimas.unam.mx (turing.iimas.unam.mx)|132.248.51.88|:443... connected.\n",
            "HTTP request sent, awaiting response... 200 OK\n",
            "Length: 20699730 (20M) [text/csv]\n",
            "Saving to: ‘spam.csv’\n",
            "\n",
            "spam.csv            100%[===================>]  19.74M  4.26MB/s    in 5.0s    \n",
            "\n",
            "2020-04-17 08:27:11 (3.92 MB/s) - ‘spam.csv’ saved [20699730/20699730]\n",
            "\n"
          ],
          "name": "stdout"
        }
      ]
    },
    {
      "cell_type": "code",
      "metadata": {
        "id": "x1F5vWXpUBk-",
        "colab_type": "code",
        "outputId": "2373c452-778f-4a25-b029-ce406b3af5c0",
        "colab": {
          "base_uri": "https://localhost:8080/",
          "height": 419
        }
      },
      "source": [
        "spam_data = pd.read_csv('spam.csv', sep=' ', header=None)\n",
        "spam_data"
      ],
      "execution_count": 0,
      "outputs": [
        {
          "output_type": "execute_result",
          "data": {
            "text/plain": [
              "      0     1     2     3     4     5     6     7     8     9     ...  1991  \\\n",
              "0        0     0     0     0     0     0     0     0     0     0  ...     0   \n",
              "1        1     0     0     0     0     0     0     0     0     0  ...     0   \n",
              "2        1     0     0     0     0     0     0     0     0     0  ...     0   \n",
              "3        0     0     0     0     0     0     0     0     0     0  ...     0   \n",
              "4        1     0     0     0     0     0     0     0     0     0  ...     0   \n",
              "...    ...   ...   ...   ...   ...   ...   ...   ...   ...   ...  ...   ...   \n",
              "5167     0     0     0     0     0     0     0     0     4     0  ...     0   \n",
              "5168     0     0     0     0     3     4     0     0     0     0  ...     0   \n",
              "5169     0     0     0     0     1     0     0     0     1     0  ...     0   \n",
              "5170     0     0     0     0     0     0     0     0     0     0  ...     0   \n",
              "5171     0     0     0     0     4     0     0     0     4     0  ...     0   \n",
              "\n",
              "      1992  1993  1994  1995  1996  1997  1998  1999  2000  \n",
              "0        0     0     0     0     0     0     0     0     1  \n",
              "1        0     0     0     0     0     0     0     1     1  \n",
              "2        0     0     0     0     0     0     0     0     1  \n",
              "3        1     0     0     0     0     0     0     0     1  \n",
              "4        0     0     0     0     0     0     0     0     1  \n",
              "...    ...   ...   ...   ...   ...   ...   ...   ...   ...  \n",
              "5167     0     0     0     0     0     0     0     0     0  \n",
              "5168     0     0     0     0     0     0     0     0     0  \n",
              "5169     0     0     0     0     0     0     0     0     0  \n",
              "5170     0     0     0     0     0     0     0     0     0  \n",
              "5171     0     0     0     0     0     0     0     0     0  \n",
              "\n",
              "[5172 rows x 2001 columns]"
            ],
            "text/html": [
              "<div>\n",
              "<style scoped>\n",
              "    .dataframe tbody tr th:only-of-type {\n",
              "        vertical-align: middle;\n",
              "    }\n",
              "\n",
              "    .dataframe tbody tr th {\n",
              "        vertical-align: top;\n",
              "    }\n",
              "\n",
              "    .dataframe thead th {\n",
              "        text-align: right;\n",
              "    }\n",
              "</style>\n",
              "<table border=\"1\" class=\"dataframe\">\n",
              "  <thead>\n",
              "    <tr style=\"text-align: right;\">\n",
              "      <th></th>\n",
              "      <th>0</th>\n",
              "      <th>1</th>\n",
              "      <th>2</th>\n",
              "      <th>3</th>\n",
              "      <th>4</th>\n",
              "      <th>5</th>\n",
              "      <th>6</th>\n",
              "      <th>7</th>\n",
              "      <th>8</th>\n",
              "      <th>9</th>\n",
              "      <th>...</th>\n",
              "      <th>1991</th>\n",
              "      <th>1992</th>\n",
              "      <th>1993</th>\n",
              "      <th>1994</th>\n",
              "      <th>1995</th>\n",
              "      <th>1996</th>\n",
              "      <th>1997</th>\n",
              "      <th>1998</th>\n",
              "      <th>1999</th>\n",
              "      <th>2000</th>\n",
              "    </tr>\n",
              "  </thead>\n",
              "  <tbody>\n",
              "    <tr>\n",
              "      <th>0</th>\n",
              "      <td>0</td>\n",
              "      <td>0</td>\n",
              "      <td>0</td>\n",
              "      <td>0</td>\n",
              "      <td>0</td>\n",
              "      <td>0</td>\n",
              "      <td>0</td>\n",
              "      <td>0</td>\n",
              "      <td>0</td>\n",
              "      <td>0</td>\n",
              "      <td>...</td>\n",
              "      <td>0</td>\n",
              "      <td>0</td>\n",
              "      <td>0</td>\n",
              "      <td>0</td>\n",
              "      <td>0</td>\n",
              "      <td>0</td>\n",
              "      <td>0</td>\n",
              "      <td>0</td>\n",
              "      <td>0</td>\n",
              "      <td>1</td>\n",
              "    </tr>\n",
              "    <tr>\n",
              "      <th>1</th>\n",
              "      <td>1</td>\n",
              "      <td>0</td>\n",
              "      <td>0</td>\n",
              "      <td>0</td>\n",
              "      <td>0</td>\n",
              "      <td>0</td>\n",
              "      <td>0</td>\n",
              "      <td>0</td>\n",
              "      <td>0</td>\n",
              "      <td>0</td>\n",
              "      <td>...</td>\n",
              "      <td>0</td>\n",
              "      <td>0</td>\n",
              "      <td>0</td>\n",
              "      <td>0</td>\n",
              "      <td>0</td>\n",
              "      <td>0</td>\n",
              "      <td>0</td>\n",
              "      <td>0</td>\n",
              "      <td>1</td>\n",
              "      <td>1</td>\n",
              "    </tr>\n",
              "    <tr>\n",
              "      <th>2</th>\n",
              "      <td>1</td>\n",
              "      <td>0</td>\n",
              "      <td>0</td>\n",
              "      <td>0</td>\n",
              "      <td>0</td>\n",
              "      <td>0</td>\n",
              "      <td>0</td>\n",
              "      <td>0</td>\n",
              "      <td>0</td>\n",
              "      <td>0</td>\n",
              "      <td>...</td>\n",
              "      <td>0</td>\n",
              "      <td>0</td>\n",
              "      <td>0</td>\n",
              "      <td>0</td>\n",
              "      <td>0</td>\n",
              "      <td>0</td>\n",
              "      <td>0</td>\n",
              "      <td>0</td>\n",
              "      <td>0</td>\n",
              "      <td>1</td>\n",
              "    </tr>\n",
              "    <tr>\n",
              "      <th>3</th>\n",
              "      <td>0</td>\n",
              "      <td>0</td>\n",
              "      <td>0</td>\n",
              "      <td>0</td>\n",
              "      <td>0</td>\n",
              "      <td>0</td>\n",
              "      <td>0</td>\n",
              "      <td>0</td>\n",
              "      <td>0</td>\n",
              "      <td>0</td>\n",
              "      <td>...</td>\n",
              "      <td>0</td>\n",
              "      <td>1</td>\n",
              "      <td>0</td>\n",
              "      <td>0</td>\n",
              "      <td>0</td>\n",
              "      <td>0</td>\n",
              "      <td>0</td>\n",
              "      <td>0</td>\n",
              "      <td>0</td>\n",
              "      <td>1</td>\n",
              "    </tr>\n",
              "    <tr>\n",
              "      <th>4</th>\n",
              "      <td>1</td>\n",
              "      <td>0</td>\n",
              "      <td>0</td>\n",
              "      <td>0</td>\n",
              "      <td>0</td>\n",
              "      <td>0</td>\n",
              "      <td>0</td>\n",
              "      <td>0</td>\n",
              "      <td>0</td>\n",
              "      <td>0</td>\n",
              "      <td>...</td>\n",
              "      <td>0</td>\n",
              "      <td>0</td>\n",
              "      <td>0</td>\n",
              "      <td>0</td>\n",
              "      <td>0</td>\n",
              "      <td>0</td>\n",
              "      <td>0</td>\n",
              "      <td>0</td>\n",
              "      <td>0</td>\n",
              "      <td>1</td>\n",
              "    </tr>\n",
              "    <tr>\n",
              "      <th>...</th>\n",
              "      <td>...</td>\n",
              "      <td>...</td>\n",
              "      <td>...</td>\n",
              "      <td>...</td>\n",
              "      <td>...</td>\n",
              "      <td>...</td>\n",
              "      <td>...</td>\n",
              "      <td>...</td>\n",
              "      <td>...</td>\n",
              "      <td>...</td>\n",
              "      <td>...</td>\n",
              "      <td>...</td>\n",
              "      <td>...</td>\n",
              "      <td>...</td>\n",
              "      <td>...</td>\n",
              "      <td>...</td>\n",
              "      <td>...</td>\n",
              "      <td>...</td>\n",
              "      <td>...</td>\n",
              "      <td>...</td>\n",
              "      <td>...</td>\n",
              "    </tr>\n",
              "    <tr>\n",
              "      <th>5167</th>\n",
              "      <td>0</td>\n",
              "      <td>0</td>\n",
              "      <td>0</td>\n",
              "      <td>0</td>\n",
              "      <td>0</td>\n",
              "      <td>0</td>\n",
              "      <td>0</td>\n",
              "      <td>0</td>\n",
              "      <td>4</td>\n",
              "      <td>0</td>\n",
              "      <td>...</td>\n",
              "      <td>0</td>\n",
              "      <td>0</td>\n",
              "      <td>0</td>\n",
              "      <td>0</td>\n",
              "      <td>0</td>\n",
              "      <td>0</td>\n",
              "      <td>0</td>\n",
              "      <td>0</td>\n",
              "      <td>0</td>\n",
              "      <td>0</td>\n",
              "    </tr>\n",
              "    <tr>\n",
              "      <th>5168</th>\n",
              "      <td>0</td>\n",
              "      <td>0</td>\n",
              "      <td>0</td>\n",
              "      <td>0</td>\n",
              "      <td>3</td>\n",
              "      <td>4</td>\n",
              "      <td>0</td>\n",
              "      <td>0</td>\n",
              "      <td>0</td>\n",
              "      <td>0</td>\n",
              "      <td>...</td>\n",
              "      <td>0</td>\n",
              "      <td>0</td>\n",
              "      <td>0</td>\n",
              "      <td>0</td>\n",
              "      <td>0</td>\n",
              "      <td>0</td>\n",
              "      <td>0</td>\n",
              "      <td>0</td>\n",
              "      <td>0</td>\n",
              "      <td>0</td>\n",
              "    </tr>\n",
              "    <tr>\n",
              "      <th>5169</th>\n",
              "      <td>0</td>\n",
              "      <td>0</td>\n",
              "      <td>0</td>\n",
              "      <td>0</td>\n",
              "      <td>1</td>\n",
              "      <td>0</td>\n",
              "      <td>0</td>\n",
              "      <td>0</td>\n",
              "      <td>1</td>\n",
              "      <td>0</td>\n",
              "      <td>...</td>\n",
              "      <td>0</td>\n",
              "      <td>0</td>\n",
              "      <td>0</td>\n",
              "      <td>0</td>\n",
              "      <td>0</td>\n",
              "      <td>0</td>\n",
              "      <td>0</td>\n",
              "      <td>0</td>\n",
              "      <td>0</td>\n",
              "      <td>0</td>\n",
              "    </tr>\n",
              "    <tr>\n",
              "      <th>5170</th>\n",
              "      <td>0</td>\n",
              "      <td>0</td>\n",
              "      <td>0</td>\n",
              "      <td>0</td>\n",
              "      <td>0</td>\n",
              "      <td>0</td>\n",
              "      <td>0</td>\n",
              "      <td>0</td>\n",
              "      <td>0</td>\n",
              "      <td>0</td>\n",
              "      <td>...</td>\n",
              "      <td>0</td>\n",
              "      <td>0</td>\n",
              "      <td>0</td>\n",
              "      <td>0</td>\n",
              "      <td>0</td>\n",
              "      <td>0</td>\n",
              "      <td>0</td>\n",
              "      <td>0</td>\n",
              "      <td>0</td>\n",
              "      <td>0</td>\n",
              "    </tr>\n",
              "    <tr>\n",
              "      <th>5171</th>\n",
              "      <td>0</td>\n",
              "      <td>0</td>\n",
              "      <td>0</td>\n",
              "      <td>0</td>\n",
              "      <td>4</td>\n",
              "      <td>0</td>\n",
              "      <td>0</td>\n",
              "      <td>0</td>\n",
              "      <td>4</td>\n",
              "      <td>0</td>\n",
              "      <td>...</td>\n",
              "      <td>0</td>\n",
              "      <td>0</td>\n",
              "      <td>0</td>\n",
              "      <td>0</td>\n",
              "      <td>0</td>\n",
              "      <td>0</td>\n",
              "      <td>0</td>\n",
              "      <td>0</td>\n",
              "      <td>0</td>\n",
              "      <td>0</td>\n",
              "    </tr>\n",
              "  </tbody>\n",
              "</table>\n",
              "<p>5172 rows × 2001 columns</p>\n",
              "</div>"
            ]
          },
          "metadata": {
            "tags": []
          },
          "execution_count": 70
        }
      ]
    },
    {
      "cell_type": "markdown",
      "metadata": {
        "id": "NBkIR7zNJXsJ",
        "colab_type": "text"
      },
      "source": [
        "#### Clasificador Bayesiano Ingenuo"
      ]
    },
    {
      "cell_type": "code",
      "metadata": {
        "id": "0Rex5aCje3XE",
        "colab_type": "code",
        "colab": {}
      },
      "source": [
        "# Definimos la función del EMV, devuelve 1 si es clasificado como SPAM o 0 en otro caso\n",
        "def spamEMV(attribute_vector, emv_q_spam, emv_q_no_spam, emv_q_words_in_spam, emv_q_words_in_no_spam):\n",
        "  probability_is_spam = emv_q_spam * np.power(emv_q_words_in_spam, attribute_vector).prod()\n",
        "  probability_is_not_spam = emv_q_no_spam * np.power(emv_q_words_in_no_spam, attribute_vector).prod()\n",
        "  if (probability_is_spam > probability_is_not_spam):\n",
        "    return 1\n",
        "  return 0"
      ],
      "execution_count": 0,
      "outputs": []
    },
    {
      "cell_type": "markdown",
      "metadata": {
        "id": "3s36qXgBzBeY",
        "colab_type": "text"
      },
      "source": [
        "##### Estimación de parametros y Reporte de porcentaje de predicciones correctas"
      ]
    },
    {
      "cell_type": "code",
      "metadata": {
        "id": "TPY7nZBlU-Lm",
        "colab_type": "code",
        "outputId": "9fd62e01-509c-49c7-f1a9-83105d060ce7",
        "colab": {
          "base_uri": "https://localhost:8080/",
          "height": 953
        }
      },
      "source": [
        "# Inicializamos el numero de repeticiones\n",
        "ej3_spam_repetitions = 10\n",
        "\n",
        "# Inicializamos el valor de k para las particiones\n",
        "ej3_spam_k_fold = 5\n",
        "\n",
        "# Inicializamos las listas donde almacenaremos los resultados\n",
        "ej3_spam_percentage_per_repetition_train = []\n",
        "ej3_spam_percentage_per_repetition_test = []\n",
        "\n",
        "# Recorremos las 10 repeticiones\n",
        "for ej3_spam_repetition_i in range(ej3_spam_repetitions):\n",
        "  \n",
        "  # Hacemos un random shuffle del data set\n",
        "  shuffled_spam_data = spam_data.iloc[np.random.permutation(range(spam_data.shape[0]))].copy()\n",
        "  \n",
        "  # Al usar una partición estratificada haremos una division entre los datos por clase\n",
        "  shuffled_spam_data_class_spam = shuffled_spam_data[shuffled_spam_data[2000] == 1]\n",
        "  shuffled_spam_data_class_no_spam = shuffled_spam_data[shuffled_spam_data[2000] == 0]\n",
        "\n",
        "  # Por repeticion ahora haremos un split en k particiones en la clase spam y la no spam\n",
        "  split_shuffled_spam_data_class_spam = np.array_split(shuffled_spam_data_class_spam, ej3_spam_k_fold)\n",
        "  split_shuffled_spam_data_class_no_spam = np.array_split(shuffled_spam_data_class_no_spam, ej3_spam_k_fold)\n",
        "  \n",
        "  # Inicializamos las listas donde almacenaremos los resultados por partición\n",
        "  ej3_spam_percentage_per_fold_train = []\n",
        "  ej3_spam_percentage_per_fold_test = []\n",
        "  \n",
        "  # Recorremos las particiones\n",
        "  for test_partition in range(ej3_spam_k_fold):\n",
        "    # Definimos el conjunto de validación y de entrenamiento por clase\n",
        "    spam_data_class_spam_test = split_shuffled_spam_data_class_spam[test_partition]\n",
        "    spam_data_class_spam_train = shuffled_spam_data_class_spam.loc[~shuffled_spam_data_class_spam.index.isin(spam_data_class_spam_test.index)]\n",
        "\n",
        "    spam_data_class_no_spam_test = split_shuffled_spam_data_class_no_spam[test_partition]\n",
        "    spam_data_class_no_spam_train = shuffled_spam_data_class_no_spam.loc[~shuffled_spam_data_class_no_spam.index.isin(spam_data_class_no_spam_test.index)]\n",
        "    \n",
        "    # Agrupamos el conjunto de validacion y entrenamiento\n",
        "    spam_current_partition_test = pd.concat([spam_data_class_spam_test, spam_data_class_no_spam_test])\n",
        "    spam_current_partition_train = pd.concat([spam_data_class_spam_train, spam_data_class_no_spam_train])\n",
        "    \n",
        "    # Estimamos el parametro q por clase\n",
        "    # Obtenemos el total de elementos en el conjunto de datos\n",
        "    emv_q_class_spam_curr_part = spam_data_class_spam_train.shape[0] / spam_current_partition_train.shape[0] \n",
        "    emv_q_class_no_spam_curr_part = spam_data_class_no_spam_train.shape[0] / spam_current_partition_train.shape[0]\n",
        "   \n",
        "    # Estimamos los parametros para los atributos utilizando una distribución multinomial\n",
        "    # para la clase spam\n",
        "    word_occurrences_in_class_spam = spam_data_class_spam_train.iloc[:,:-1].sum(axis=0)\n",
        "    emv_q_words_in_class_spam = word_occurrences_in_class_spam / word_occurrences_in_class_spam.sum()\n",
        "    # para la clase no spam\n",
        "    word_occurrences_in_class_no_spam = spam_data_class_no_spam_train.iloc[:,:-1].sum(axis=0)\n",
        "    emv_q_words_in_class_no_spam = word_occurrences_in_class_no_spam / word_occurrences_in_class_no_spam.sum()\n",
        "\n",
        "    # Obtenemos las predicciones correctas en el conjunto de entrenamiento\n",
        "    correct_predictions_in_partition_train = 0\n",
        "    for prediction_i in range(spam_current_partition_train.shape[0]):\n",
        "      current_prediction_result = spamEMV(spam_current_partition_train.iloc[prediction_i,:-1], emv_q_class_spam_curr_part, emv_q_class_no_spam_curr_part, emv_q_words_in_class_spam, emv_q_words_in_class_no_spam)\n",
        "      if (current_prediction_result == spam_current_partition_train.iloc[prediction_i,-1]):\n",
        "        correct_predictions_in_partition_train += 1\n",
        "\n",
        "\n",
        "    # Obtenemos las predicciones correctas en el conjunto de validacion\n",
        "    correct_predictions_in_partition_test = 0\n",
        "    for prediction_i in range(spam_current_partition_test.shape[0]):\n",
        "      current_prediction_result = spamEMV(spam_current_partition_test.iloc[prediction_i,:-1], emv_q_class_spam_curr_part, emv_q_class_no_spam_curr_part, emv_q_words_in_class_spam, emv_q_words_in_class_no_spam)\n",
        "      if (current_prediction_result == spam_current_partition_test.iloc[prediction_i,-1]):\n",
        "        correct_predictions_in_partition_test += 1\n",
        "\n",
        "    print ('Repetition {0}/{1} - Partition {2}/{3}'.format( (ej3_spam_repetition_i + 1), ej3_spam_repetitions, (test_partition + 1), ej3_spam_k_fold) )\n",
        "    # Guardamos los resultados por particion\n",
        "    ej3_spam_percentage_per_fold_train.append(correct_predictions_in_partition_train * 100 / spam_current_partition_train.shape[0])\n",
        "    ej3_spam_percentage_per_fold_test.append(correct_predictions_in_partition_test * 100 / spam_current_partition_test.shape[0])\n",
        "  \n",
        "  # Guardamos los promedios por repeticion\n",
        "  ej3_spam_percentage_per_repetition_train.append(np.array(ej3_spam_percentage_per_fold_train).mean())\n",
        "  ej3_spam_percentage_per_repetition_test.append(np.array(ej3_spam_percentage_per_fold_test).mean())\n",
        "\n",
        "# Reportamos los resultados promediados de los porcentajes de predicciones correctas por repeticion\n",
        "print('% Correct in Train: {0}'.format(np.mean(ej3_spam_percentage_per_repetition_train)))\n",
        "print('% Correct in Test: {0}'.format(np.mean(ej3_spam_percentage_per_repetition_test)))"
      ],
      "execution_count": 0,
      "outputs": [
        {
          "output_type": "stream",
          "text": [
            "Repetition 1/10 - Partition 1/5\n",
            "Repetition 1/10 - Partition 2/5\n",
            "Repetition 1/10 - Partition 3/5\n",
            "Repetition 1/10 - Partition 4/5\n",
            "Repetition 1/10 - Partition 5/5\n",
            "Repetition 2/10 - Partition 1/5\n",
            "Repetition 2/10 - Partition 2/5\n",
            "Repetition 2/10 - Partition 3/5\n",
            "Repetition 2/10 - Partition 4/5\n",
            "Repetition 2/10 - Partition 5/5\n",
            "Repetition 3/10 - Partition 1/5\n",
            "Repetition 3/10 - Partition 2/5\n",
            "Repetition 3/10 - Partition 3/5\n",
            "Repetition 3/10 - Partition 4/5\n",
            "Repetition 3/10 - Partition 5/5\n",
            "Repetition 4/10 - Partition 1/5\n",
            "Repetition 4/10 - Partition 2/5\n",
            "Repetition 4/10 - Partition 3/5\n",
            "Repetition 4/10 - Partition 4/5\n",
            "Repetition 4/10 - Partition 5/5\n",
            "Repetition 5/10 - Partition 1/5\n",
            "Repetition 5/10 - Partition 2/5\n",
            "Repetition 5/10 - Partition 3/5\n",
            "Repetition 5/10 - Partition 4/5\n",
            "Repetition 5/10 - Partition 5/5\n",
            "Repetition 6/10 - Partition 1/5\n",
            "Repetition 6/10 - Partition 2/5\n",
            "Repetition 6/10 - Partition 3/5\n",
            "Repetition 6/10 - Partition 4/5\n",
            "Repetition 6/10 - Partition 5/5\n",
            "Repetition 7/10 - Partition 1/5\n",
            "Repetition 7/10 - Partition 2/5\n",
            "Repetition 7/10 - Partition 3/5\n",
            "Repetition 7/10 - Partition 4/5\n",
            "Repetition 7/10 - Partition 5/5\n",
            "Repetition 8/10 - Partition 1/5\n",
            "Repetition 8/10 - Partition 2/5\n",
            "Repetition 8/10 - Partition 3/5\n",
            "Repetition 8/10 - Partition 4/5\n",
            "Repetition 8/10 - Partition 5/5\n",
            "Repetition 9/10 - Partition 1/5\n",
            "Repetition 9/10 - Partition 2/5\n",
            "Repetition 9/10 - Partition 3/5\n",
            "Repetition 9/10 - Partition 4/5\n",
            "Repetition 9/10 - Partition 5/5\n",
            "Repetition 10/10 - Partition 1/5\n",
            "Repetition 10/10 - Partition 2/5\n",
            "Repetition 10/10 - Partition 3/5\n",
            "Repetition 10/10 - Partition 4/5\n",
            "Repetition 10/10 - Partition 5/5\n",
            "% Correct in Train: 93.16463224928042\n",
            "% Correct in Test: 91.60854988366552\n"
          ],
          "name": "stdout"
        }
      ]
    },
    {
      "cell_type": "markdown",
      "metadata": {
        "id": "1pbNiW-O-21_",
        "colab_type": "text"
      },
      "source": [
        "#### Clasificador por regresión logística"
      ]
    },
    {
      "cell_type": "code",
      "metadata": {
        "id": "tNOhnYCz-7r6",
        "colab_type": "code",
        "outputId": "5b0b1a6a-af6a-4ea7-edef-147674dbdf04",
        "colab": {
          "base_uri": "https://localhost:8080/",
          "height": 953
        }
      },
      "source": [
        "# Inicializamos nuestra taza de aprendizaje\n",
        "ej3_alpha = 0.05\n",
        "\n",
        "# Inicializamos el numero de iteraciones\n",
        "ej3_iterations = 10000\n",
        "\n",
        "# Inicializamos el numero de repeticiones\n",
        "ej3_lgreg_repetitions = 10\n",
        "\n",
        "# Inicializamos el valor de k para las particiones\n",
        "ej3_lgreg_k_fold = 5\n",
        "\n",
        "# Inicializamos las listas donde almacenaremos los resultados\n",
        "ej3_lgreg_percentage_per_repetition_train = []\n",
        "ej3_lgreg_percentage_per_repetition_test = []\n",
        "\n",
        "# Recorremos las 10 repeticiones\n",
        "for ej3_lgreg_repetition_i in range(ej3_lgreg_repetitions):\n",
        "  \n",
        "  # Hacemos un random shuffle del data set\n",
        "  shuffled_spam_data = spam_data.iloc[np.random.permutation(range(spam_data.shape[0]))].copy()\n",
        "  \n",
        "  # Al usar una partición estratificada haremos una division entre los datos por clase\n",
        "  shuffled_spam_data_class_spam = shuffled_spam_data[shuffled_spam_data.iloc[:,-1] == 1]\n",
        "  shuffled_spam_data_class_no_spam = shuffled_spam_data[shuffled_spam_data.iloc[:,-1] == 0]\n",
        "\n",
        "  # Por repeticion ahora haremos un split en k particiones en la clase spam y la no spam\n",
        "  split_shuffled_spam_data_class_spam = np.array_split(shuffled_spam_data_class_spam, ej3_spam_k_fold)\n",
        "  split_shuffled_spam_data_class_no_spam = np.array_split(shuffled_spam_data_class_no_spam, ej3_spam_k_fold)\n",
        "  \n",
        "  # Inicializamos las listas donde almacenaremos los resultados por partición\n",
        "  ej3_lgreg_percentage_per_fold_train = []\n",
        "  ej3_lgreg_percentage_per_fold_test = []\n",
        "  \n",
        "  # Recorremos las particiones\n",
        "  for test_partition in range(ej3_lgreg_k_fold):\n",
        "    # Definimos el conjunto de validación y de entrenamiento por clase\n",
        "    spam_data_class_spam_test = split_shuffled_spam_data_class_spam[test_partition]\n",
        "    spam_data_class_spam_train = shuffled_spam_data_class_spam.loc[~shuffled_spam_data_class_spam.index.isin(spam_data_class_spam_test.index)]\n",
        "\n",
        "    spam_data_class_no_spam_test = split_shuffled_spam_data_class_no_spam[test_partition]\n",
        "    spam_data_class_no_spam_train = shuffled_spam_data_class_no_spam.loc[~shuffled_spam_data_class_no_spam.index.isin(spam_data_class_no_spam_test.index)]\n",
        "    \n",
        "    # Agrupamos el conjunto de validacion y entrenamiento\n",
        "    spam_current_partition_test = pd.concat([spam_data_class_spam_test, spam_data_class_no_spam_test])\n",
        "    spam_current_partition_train = pd.concat([spam_data_class_spam_train, spam_data_class_no_spam_train])\n",
        "\n",
        "    # Inicializamos nuestro vector theta\n",
        "    ej3_theta_hat = np.random.rand(spam_current_partition_train.shape[1])\n",
        "\n",
        "    # Obtenemos nuestros vectores de atributos\n",
        "    ej3_features_x_train = spam_current_partition_train.iloc[:,:-1]\n",
        "\n",
        "    # Obtenemos nuestro y verdadero\n",
        "    ej3_y_true_train = np.ravel(spam_current_partition_train.iloc[:,-1:])\n",
        "\n",
        "    # Obtenemos la matriz de diseño\n",
        "    ej3_design_matrix_x_train = np.hstack((np.ones((ej3_features_x_train.shape[0], 1)), ej3_features_x_train))\n",
        "\n",
        "    # Realizamos una predicción con el vector theta actual\n",
        "    ej3_y_pred_train = logistic_model_f(ej3_design_matrix_x_train, ej3_theta_hat)\n",
        "\n",
        "    # Obtenemos el valor de la pérdida\n",
        "    ej3_loss_i = sum_square_error(ej3_y_true_train, ej3_y_pred_train) / ej3_y_pred_train.shape[0]\n",
        "\n",
        "    # Guardamos el historial de la perdida\n",
        "    ej3_loss_hist = np.array([ej3_loss_i])\n",
        "\n",
        "    for i in range(ej3_iterations):\n",
        "      \n",
        "      # Obtenemos el gradiente \n",
        "      ej3_grad_i = (ej3_design_matrix_x_train.T @ (ej3_y_pred_train - ej3_y_true_train)) / ej3_y_pred_train.shape[0]\n",
        "      \n",
        "      # Actualizamos el vector theta\n",
        "      ej3_theta_hat = ej3_theta_hat - ej3_alpha * ej3_grad_i\n",
        "\n",
        "      # Realizamos una predicción con el vector theta actual\n",
        "      ej3_y_pred_train = logistic_model_f(ej3_design_matrix_x_train, ej3_theta_hat)\n",
        "\n",
        "      # Obtenemos el valor de la pérdida\n",
        "      ej3_loss_i = sum_square_error(ej3_y_true_train, ej3_y_pred_train) / ej3_y_pred_train.shape[0]\n",
        "\n",
        "      # Guardamos el valor de la pérdida \n",
        "      ej3_loss_hist = np.append(ej3_loss_hist, ej3_loss_i)  \n",
        "\n",
        "    # Obtenemos las predicciones correctas en el conjunto de entrenamiento con un threshold promediado\n",
        "    mean_prob = np.mean(ej3_y_pred_train)\n",
        "    correct_predictions_in_partition_train = 0\n",
        "    for prediction_i in range(spam_current_partition_train.shape[0]):\n",
        "      current_prediction_result = 0\n",
        "      if (ej3_y_pred_train[prediction_i] >= mean_prob):\n",
        "        current_prediction_result = 1\n",
        "      if (current_prediction_result == spam_current_partition_train.iloc[prediction_i,-1]):\n",
        "        correct_predictions_in_partition_train += 1\n",
        "    \n",
        "    # Obtenemos las predicciones correctas en el conjunto de validacion\n",
        "    # Obtenemos nuestros vectores de atributos\n",
        "    ej3_features_x_test = spam_current_partition_test.iloc[:,:-1]\n",
        "\n",
        "    # Obtenemos nuestro y verdadero\n",
        "    ej3_y_true_test = np.ravel(spam_current_partition_test.iloc[:,-1:])\n",
        "\n",
        "    # Obtenemos la matriz de diseño\n",
        "    ej3_design_matrix_x_test = np.hstack((np.ones((ej3_features_x_test.shape[0], 1)), ej3_features_x_test))\n",
        "\n",
        "    # Realizamos una predicción con el vector theta actual\n",
        "    ej3_y_pred_test = logistic_model_f(ej3_design_matrix_x_test, ej3_theta_hat)\n",
        "\n",
        "    # Obtenemos las predicciones correctas en el conjunto de validacion por threshold posible\n",
        "    mean_prob = np.mean(ej3_y_pred_test)\n",
        "    correct_predictions_in_partition_test = 0\n",
        "    for prediction_i in range(spam_current_partition_test.shape[0]):\n",
        "      current_prediction_result = 0\n",
        "      if (ej3_y_pred_test[prediction_i] >= mean_prob):\n",
        "        current_prediction_result = 1\n",
        "      if (current_prediction_result == spam_current_partition_test.iloc[prediction_i,-1]):\n",
        "          correct_predictions_in_partition_test += 1\n",
        "\n",
        "    # Guardamos los resultados por particion\n",
        "    ej3_lgreg_percentage_per_fold_train.append(correct_predictions_in_partition_train * 100 / spam_current_partition_train.shape[0])\n",
        "    ej3_lgreg_percentage_per_fold_test.append(correct_predictions_in_partition_test * 100 / spam_current_partition_test.shape[0])\n",
        "    print ('Repetition {0}/{1} - Partition {2}/{3}'.format( (ej3_lgreg_repetition_i + 1), ej3_lgreg_repetitions, (test_partition + 1), ej3_lgreg_k_fold) )\n",
        "  # Guardamos los promedios por repeticion\n",
        "  ej3_lgreg_percentage_per_repetition_train.append(np.array(ej3_lgreg_percentage_per_fold_train).mean())\n",
        "  ej3_lgreg_percentage_per_repetition_test.append(np.array(ej3_lgreg_percentage_per_fold_test).mean())\n",
        "\n",
        "# Reportamos los resultados promediados de los porcentajes de predicciones correctas por repeticion\n",
        "print('% Correct in Train: {0}'.format(np.mean(ej3_lgreg_percentage_per_repetition_train)))\n",
        "print('% Correct in Test: {0}'.format(np.mean(ej3_lgreg_percentage_per_repetition_test)))"
      ],
      "execution_count": 0,
      "outputs": [
        {
          "output_type": "stream",
          "text": [
            "Repetition 1/10 - Partition 1/5\n",
            "Repetition 1/10 - Partition 2/5\n",
            "Repetition 1/10 - Partition 3/5\n",
            "Repetition 1/10 - Partition 4/5\n",
            "Repetition 1/10 - Partition 5/5\n",
            "Repetition 2/10 - Partition 1/5\n",
            "Repetition 2/10 - Partition 2/5\n",
            "Repetition 2/10 - Partition 3/5\n",
            "Repetition 2/10 - Partition 4/5\n",
            "Repetition 2/10 - Partition 5/5\n",
            "Repetition 3/10 - Partition 1/5\n",
            "Repetition 3/10 - Partition 2/5\n",
            "Repetition 3/10 - Partition 3/5\n",
            "Repetition 3/10 - Partition 4/5\n",
            "Repetition 3/10 - Partition 5/5\n",
            "Repetition 4/10 - Partition 1/5\n",
            "Repetition 4/10 - Partition 2/5\n",
            "Repetition 4/10 - Partition 3/5\n",
            "Repetition 4/10 - Partition 4/5\n",
            "Repetition 4/10 - Partition 5/5\n",
            "Repetition 5/10 - Partition 1/5\n",
            "Repetition 5/10 - Partition 2/5\n",
            "Repetition 5/10 - Partition 3/5\n",
            "Repetition 5/10 - Partition 4/5\n",
            "Repetition 5/10 - Partition 5/5\n",
            "Repetition 6/10 - Partition 1/5\n",
            "Repetition 6/10 - Partition 2/5\n",
            "Repetition 6/10 - Partition 3/5\n",
            "Repetition 6/10 - Partition 4/5\n",
            "Repetition 6/10 - Partition 5/5\n",
            "Repetition 7/10 - Partition 1/5\n",
            "Repetition 7/10 - Partition 2/5\n",
            "Repetition 7/10 - Partition 3/5\n",
            "Repetition 7/10 - Partition 4/5\n",
            "Repetition 7/10 - Partition 5/5\n",
            "Repetition 8/10 - Partition 1/5\n",
            "Repetition 8/10 - Partition 2/5\n",
            "Repetition 8/10 - Partition 3/5\n",
            "Repetition 8/10 - Partition 4/5\n",
            "Repetition 8/10 - Partition 5/5\n",
            "Repetition 9/10 - Partition 1/5\n",
            "Repetition 9/10 - Partition 2/5\n",
            "Repetition 9/10 - Partition 3/5\n",
            "Repetition 9/10 - Partition 4/5\n",
            "Repetition 9/10 - Partition 5/5\n",
            "Repetition 10/10 - Partition 1/5\n",
            "Repetition 10/10 - Partition 2/5\n",
            "Repetition 10/10 - Partition 3/5\n",
            "Repetition 10/10 - Partition 4/5\n",
            "Repetition 10/10 - Partition 5/5\n",
            "% Correct in Train: 97.07607635674849\n",
            "% Correct in Test: 95.52198581560285\n"
          ],
          "name": "stdout"
        }
      ]
    },
    {
      "cell_type": "markdown",
      "metadata": {
        "id": "3gDgpexP_xvW",
        "colab_type": "text"
      },
      "source": [
        "#### Discusión"
      ]
    },
    {
      "cell_type": "markdown",
      "metadata": {
        "id": "HDUxbjrS_z3C",
        "colab_type": "text"
      },
      "source": [
        "En esta instancia específica del problema con las implementaciones anteriores, el clasificador que utiliza un modelo de regresión logística tiene mejores resultados en porcentajes de predicciones correctas en los conjuntos de entrenamiento y de validación. Sin embargo esto requirió de una extensa y tardada exploración de parametros como las iteraciones en el descenso por gradiente, la tasa de aprendizaje y la validación cruzada.\n",
        "\n",
        "Los resultados que ofrece el modelo mayesiano son lo suficientemente buenos para considerarlo como una excelente alternativa y sería la recomendación para esta instancia del problema.\n",
        "\n",
        "Otro aspecto que al considerar puede nutrir la discusión es la independencia condicional de los parametros dada la clase que asume el clasificador bayesiano, la cual podríamos aceptar ya que el valor de la presencia de una palabra en específico es minoritariamente influenciado por los demas atributos dado que ya sabemos si es SPAM o no."
      ]
    },
    {
      "cell_type": "markdown",
      "metadata": {
        "id": "pCpJ0tFty8-l",
        "colab_type": "text"
      },
      "source": [
        "### Clasificación de tumores de seno"
      ]
    },
    {
      "cell_type": "markdown",
      "metadata": {
        "id": "2rfs5Zn8zA9x",
        "colab_type": "text"
      },
      "source": [
        "#### Obtenemos la base de datos"
      ]
    },
    {
      "cell_type": "code",
      "metadata": {
        "id": "7jcbHLAnDktk",
        "colab_type": "code",
        "outputId": "28bcd297-20e8-41b1-b69b-d7cc5a2dd0af",
        "colab": {
          "base_uri": "https://localhost:8080/",
          "height": 235
        }
      },
      "source": [
        "!wget -O breast-cancer-wisconsin.data http://archive.ics.uci.edu/ml/machine-learning-databases/breast-cancer-wisconsin/breast-cancer-wisconsin.data"
      ],
      "execution_count": 0,
      "outputs": [
        {
          "output_type": "stream",
          "text": [
            "--2020-04-17 09:56:27--  http://archive.ics.uci.edu/ml/machine-learning-databases/breast-cancer-wisconsin/breast-cancer-wisconsin.data\r\n",
            "Resolving archive.ics.uci.edu (archive.ics.uci.edu)... 128.195.10.252\n",
            "Connecting to archive.ics.uci.edu (archive.ics.uci.edu)|128.195.10.252|:80... connected.\n",
            "HTTP request sent, awaiting response... 200 OK\n",
            "Length: 19889 (19K) [application/x-httpd-php]\n",
            "Saving to: ‘breast-cancer-wisconsin.data’\n",
            "\n",
            "breast-cancer-wisco 100%[===================>]  19.42K  --.-KB/s    in 0.07s   \n",
            "\n",
            "2020-04-17 09:56:27 (275 KB/s) - ‘breast-cancer-wisconsin.data’ saved [19889/19889]\n",
            "\n"
          ],
          "name": "stdout"
        }
      ]
    },
    {
      "cell_type": "code",
      "metadata": {
        "id": "-wfrJ8L3Dooo",
        "colab_type": "code",
        "outputId": "f3750cb9-e9e9-45b8-bd71-e48ec363afad",
        "colab": {
          "base_uri": "https://localhost:8080/",
          "height": 419
        }
      },
      "source": [
        "# Leemos el contenido\n",
        "breastcancer_data = pd.read_csv('breast-cancer-wisconsin.data', header=None)\n",
        "\n",
        "# Obtenemos los registros completos\n",
        "complete_registers_breastcancer_data = breastcancer_data[breastcancer_data[6] != \"?\"].copy()\n",
        "complete_registers_breastcancer_data[6] = complete_registers_breastcancer_data[6].astype('int64')\n",
        "complete_registers_breastcancer_data\n",
        "\n",
        "# Obtenemos el valor mas frecuente\n",
        "method3_mode_value = complete_registers_breastcancer_data[6].mode()[0]\n",
        "\n",
        "# Completamos el dataset \n",
        "breastcancer_filled = breastcancer_data.copy()\n",
        "breastcancer_filled = breastcancer_filled.replace(\"?\", method3_mode_value)\n",
        "breastcancer_filled = breastcancer_filled.astype('int64')\n",
        "\n",
        "# Prescindimos del ID como atributo\n",
        "breastcancer_filled = breastcancer_filled.drop(columns=0)\n",
        "\n",
        "# Cambiamos La representación de benigno y maligno a 0 y 1 respectivamente\n",
        "breastcancer_filled.loc[breastcancer_filled[10] == 2, 10] = 0\n",
        "breastcancer_filled.loc[breastcancer_filled[10] == 4, 10] = 1\n",
        "breastcancer_filled"
      ],
      "execution_count": 0,
      "outputs": [
        {
          "output_type": "execute_result",
          "data": {
            "text/plain": [
              "     1   2   3   4   5   6   7   8   9   10\n",
              "0     5   1   1   1   2   1   3   1   1   0\n",
              "1     5   4   4   5   7  10   3   2   1   0\n",
              "2     3   1   1   1   2   2   3   1   1   0\n",
              "3     6   8   8   1   3   4   3   7   1   0\n",
              "4     4   1   1   3   2   1   3   1   1   0\n",
              "..   ..  ..  ..  ..  ..  ..  ..  ..  ..  ..\n",
              "694   3   1   1   1   3   2   1   1   1   0\n",
              "695   2   1   1   1   2   1   1   1   1   0\n",
              "696   5  10  10   3   7   3   8  10   2   1\n",
              "697   4   8   6   4   3   4  10   6   1   1\n",
              "698   4   8   8   5   4   5  10   4   1   1\n",
              "\n",
              "[699 rows x 10 columns]"
            ],
            "text/html": [
              "<div>\n",
              "<style scoped>\n",
              "    .dataframe tbody tr th:only-of-type {\n",
              "        vertical-align: middle;\n",
              "    }\n",
              "\n",
              "    .dataframe tbody tr th {\n",
              "        vertical-align: top;\n",
              "    }\n",
              "\n",
              "    .dataframe thead th {\n",
              "        text-align: right;\n",
              "    }\n",
              "</style>\n",
              "<table border=\"1\" class=\"dataframe\">\n",
              "  <thead>\n",
              "    <tr style=\"text-align: right;\">\n",
              "      <th></th>\n",
              "      <th>1</th>\n",
              "      <th>2</th>\n",
              "      <th>3</th>\n",
              "      <th>4</th>\n",
              "      <th>5</th>\n",
              "      <th>6</th>\n",
              "      <th>7</th>\n",
              "      <th>8</th>\n",
              "      <th>9</th>\n",
              "      <th>10</th>\n",
              "    </tr>\n",
              "  </thead>\n",
              "  <tbody>\n",
              "    <tr>\n",
              "      <th>0</th>\n",
              "      <td>5</td>\n",
              "      <td>1</td>\n",
              "      <td>1</td>\n",
              "      <td>1</td>\n",
              "      <td>2</td>\n",
              "      <td>1</td>\n",
              "      <td>3</td>\n",
              "      <td>1</td>\n",
              "      <td>1</td>\n",
              "      <td>0</td>\n",
              "    </tr>\n",
              "    <tr>\n",
              "      <th>1</th>\n",
              "      <td>5</td>\n",
              "      <td>4</td>\n",
              "      <td>4</td>\n",
              "      <td>5</td>\n",
              "      <td>7</td>\n",
              "      <td>10</td>\n",
              "      <td>3</td>\n",
              "      <td>2</td>\n",
              "      <td>1</td>\n",
              "      <td>0</td>\n",
              "    </tr>\n",
              "    <tr>\n",
              "      <th>2</th>\n",
              "      <td>3</td>\n",
              "      <td>1</td>\n",
              "      <td>1</td>\n",
              "      <td>1</td>\n",
              "      <td>2</td>\n",
              "      <td>2</td>\n",
              "      <td>3</td>\n",
              "      <td>1</td>\n",
              "      <td>1</td>\n",
              "      <td>0</td>\n",
              "    </tr>\n",
              "    <tr>\n",
              "      <th>3</th>\n",
              "      <td>6</td>\n",
              "      <td>8</td>\n",
              "      <td>8</td>\n",
              "      <td>1</td>\n",
              "      <td>3</td>\n",
              "      <td>4</td>\n",
              "      <td>3</td>\n",
              "      <td>7</td>\n",
              "      <td>1</td>\n",
              "      <td>0</td>\n",
              "    </tr>\n",
              "    <tr>\n",
              "      <th>4</th>\n",
              "      <td>4</td>\n",
              "      <td>1</td>\n",
              "      <td>1</td>\n",
              "      <td>3</td>\n",
              "      <td>2</td>\n",
              "      <td>1</td>\n",
              "      <td>3</td>\n",
              "      <td>1</td>\n",
              "      <td>1</td>\n",
              "      <td>0</td>\n",
              "    </tr>\n",
              "    <tr>\n",
              "      <th>...</th>\n",
              "      <td>...</td>\n",
              "      <td>...</td>\n",
              "      <td>...</td>\n",
              "      <td>...</td>\n",
              "      <td>...</td>\n",
              "      <td>...</td>\n",
              "      <td>...</td>\n",
              "      <td>...</td>\n",
              "      <td>...</td>\n",
              "      <td>...</td>\n",
              "    </tr>\n",
              "    <tr>\n",
              "      <th>694</th>\n",
              "      <td>3</td>\n",
              "      <td>1</td>\n",
              "      <td>1</td>\n",
              "      <td>1</td>\n",
              "      <td>3</td>\n",
              "      <td>2</td>\n",
              "      <td>1</td>\n",
              "      <td>1</td>\n",
              "      <td>1</td>\n",
              "      <td>0</td>\n",
              "    </tr>\n",
              "    <tr>\n",
              "      <th>695</th>\n",
              "      <td>2</td>\n",
              "      <td>1</td>\n",
              "      <td>1</td>\n",
              "      <td>1</td>\n",
              "      <td>2</td>\n",
              "      <td>1</td>\n",
              "      <td>1</td>\n",
              "      <td>1</td>\n",
              "      <td>1</td>\n",
              "      <td>0</td>\n",
              "    </tr>\n",
              "    <tr>\n",
              "      <th>696</th>\n",
              "      <td>5</td>\n",
              "      <td>10</td>\n",
              "      <td>10</td>\n",
              "      <td>3</td>\n",
              "      <td>7</td>\n",
              "      <td>3</td>\n",
              "      <td>8</td>\n",
              "      <td>10</td>\n",
              "      <td>2</td>\n",
              "      <td>1</td>\n",
              "    </tr>\n",
              "    <tr>\n",
              "      <th>697</th>\n",
              "      <td>4</td>\n",
              "      <td>8</td>\n",
              "      <td>6</td>\n",
              "      <td>4</td>\n",
              "      <td>3</td>\n",
              "      <td>4</td>\n",
              "      <td>10</td>\n",
              "      <td>6</td>\n",
              "      <td>1</td>\n",
              "      <td>1</td>\n",
              "    </tr>\n",
              "    <tr>\n",
              "      <th>698</th>\n",
              "      <td>4</td>\n",
              "      <td>8</td>\n",
              "      <td>8</td>\n",
              "      <td>5</td>\n",
              "      <td>4</td>\n",
              "      <td>5</td>\n",
              "      <td>10</td>\n",
              "      <td>4</td>\n",
              "      <td>1</td>\n",
              "      <td>1</td>\n",
              "    </tr>\n",
              "  </tbody>\n",
              "</table>\n",
              "<p>699 rows × 10 columns</p>\n",
              "</div>"
            ]
          },
          "metadata": {
            "tags": []
          },
          "execution_count": 75
        }
      ]
    },
    {
      "cell_type": "markdown",
      "metadata": {
        "id": "s-U4jbPWEqcl",
        "colab_type": "text"
      },
      "source": [
        "#### Clasificador Bayesiano Ingenuo"
      ]
    },
    {
      "cell_type": "code",
      "metadata": {
        "id": "hICQEOmEEwY9",
        "colab_type": "code",
        "colab": {}
      },
      "source": [
        "# Definimos la función del EMV, devuelve 1 si es clasificado como maligno o 0 en otro caso\n",
        "def breastcancerEMV(attribute_vector, emv_q_malign, emv_q_benign, emv_q_attr_in_malign, emv_q_attr_in_benign):\n",
        "  probability_is_malign = emv_q_malign * np.power(emv_q_attr_in_malign, attribute_vector).prod()\n",
        "  probability_is_benign = emv_q_benign * np.power(emv_q_attr_in_benign, attribute_vector).prod()\n",
        "  if (probability_is_malign > probability_is_benign):\n",
        "    return 1\n",
        "  return 0"
      ],
      "execution_count": 0,
      "outputs": []
    },
    {
      "cell_type": "markdown",
      "metadata": {
        "id": "S5jv6KlnOnzK",
        "colab_type": "text"
      },
      "source": [
        "Estimación de parametros y reporte de porcentajes de predicciones correctas"
      ]
    },
    {
      "cell_type": "code",
      "metadata": {
        "id": "mleEa-6UOsV9",
        "colab_type": "code",
        "outputId": "8d28c82c-94ac-411b-a7ec-b3d03d3bc392",
        "colab": {
          "base_uri": "https://localhost:8080/",
          "height": 953
        }
      },
      "source": [
        "# Inicializamos el numero de repeticiones\n",
        "ej3_breastc_repetitions = 10\n",
        "\n",
        "# Inicializamos el valor de k para las particiones\n",
        "ej3_breastc_k_fold = 5\n",
        "\n",
        "# Inicializamos las listas donde almacenaremos los resultados\n",
        "ej3_breastc_percentage_per_repetition_train = []\n",
        "ej3_breastc_percentage_per_repetition_test = []\n",
        "\n",
        "# Recorremos las 10 repeticiones\n",
        "for ej3_breastc_repetition_i in range(ej3_breastc_repetitions):\n",
        "  \n",
        "  # Hacemos un random shuffle del data set\n",
        "  shuffled_breastc_data = breastcancer_filled.iloc[np.random.permutation(range(breastcancer_filled.shape[0]))].copy()\n",
        "  \n",
        "  # Al usar una partición estratificada haremos una division entre los datos por clase\n",
        "  shuffled_breastc_data_malign = shuffled_breastc_data[shuffled_breastc_data[10] == 1]\n",
        "  shuffled_breastc_data_benign = shuffled_breastc_data[shuffled_breastc_data[10] == 0]\n",
        "\n",
        "  # Por repeticion ahora haremos un split en k particiones en la clase maligno y benigno\n",
        "  split_shuffled_breastc_data_malign = np.array_split(shuffled_breastc_data_malign, ej3_breastc_k_fold)\n",
        "  split_shuffled_breastc_data_benign = np.array_split(shuffled_breastc_data_benign, ej3_breastc_k_fold)\n",
        "  \n",
        "  # Inicializamos las listas donde almacenaremos los resultados por partición\n",
        "  ej3_breastc_percentage_per_fold_train = []\n",
        "  ej3_breastc_percentage_per_fold_test = []\n",
        "  \n",
        "  # Recorremos las particiones\n",
        "  for test_partition in range(ej3_breastc_k_fold):\n",
        "    # Definimos el conjunto de validación y de entrenamiento por clase\n",
        "    breastc_data_malign_test = split_shuffled_breastc_data_malign[test_partition]\n",
        "    breastc_data_malign_train = shuffled_breastc_data_malign.loc[~shuffled_breastc_data_malign.index.isin(breastc_data_malign_test.index)]\n",
        "\n",
        "    breastc_data_benign_test = split_shuffled_breastc_data_benign[test_partition]\n",
        "    breastc_data_benign_train = shuffled_breastc_data_benign.loc[~shuffled_breastc_data_benign.index.isin(breastc_data_benign_test.index)]\n",
        "    \n",
        "    # Agrupamos el conjunto de validacion y entrenamiento\n",
        "    breastc_current_partition_test = pd.concat([breastc_data_malign_test, breastc_data_benign_test])\n",
        "    breastc_current_partition_train = pd.concat([breastc_data_malign_train, breastc_data_benign_train])\n",
        "    \n",
        "    # Estimamos el parametro q por clase\n",
        "    # Obtenemos el total de elementos en el conjunto de datos\n",
        "    emv_q_malign_curr_part = breastc_data_malign_train.shape[0] / breastc_current_partition_train.shape[0] \n",
        "    emv_q_benign_curr_part = breastc_data_benign_train.shape[0] / breastc_current_partition_train.shape[0]\n",
        "   \n",
        "    # Estimamos los parametros para los atributos utilizando una distribución multinomial ya que desconocemos la distribución \"normal\" en la población en general\n",
        "    # para la clase maligno\n",
        "    attribute_values_in_class_malign = breastc_data_malign_train.iloc[:,:-1].sum(axis=0)\n",
        "    emv_q_attr_in_malign = attribute_values_in_class_malign / attribute_values_in_class_malign.sum()\n",
        "    # para la clase benigno\n",
        "    attribute_values_in_class_benign = breastc_data_benign_train.sum(axis=0)\n",
        "    emv_q_attr_in_benign = attribute_values_in_class_benign / attribute_values_in_class_benign.sum()\n",
        "\n",
        "    # Obtenemos las predicciones correctas en el conjunto de entrenamiento\n",
        "    correct_predictions_in_partition_train = 0\n",
        "    for prediction_i in range(breastc_current_partition_train.shape[0]):\n",
        "      current_prediction_result = breastcancerEMV(breastc_current_partition_train.iloc[prediction_i,:-1], emv_q_malign_curr_part, emv_q_benign_curr_part, emv_q_attr_in_malign, emv_q_attr_in_benign)\n",
        "      if (current_prediction_result == breastc_current_partition_train.iloc[prediction_i,-1]):\n",
        "        correct_predictions_in_partition_train += 1\n",
        "\n",
        "\n",
        "    # Obtenemos las predicciones correctas en el conjunto de validacion\n",
        "    correct_predictions_in_partition_test = 0\n",
        "    for prediction_i in range(breastc_current_partition_test.shape[0]):\n",
        "      current_prediction_result = breastcancerEMV(breastc_current_partition_test.iloc[prediction_i,:-1], emv_q_malign_curr_part, emv_q_benign_curr_part, emv_q_attr_in_malign, emv_q_attr_in_benign)\n",
        "      if (current_prediction_result == breastc_current_partition_test.iloc[prediction_i,-1]):\n",
        "        correct_predictions_in_partition_test += 1\n",
        "\n",
        "    # Guardamos los resultados por particion\n",
        "    ej3_breastc_percentage_per_fold_train.append(correct_predictions_in_partition_train * 100 / breastc_current_partition_train.shape[0])\n",
        "    ej3_breastc_percentage_per_fold_test.append(correct_predictions_in_partition_test * 100 / breastc_current_partition_test.shape[0])\n",
        "\n",
        "    print ('Repetition {0}/{1} - Partition {2}/{3}'.format( (ej3_breastc_repetition_i + 1), ej3_breastc_repetitions, (test_partition + 1), ej3_breastc_k_fold) )\n",
        "\n",
        "  # Guardamos los promedios por repeticion\n",
        "  ej3_breastc_percentage_per_repetition_train.append(np.array(ej3_breastc_percentage_per_fold_train).mean())\n",
        "  ej3_breastc_percentage_per_repetition_test.append(np.array(ej3_breastc_percentage_per_fold_test).mean())\n",
        "\n",
        "# Reportamos los resultados promediados de los porcentajes de predicciones correctas por repeticion\n",
        "print('% Correct in Train: {0}'.format(np.mean(ej3_breastc_percentage_per_repetition_train)))\n",
        "print('% Correct in Test: {0}'.format(np.mean(ej3_breastc_percentage_per_repetition_test)))"
      ],
      "execution_count": 0,
      "outputs": [
        {
          "output_type": "stream",
          "text": [
            "Repetition 1/10 - Partition 1/5\n",
            "Repetition 1/10 - Partition 2/5\n",
            "Repetition 1/10 - Partition 3/5\n",
            "Repetition 1/10 - Partition 4/5\n",
            "Repetition 1/10 - Partition 5/5\n",
            "Repetition 2/10 - Partition 1/5\n",
            "Repetition 2/10 - Partition 2/5\n",
            "Repetition 2/10 - Partition 3/5\n",
            "Repetition 2/10 - Partition 4/5\n",
            "Repetition 2/10 - Partition 5/5\n",
            "Repetition 3/10 - Partition 1/5\n",
            "Repetition 3/10 - Partition 2/5\n",
            "Repetition 3/10 - Partition 3/5\n",
            "Repetition 3/10 - Partition 4/5\n",
            "Repetition 3/10 - Partition 5/5\n",
            "Repetition 4/10 - Partition 1/5\n",
            "Repetition 4/10 - Partition 2/5\n",
            "Repetition 4/10 - Partition 3/5\n",
            "Repetition 4/10 - Partition 4/5\n",
            "Repetition 4/10 - Partition 5/5\n",
            "Repetition 5/10 - Partition 1/5\n",
            "Repetition 5/10 - Partition 2/5\n",
            "Repetition 5/10 - Partition 3/5\n",
            "Repetition 5/10 - Partition 4/5\n",
            "Repetition 5/10 - Partition 5/5\n",
            "Repetition 6/10 - Partition 1/5\n",
            "Repetition 6/10 - Partition 2/5\n",
            "Repetition 6/10 - Partition 3/5\n",
            "Repetition 6/10 - Partition 4/5\n",
            "Repetition 6/10 - Partition 5/5\n",
            "Repetition 7/10 - Partition 1/5\n",
            "Repetition 7/10 - Partition 2/5\n",
            "Repetition 7/10 - Partition 3/5\n",
            "Repetition 7/10 - Partition 4/5\n",
            "Repetition 7/10 - Partition 5/5\n",
            "Repetition 8/10 - Partition 1/5\n",
            "Repetition 8/10 - Partition 2/5\n",
            "Repetition 8/10 - Partition 3/5\n",
            "Repetition 8/10 - Partition 4/5\n",
            "Repetition 8/10 - Partition 5/5\n",
            "Repetition 9/10 - Partition 1/5\n",
            "Repetition 9/10 - Partition 2/5\n",
            "Repetition 9/10 - Partition 3/5\n",
            "Repetition 9/10 - Partition 4/5\n",
            "Repetition 9/10 - Partition 5/5\n",
            "Repetition 10/10 - Partition 1/5\n",
            "Repetition 10/10 - Partition 2/5\n",
            "Repetition 10/10 - Partition 3/5\n",
            "Repetition 10/10 - Partition 4/5\n",
            "Repetition 10/10 - Partition 5/5\n",
            "% Correct in Train: 90.61868221176172\n",
            "% Correct in Test: 90.19847295415947\n"
          ],
          "name": "stdout"
        }
      ]
    },
    {
      "cell_type": "markdown",
      "metadata": {
        "id": "Ty2rJdWREwy2",
        "colab_type": "text"
      },
      "source": [
        "#### Clasificador con regresión logística"
      ]
    },
    {
      "cell_type": "code",
      "metadata": {
        "id": "846UTdJRE0QL",
        "colab_type": "code",
        "outputId": "34949b77-fdbe-4b55-c851-23ffd7d4bbd8",
        "colab": {
          "base_uri": "https://localhost:8080/",
          "height": 953
        }
      },
      "source": [
        "# Inicializamos nuestra taza de aprendizaje\n",
        "ej3_bc_alpha = 0.05\n",
        "\n",
        "# Inicializamos el numero de iteraciones\n",
        "ej3_bc_iterations = 10000\n",
        "\n",
        "# Inicializamos el numero de repeticiones\n",
        "ej3_bc_lgreg_repetitions = 10\n",
        "\n",
        "# Inicializamos el valor de k para las particiones\n",
        "ej3_bc_lgreg_k_fold = 5\n",
        "\n",
        "# Inicializamos las listas donde almacenaremos los resultados\n",
        "ej3_bc_lgreg_percentage_per_repetition_train = []\n",
        "ej3_bc_lgreg_percentage_per_repetition_test = []\n",
        "\n",
        "# Recorremos las 10 repeticiones\n",
        "for ej3_bc_lgreg_repetition_i in range(ej3_bc_lgreg_repetitions):\n",
        "  \n",
        "  # Hacemos un random shuffle del data set\n",
        "  shuffled_breastc_data = breastcancer_filled.iloc[np.random.permutation(range(breastcancer_filled.shape[0]))].copy()\n",
        "  \n",
        "  # Al usar una partición estratificada haremos una division entre los datos por clase\n",
        "  shuffled_breastc_data_malign = shuffled_breastc_data[shuffled_breastc_data[10] == 1]\n",
        "  shuffled_breastc_data_benign = shuffled_breastc_data[shuffled_breastc_data[10] == 0]\n",
        "\n",
        "  # Por repeticion ahora haremos un split en k particiones en la clase maligno y benigno\n",
        "  split_shuffled_breastc_data_malign = np.array_split(shuffled_breastc_data_malign, ej3_breastc_k_fold)\n",
        "  split_shuffled_breastc_data_benign = np.array_split(shuffled_breastc_data_benign, ej3_breastc_k_fold)\n",
        "  \n",
        "  # Inicializamos las listas donde almacenaremos los resultados por partición\n",
        "  ej3_bc_lgreg_percentage_per_fold_train = []\n",
        "  ej3_bc_lgreg_percentage_per_fold_test = []\n",
        "  \n",
        "  # Recorremos las particiones\n",
        "  for test_partition in range(ej3_bc_lgreg_k_fold):\n",
        "    # Definimos el conjunto de validación y de entrenamiento por clase\n",
        "    breastc_data_malign_test = split_shuffled_breastc_data_malign[test_partition]\n",
        "    breastc_data_malign_train = shuffled_breastc_data_malign.loc[~shuffled_breastc_data_malign.index.isin(breastc_data_malign_test.index)]\n",
        "\n",
        "    breastc_data_benign_test = split_shuffled_breastc_data_benign[test_partition]\n",
        "    breastc_data_benign_train = shuffled_breastc_data_benign.loc[~shuffled_breastc_data_benign.index.isin(breastc_data_benign_test.index)]\n",
        "    \n",
        "    # Agrupamos el conjunto de validacion y entrenamiento\n",
        "    breastc_current_partition_test = pd.concat([breastc_data_malign_test, breastc_data_benign_test])\n",
        "    breastc_current_partition_train = pd.concat([breastc_data_malign_train, breastc_data_benign_train])\n",
        "\n",
        "    # Inicializamos nuestro vector theta\n",
        "    ej3_bc_theta_hat = np.random.rand(breastc_current_partition_train.shape[1])\n",
        "\n",
        "    # Obtenemos nuestros vectores de atributos\n",
        "    ej3_bc_features_x_train = breastc_current_partition_train.iloc[:,:-1]\n",
        "\n",
        "    # Obtenemos nuestro y verdadero\n",
        "    ej3_bc_y_true_train = np.ravel(breastc_current_partition_train.iloc[:,-1:])\n",
        "\n",
        "    # Obtenemos la matriz de diseño\n",
        "    ej3_bc_design_matrix_x_train = np.hstack((np.ones((ej3_bc_features_x_train.shape[0], 1)), ej3_bc_features_x_train))\n",
        "\n",
        "    # Realizamos una predicción con el vector theta actual\n",
        "    ej3_bc_y_pred_train = logistic_model_f(ej3_bc_design_matrix_x_train, ej3_bc_theta_hat)\n",
        "\n",
        "    # Obtenemos el valor de la pérdida\n",
        "    ej3_bc_loss_i = sum_square_error(ej3_bc_y_true_train, ej3_bc_y_pred_train) / ej3_bc_y_pred_train.shape[0]\n",
        "\n",
        "    # Guardamos el historial de la perdida\n",
        "    ej3_bc_loss_hist = np.array([ej3_bc_loss_i])\n",
        "\n",
        "    for i in range(ej3_bc_iterations):\n",
        "      \n",
        "      # Obtenemos el gradiente \n",
        "      ej3_bc_grad_i = (ej3_bc_design_matrix_x_train.T @ (ej3_bc_y_pred_train - ej3_bc_y_true_train)) / ej3_bc_y_pred_train.shape[0]\n",
        "      \n",
        "      # Actualizamos el vector theta\n",
        "      ej3_bc_theta_hat = ej3_bc_theta_hat - ej3_bc_alpha * ej3_bc_grad_i\n",
        "\n",
        "      # Realizamos una predicción con el vector theta actual\n",
        "      ej3_bc_y_pred_train = logistic_model_f(ej3_bc_design_matrix_x_train, ej3_bc_theta_hat)\n",
        "\n",
        "      # Obtenemos el valor de la pérdida\n",
        "      ej3_bc_loss_i = sum_square_error(ej3_bc_y_true_train, ej3_bc_y_pred_train) / ej3_bc_y_pred_train.shape[0]\n",
        "\n",
        "      # Guardamos el valor de la pérdida \n",
        "      ej3_bc_loss_hist = np.append(ej3_bc_loss_hist, ej3_bc_loss_i)  \n",
        "\n",
        "    # Obtenemos las predicciones correctas en el conjunto de entrenamiento con un threshold promediado\n",
        "    mean_prob = np.mean(ej3_bc_y_pred_train)\n",
        "    correct_predictions_in_partition_train = 0\n",
        "    for prediction_i in range(breastc_current_partition_train.shape[0]):\n",
        "      current_prediction_result = 0\n",
        "      if (ej3_bc_y_pred_train[prediction_i] >= mean_prob):\n",
        "        current_prediction_result = 1\n",
        "      if (current_prediction_result == breastc_current_partition_train.iloc[prediction_i,-1]):\n",
        "        correct_predictions_in_partition_train += 1\n",
        "    \n",
        "    # Obtenemos las predicciones correctas en el conjunto de validacion\n",
        "    # Obtenemos nuestros vectores de atributos\n",
        "    ej3_bc_features_x_test = breastc_current_partition_test.iloc[:,:-1]\n",
        "\n",
        "    # Obtenemos nuestro y verdadero\n",
        "    ej3_bc_y_true_test = np.ravel(breastc_current_partition_test.iloc[:,-1:])\n",
        "\n",
        "    # Obtenemos la matriz de diseño\n",
        "    ej3_bc_design_matrix_x_test = np.hstack((np.ones((ej3_bc_features_x_test.shape[0], 1)), ej3_bc_features_x_test))\n",
        "\n",
        "    # Realizamos una predicción con el vector theta actual\n",
        "    ej3_bc_y_pred_test = logistic_model_f(ej3_bc_design_matrix_x_test, ej3_bc_theta_hat)\n",
        "\n",
        "    # Obtenemos las predicciones correctas en el conjunto de validacion por threshold posible\n",
        "    mean_prob = np.mean(ej3_bc_y_pred_test)\n",
        "    correct_predictions_in_partition_test = 0\n",
        "    for prediction_i in range(breastc_current_partition_test.shape[0]):\n",
        "      current_prediction_result = 0\n",
        "      if (ej3_bc_y_pred_test[prediction_i] >= mean_prob):\n",
        "        current_prediction_result = 1\n",
        "      if (current_prediction_result == breastc_current_partition_test.iloc[prediction_i,-1]):\n",
        "          correct_predictions_in_partition_test += 1\n",
        "\n",
        "    # Guardamos los resultados por particion\n",
        "    ej3_bc_lgreg_percentage_per_fold_train.append(correct_predictions_in_partition_train * 100 / breastc_current_partition_train.shape[0])\n",
        "    ej3_bc_lgreg_percentage_per_fold_test.append(correct_predictions_in_partition_test * 100 / breastc_current_partition_test.shape[0])\n",
        "    print ('Repetition {0}/{1} - Partition {2}/{3}'.format( (ej3_bc_lgreg_repetition_i + 1), ej3_bc_lgreg_repetitions, (test_partition + 1), ej3_bc_lgreg_k_fold) )\n",
        "  # Guardamos los promedios por repeticion\n",
        "  ej3_bc_lgreg_percentage_per_repetition_train.append(np.array(ej3_bc_lgreg_percentage_per_fold_train).mean())\n",
        "  ej3_bc_lgreg_percentage_per_repetition_test.append(np.array(ej3_bc_lgreg_percentage_per_fold_test).mean())\n",
        "\n",
        "# Reportamos los resultados promediados de los porcentajes de predicciones correctas por repeticion\n",
        "print('% Correct in Train: {0}'.format(np.mean(ej3_bc_lgreg_percentage_per_repetition_train)))\n",
        "print('% Correct in Test: {0}'.format(np.mean(ej3_bc_lgreg_percentage_per_repetition_test)))"
      ],
      "execution_count": 0,
      "outputs": [
        {
          "output_type": "stream",
          "text": [
            "Repetition 1/10 - Partition 1/5\n",
            "Repetition 1/10 - Partition 2/5\n",
            "Repetition 1/10 - Partition 3/5\n",
            "Repetition 1/10 - Partition 4/5\n",
            "Repetition 1/10 - Partition 5/5\n",
            "Repetition 2/10 - Partition 1/5\n",
            "Repetition 2/10 - Partition 2/5\n",
            "Repetition 2/10 - Partition 3/5\n",
            "Repetition 2/10 - Partition 4/5\n",
            "Repetition 2/10 - Partition 5/5\n",
            "Repetition 3/10 - Partition 1/5\n",
            "Repetition 3/10 - Partition 2/5\n",
            "Repetition 3/10 - Partition 3/5\n",
            "Repetition 3/10 - Partition 4/5\n",
            "Repetition 3/10 - Partition 5/5\n",
            "Repetition 4/10 - Partition 1/5\n",
            "Repetition 4/10 - Partition 2/5\n",
            "Repetition 4/10 - Partition 3/5\n",
            "Repetition 4/10 - Partition 4/5\n",
            "Repetition 4/10 - Partition 5/5\n",
            "Repetition 5/10 - Partition 1/5\n",
            "Repetition 5/10 - Partition 2/5\n",
            "Repetition 5/10 - Partition 3/5\n",
            "Repetition 5/10 - Partition 4/5\n",
            "Repetition 5/10 - Partition 5/5\n",
            "Repetition 6/10 - Partition 1/5\n",
            "Repetition 6/10 - Partition 2/5\n",
            "Repetition 6/10 - Partition 3/5\n",
            "Repetition 6/10 - Partition 4/5\n",
            "Repetition 6/10 - Partition 5/5\n",
            "Repetition 7/10 - Partition 1/5\n",
            "Repetition 7/10 - Partition 2/5\n",
            "Repetition 7/10 - Partition 3/5\n",
            "Repetition 7/10 - Partition 4/5\n",
            "Repetition 7/10 - Partition 5/5\n",
            "Repetition 8/10 - Partition 1/5\n",
            "Repetition 8/10 - Partition 2/5\n",
            "Repetition 8/10 - Partition 3/5\n",
            "Repetition 8/10 - Partition 4/5\n",
            "Repetition 8/10 - Partition 5/5\n",
            "Repetition 9/10 - Partition 1/5\n",
            "Repetition 9/10 - Partition 2/5\n",
            "Repetition 9/10 - Partition 3/5\n",
            "Repetition 9/10 - Partition 4/5\n",
            "Repetition 9/10 - Partition 5/5\n",
            "Repetition 10/10 - Partition 1/5\n",
            "Repetition 10/10 - Partition 2/5\n",
            "Repetition 10/10 - Partition 3/5\n",
            "Repetition 10/10 - Partition 4/5\n",
            "Repetition 10/10 - Partition 5/5\n",
            "% Correct in Train: 97.24603554734838\n",
            "% Correct in Test: 96.79519363232818\n"
          ],
          "name": "stdout"
        }
      ]
    },
    {
      "cell_type": "markdown",
      "metadata": {
        "id": "yKAnHWAzWURN",
        "colab_type": "text"
      },
      "source": [
        "#### Discusión"
      ]
    },
    {
      "cell_type": "markdown",
      "metadata": {
        "id": "mgIshMRfWXUT",
        "colab_type": "text"
      },
      "source": [
        "En esta instancia del problema el clasificador que utiliza un modelo de regresión logística tuvo un mejor porcentanje en comparación al clasificador bayesiano, y a diferencia del anterior problema no se requirió realizar una gran cantidad de operaciones ni de mucho tiempo de procesamiento. \n",
        "\n",
        "Lo cuál hace que la recomendación para esta instancia del problema sea un modelo por regresión logística.\n",
        "\n",
        "Aunado a la observación anterior, se pueden considerar las propiedades de los atributos, es decir que aunque trataramos los valores de los atributos como clases en una multinomial, estos valores si tienen una relación de orden y jerarquia entre ellos, puesto que eran grosores o tamaños y un valor de 10 si representaba un tamaño o grosor mayor a uno con valor 1, lo cual hace que para un clasificador con un modelo de regresión logística se pudiera prescindir de una reparametrización. \n",
        "\n",
        "Otra consideración para argumentar la recomendación es la independencia condicional de los atributos dada la clase, la cual es estricta en el clasificador bayesiano y en el modelo de regresión se puede llegar a parametros que pudieran ser inconsistentes con esa suposición y que permita la influencia de la posible dependencia condicional de los parametros. En este caso si pudieramos pensar que la información de alguno de los parametros nos dice algo para los demas, así que incorporar dicha influencia de la dependencia condicional nos orilla aún mas a escoger un modelo que utiliza regresión logística."
      ]
    }
  ]
}